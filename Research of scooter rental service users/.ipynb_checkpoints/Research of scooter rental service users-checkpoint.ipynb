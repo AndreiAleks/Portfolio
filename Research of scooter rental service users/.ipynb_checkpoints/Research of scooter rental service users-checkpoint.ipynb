{
 "cells": [
  {
   "cell_type": "markdown",
   "id": "f828903c",
   "metadata": {},
   "source": [
    "<div style=\"border:solid lightblue 3px; background:#f7faf8; padding: 20px\">\n",
    "<b>Андрей, привет!</b>\n",
    "\n",
    "Меня зовут Владимир Бердников, и я буду проверять твой проект. Предлагаю общаться на «ты», но если это не совсем удобно для тебя — дай знать, и мы перейдем на \"вы\". Моя цель не указать на совершённые тобой ошибки, а поделиться своим опытом и помочь улучшить навыки. \n",
    "    \n",
    "Пожалуйста, не перемещай, не удаляй и не правь мои комментарии. Всё это поможет выполнить повторную проверку твоего проекта оперативнее.\n",
    "\n",
    "При проверке работы я буду отмечать комментарии цветом и примечанием. В конце заголовка комментария указан номер итерации проверки.\n",
    "\n",
    "<div class=\"alert alert-block alert-danger\" style=\"border-radius: 15px; box-shadow: 4px 4px 4px; border: 1px solid \">\n",
    "<h2> Комментарий ревьюера v_1: <a class=\"tocSkip\"></h2>\n",
    "    \n",
    "❌ Комментарии такого цвета нужно исправить, иначе проект не будет принят. \n",
    "</div>\n",
    "\n",
    "<div class=\"alert alert-warning\" style=\"border-radius: 15px; box-shadow: 4px 4px 4px; border: 1px solid \">\n",
    "<h2> Комментарий ревьюера v_1: <a class=\"tocSkip\"> </h2>\n",
    "    \n",
    "⚠️ Такой комментарий является рекомендацией или советом. Mожешь учесть их при выполнении задания.\n",
    "</div>\n",
    "\n",
    "<div class=\"alert alert-success\" style=\"border-radius: 15px; box-shadow: 4px 4px 4px; border: 1px solid \">\n",
    "<h2> Комментарий ревьюера v_1: <a class=\"tocSkip\"> </h2>\n",
    "    \n",
    "✅ Так выделены все остальные комментарии, включая позитивные моменты, пояснения и рассуждения.\n",
    "</div>  \n",
    "    \n",
    "Давай работать над проектом в диалоге: если ты что-то меняешь вс проекте — пиши об этом в комментариях, например, с помощью такого кода в markdown ячейке:"
   ]
  },
  {
   "cell_type": "markdown",
   "id": "adef2ca5",
   "metadata": {},
   "source": [
    "<div class=\"alert alert-info\"  style=\"border-radius: 15px; box-shadow: 4px 4px 4px; border: 1px solid \">\n",
    "    \n",
    "<h2>Комментарий студента v_1: <a class=\"tocSkip\"> </h2>\n",
    "\n",
    "Ок.   "
   ]
  },
  {
   "cell_type": "markdown",
   "id": "be32bedf",
   "metadata": {},
   "source": []
  },
  {
   "cell_type": "markdown",
   "id": "7a020313",
   "metadata": {},
   "source": [
    "<div class=\"alert alert-block alert-danger\" style=\"border-radius: 15px; box-shadow: 4px 4px 4px; border: 1px solid \">\n",
    "<h2> Комментарий ревьюера v_1: <a class=\"tocSkip\"></h2>\n",
    "    \n",
    "❌ Необходимо добавить вступление (этот пункт есть в блоке курса: Полезные инструкции для учёбы - Оформление проекта - Рекомендации по выполнению проектов):\n",
    "    \t\n",
    "* заголовок\n",
    "* краткое описание проекта (желательно своими словами, не копируя из имеющегося описания)\n",
    "* цель проекта\n",
    "* описание данных (на усмотрение, данные можно описать в самой работе)\n",
    "* план работы.\n",
    "\n",
    "Со вступлением получатель отчета сможет получить общее представление о том, что будет в проекте\n"
   ]
  },
  {
   "cell_type": "markdown",
   "id": "3b565775-ffae-4daf-99d6-b2801b0742a7",
   "metadata": {},
   "source": [
    "# Проект: Статистический анализ данных "
   ]
  },
  {
   "cell_type": "markdown",
   "id": "7221ea8e-002a-4a01-b7f8-596446d53ba1",
   "metadata": {},
   "source": [
    "Проект по статистическому анализу данных в котором я представляю аналитика популярного сервиса аренды самокатов. Получены данные о пользователях из нескольких городов и их поездках. Требуется проанализировать данные и проверить гипотезы."
   ]
  },
  {
   "cell_type": "markdown",
   "id": "fbc2aa61-6070-4722-a859-cb8117740cf5",
   "metadata": {},
   "source": [
    "План работы: \n",
    "- Загрузка данных\n",
    "- Предобработка данных\n",
    "- Исследовательский анализ данных\n",
    "- Объединение данных\n",
    "- Подсчет выручки\n",
    "- Проверка гипотез\n",
    "- Работа с распределениями\n",
    "- Вывод"
   ]
  },
  {
   "cell_type": "markdown",
   "id": "ba25145c-3855-4e8a-81f6-86807f137fb4",
   "metadata": {},
   "source": [
    "<div class=\"alert alert-info\"  style=\"border-radius: 15px; box-shadow: 4px 4px 4px; border: 1px solid \">\n",
    "    \n",
    "<h2>Комментарий студента v_1: <a class=\"tocSkip\"> </h2>\n",
    "\n",
    "Выше добавил заголовок, краткое описание и план работы"
   ]
  },
  {
   "cell_type": "markdown",
   "id": "491849c5",
   "metadata": {},
   "source": [
    "<div class=\"alert alert-success\" style=\"border-radius: 15px; box-shadow: 4px 4px 4px; border: 1px solid \">\n",
    "<h2> Комментарий ревьюера v_2: <a class=\"tocSkip\"> </h2>\n",
    "    \n",
    "✅ Хорошо"
   ]
  },
  {
   "cell_type": "code",
   "execution_count": 1,
   "id": "72576667",
   "metadata": {},
   "outputs": [],
   "source": [
    "import pandas as pd\n",
    "import numpy as np\n",
    "from scipy.stats import uniform, norm\n",
    "from scipy import stats as st\n",
    "import matplotlib.pyplot as plt\n",
    "from scipy.stats import binom"
   ]
  },
  {
   "cell_type": "code",
   "execution_count": 2,
   "id": "4c080160-143b-4c74-8510-ac2f5d32d781",
   "metadata": {},
   "outputs": [],
   "source": [
    "pd.options.mode.chained_assignment = None"
   ]
  },
  {
   "cell_type": "markdown",
   "id": "c42cbe00",
   "metadata": {},
   "source": [
    "## Шаг 1. Загрузка данных"
   ]
  },
  {
   "cell_type": "code",
   "execution_count": 3,
   "id": "aa61f040-8425-4643-82ba-2895fbde10f9",
   "metadata": {},
   "outputs": [],
   "source": [
    "try:\n",
    "    users = pd.read_csv('/datasets/users_go.csv')\n",
    "except:\n",
    "    users = pd.read_csv('https://code.s3.yandex.net/datasets/users_go.csv')\n",
    "\n",
    "try:\n",
    "    riders = pd.read_csv('/datasets/rides_go.csv')\n",
    "except:\n",
    "    riders = pd.read_csv('https://code.s3.yandex.net/datasets/rides_go.csv')\n",
    "\n",
    "try:\n",
    "    subscriptions = pd.read_csv('/datasets/subscriptions_go.csv')\n",
    "except:\n",
    "    subscriptions = pd.read_csv('https://code.s3.yandex.net/datasets/subscriptions_go.csv')"
   ]
  },
  {
   "cell_type": "markdown",
   "id": "c6848355-fa24-4c45-8a7e-fabe5caee0eb",
   "metadata": {},
   "source": [
    "Первые 5 строк таблицы `users`"
   ]
  },
  {
   "cell_type": "code",
   "execution_count": 4,
   "id": "245f9d69-58bc-4048-b1b1-ce63520350b5",
   "metadata": {},
   "outputs": [
    {
     "data": {
      "text/html": [
       "<div>\n",
       "<style scoped>\n",
       "    .dataframe tbody tr th:only-of-type {\n",
       "        vertical-align: middle;\n",
       "    }\n",
       "\n",
       "    .dataframe tbody tr th {\n",
       "        vertical-align: top;\n",
       "    }\n",
       "\n",
       "    .dataframe thead th {\n",
       "        text-align: right;\n",
       "    }\n",
       "</style>\n",
       "<table border=\"1\" class=\"dataframe\">\n",
       "  <thead>\n",
       "    <tr style=\"text-align: right;\">\n",
       "      <th></th>\n",
       "      <th>user_id</th>\n",
       "      <th>name</th>\n",
       "      <th>age</th>\n",
       "      <th>city</th>\n",
       "      <th>subscription_type</th>\n",
       "    </tr>\n",
       "  </thead>\n",
       "  <tbody>\n",
       "    <tr>\n",
       "      <th>0</th>\n",
       "      <td>1</td>\n",
       "      <td>Кира</td>\n",
       "      <td>22</td>\n",
       "      <td>Тюмень</td>\n",
       "      <td>ultra</td>\n",
       "    </tr>\n",
       "    <tr>\n",
       "      <th>1</th>\n",
       "      <td>2</td>\n",
       "      <td>Станислав</td>\n",
       "      <td>31</td>\n",
       "      <td>Омск</td>\n",
       "      <td>ultra</td>\n",
       "    </tr>\n",
       "    <tr>\n",
       "      <th>2</th>\n",
       "      <td>3</td>\n",
       "      <td>Алексей</td>\n",
       "      <td>20</td>\n",
       "      <td>Москва</td>\n",
       "      <td>ultra</td>\n",
       "    </tr>\n",
       "    <tr>\n",
       "      <th>3</th>\n",
       "      <td>4</td>\n",
       "      <td>Константин</td>\n",
       "      <td>26</td>\n",
       "      <td>Ростов-на-Дону</td>\n",
       "      <td>ultra</td>\n",
       "    </tr>\n",
       "    <tr>\n",
       "      <th>4</th>\n",
       "      <td>5</td>\n",
       "      <td>Адель</td>\n",
       "      <td>28</td>\n",
       "      <td>Омск</td>\n",
       "      <td>ultra</td>\n",
       "    </tr>\n",
       "  </tbody>\n",
       "</table>\n",
       "</div>"
      ],
      "text/plain": [
       "   user_id        name  age            city subscription_type\n",
       "0        1        Кира   22          Тюмень             ultra\n",
       "1        2   Станислав   31            Омск             ultra\n",
       "2        3     Алексей   20          Москва             ultra\n",
       "3        4  Константин   26  Ростов-на-Дону             ultra\n",
       "4        5       Адель   28            Омск             ultra"
      ]
     },
     "execution_count": 4,
     "metadata": {},
     "output_type": "execute_result"
    }
   ],
   "source": [
    "users.head()"
   ]
  },
  {
   "cell_type": "markdown",
   "id": "6a2d3287-14b6-4646-9377-b4dab470e671",
   "metadata": {},
   "source": [
    "Информация по датафрейму `users`"
   ]
  },
  {
   "cell_type": "code",
   "execution_count": 5,
   "id": "bcd3f453-1245-4e47-bbad-0b2861107eb5",
   "metadata": {},
   "outputs": [
    {
     "name": "stdout",
     "output_type": "stream",
     "text": [
      "<class 'pandas.core.frame.DataFrame'>\n",
      "RangeIndex: 1565 entries, 0 to 1564\n",
      "Data columns (total 5 columns):\n",
      " #   Column             Non-Null Count  Dtype \n",
      "---  ------             --------------  ----- \n",
      " 0   user_id            1565 non-null   int64 \n",
      " 1   name               1565 non-null   object\n",
      " 2   age                1565 non-null   int64 \n",
      " 3   city               1565 non-null   object\n",
      " 4   subscription_type  1565 non-null   object\n",
      "dtypes: int64(2), object(3)\n",
      "memory usage: 61.3+ KB\n"
     ]
    }
   ],
   "source": [
    "users.info()"
   ]
  },
  {
   "cell_type": "markdown",
   "id": "936ec2ee",
   "metadata": {
    "jp-MarkdownHeadingCollapsed": true
   },
   "source": [
    "<div class=\"alert alert-warning\" style=\"border-radius: 15px; box-shadow: 4px 4px 4px; border: 1px solid \">\n",
    "<h2> Комментарий ревьюера v_1: <a class=\"tocSkip\"> </h2>\n",
    "    \n",
    "⚠️ Стоит еще прокомментировать, сколько записей в таблицах, какие в них есть типы данных"
   ]
  },
  {
   "cell_type": "markdown",
   "id": "ec3aa28a-0824-4a73-abac-52b5bd11bc93",
   "metadata": {},
   "source": [
    "Выведу первые строчки таблицы `riders`"
   ]
  },
  {
   "cell_type": "code",
   "execution_count": 6,
   "id": "40d8d30e-5f67-40d3-b10e-40665d1eb032",
   "metadata": {},
   "outputs": [
    {
     "data": {
      "text/html": [
       "<div>\n",
       "<style scoped>\n",
       "    .dataframe tbody tr th:only-of-type {\n",
       "        vertical-align: middle;\n",
       "    }\n",
       "\n",
       "    .dataframe tbody tr th {\n",
       "        vertical-align: top;\n",
       "    }\n",
       "\n",
       "    .dataframe thead th {\n",
       "        text-align: right;\n",
       "    }\n",
       "</style>\n",
       "<table border=\"1\" class=\"dataframe\">\n",
       "  <thead>\n",
       "    <tr style=\"text-align: right;\">\n",
       "      <th></th>\n",
       "      <th>user_id</th>\n",
       "      <th>distance</th>\n",
       "      <th>duration</th>\n",
       "      <th>date</th>\n",
       "    </tr>\n",
       "  </thead>\n",
       "  <tbody>\n",
       "    <tr>\n",
       "      <th>0</th>\n",
       "      <td>1</td>\n",
       "      <td>4409.919140</td>\n",
       "      <td>25.599769</td>\n",
       "      <td>2021-01-01</td>\n",
       "    </tr>\n",
       "    <tr>\n",
       "      <th>1</th>\n",
       "      <td>1</td>\n",
       "      <td>2617.592153</td>\n",
       "      <td>15.816871</td>\n",
       "      <td>2021-01-18</td>\n",
       "    </tr>\n",
       "    <tr>\n",
       "      <th>2</th>\n",
       "      <td>1</td>\n",
       "      <td>754.159807</td>\n",
       "      <td>6.232113</td>\n",
       "      <td>2021-04-20</td>\n",
       "    </tr>\n",
       "    <tr>\n",
       "      <th>3</th>\n",
       "      <td>1</td>\n",
       "      <td>2694.783254</td>\n",
       "      <td>18.511000</td>\n",
       "      <td>2021-08-11</td>\n",
       "    </tr>\n",
       "    <tr>\n",
       "      <th>4</th>\n",
       "      <td>1</td>\n",
       "      <td>4028.687306</td>\n",
       "      <td>26.265803</td>\n",
       "      <td>2021-08-28</td>\n",
       "    </tr>\n",
       "  </tbody>\n",
       "</table>\n",
       "</div>"
      ],
      "text/plain": [
       "   user_id     distance   duration        date\n",
       "0        1  4409.919140  25.599769  2021-01-01\n",
       "1        1  2617.592153  15.816871  2021-01-18\n",
       "2        1   754.159807   6.232113  2021-04-20\n",
       "3        1  2694.783254  18.511000  2021-08-11\n",
       "4        1  4028.687306  26.265803  2021-08-28"
      ]
     },
     "execution_count": 6,
     "metadata": {},
     "output_type": "execute_result"
    }
   ],
   "source": [
    "riders.head()"
   ]
  },
  {
   "cell_type": "markdown",
   "id": "749f8db6-3a08-4181-88ce-c90340ed244c",
   "metadata": {},
   "source": [
    "Информация по датафрейму `riders`"
   ]
  },
  {
   "cell_type": "code",
   "execution_count": 7,
   "id": "98254479-4b03-4ffb-bbfc-a8d32d0c42de",
   "metadata": {},
   "outputs": [
    {
     "name": "stdout",
     "output_type": "stream",
     "text": [
      "<class 'pandas.core.frame.DataFrame'>\n",
      "RangeIndex: 18068 entries, 0 to 18067\n",
      "Data columns (total 4 columns):\n",
      " #   Column    Non-Null Count  Dtype  \n",
      "---  ------    --------------  -----  \n",
      " 0   user_id   18068 non-null  int64  \n",
      " 1   distance  18068 non-null  float64\n",
      " 2   duration  18068 non-null  float64\n",
      " 3   date      18068 non-null  object \n",
      "dtypes: float64(2), int64(1), object(1)\n",
      "memory usage: 564.8+ KB\n"
     ]
    }
   ],
   "source": [
    "riders.info()"
   ]
  },
  {
   "cell_type": "markdown",
   "id": "32412890-3280-4cd9-832c-b0c1bc7eea24",
   "metadata": {},
   "source": [
    "У колонки `date` формат данных `object`, а должен быть `datetime`. Нужно исправить в предобработке данных."
   ]
  },
  {
   "cell_type": "markdown",
   "id": "388d4c51-d913-474a-9546-b0e97fc113e0",
   "metadata": {},
   "source": [
    "Выведу первые строчки таблицы `subscriptions`"
   ]
  },
  {
   "cell_type": "code",
   "execution_count": 8,
   "id": "ea0c103b-a25c-4941-867b-3075ce77a1aa",
   "metadata": {},
   "outputs": [
    {
     "data": {
      "text/html": [
       "<div>\n",
       "<style scoped>\n",
       "    .dataframe tbody tr th:only-of-type {\n",
       "        vertical-align: middle;\n",
       "    }\n",
       "\n",
       "    .dataframe tbody tr th {\n",
       "        vertical-align: top;\n",
       "    }\n",
       "\n",
       "    .dataframe thead th {\n",
       "        text-align: right;\n",
       "    }\n",
       "</style>\n",
       "<table border=\"1\" class=\"dataframe\">\n",
       "  <thead>\n",
       "    <tr style=\"text-align: right;\">\n",
       "      <th></th>\n",
       "      <th>subscription_type</th>\n",
       "      <th>minute_price</th>\n",
       "      <th>start_ride_price</th>\n",
       "      <th>subscription_fee</th>\n",
       "    </tr>\n",
       "  </thead>\n",
       "  <tbody>\n",
       "    <tr>\n",
       "      <th>0</th>\n",
       "      <td>free</td>\n",
       "      <td>8</td>\n",
       "      <td>50</td>\n",
       "      <td>0</td>\n",
       "    </tr>\n",
       "    <tr>\n",
       "      <th>1</th>\n",
       "      <td>ultra</td>\n",
       "      <td>6</td>\n",
       "      <td>0</td>\n",
       "      <td>199</td>\n",
       "    </tr>\n",
       "  </tbody>\n",
       "</table>\n",
       "</div>"
      ],
      "text/plain": [
       "  subscription_type  minute_price  start_ride_price  subscription_fee\n",
       "0              free             8                50                 0\n",
       "1             ultra             6                 0               199"
      ]
     },
     "execution_count": 8,
     "metadata": {},
     "output_type": "execute_result"
    }
   ],
   "source": [
    "subscriptions.head()"
   ]
  },
  {
   "cell_type": "markdown",
   "id": "89e0cec4-c7c5-4835-9318-74caaed74f5c",
   "metadata": {},
   "source": [
    "Информация по датафрейму `subscriptions`"
   ]
  },
  {
   "cell_type": "code",
   "execution_count": 9,
   "id": "1fe40059-1af0-4391-90b2-f3b2cd26177a",
   "metadata": {},
   "outputs": [
    {
     "name": "stdout",
     "output_type": "stream",
     "text": [
      "<class 'pandas.core.frame.DataFrame'>\n",
      "RangeIndex: 2 entries, 0 to 1\n",
      "Data columns (total 4 columns):\n",
      " #   Column             Non-Null Count  Dtype \n",
      "---  ------             --------------  ----- \n",
      " 0   subscription_type  2 non-null      object\n",
      " 1   minute_price       2 non-null      int64 \n",
      " 2   start_ride_price   2 non-null      int64 \n",
      " 3   subscription_fee   2 non-null      int64 \n",
      "dtypes: int64(3), object(1)\n",
      "memory usage: 192.0+ bytes\n"
     ]
    }
   ],
   "source": [
    "subscriptions.info()"
   ]
  },
  {
   "cell_type": "markdown",
   "id": "ad2baa3e-5e73-42d0-ad0a-0ad9db02edc0",
   "metadata": {},
   "source": [
    "Данных не много, пропущенных значений не выявлено, неверный формат только у даты в таблице `riders`."
   ]
  },
  {
   "cell_type": "markdown",
   "id": "06a95a76-eb69-43fe-a671-7bd43fa9ec4d",
   "metadata": {
    "jp-MarkdownHeadingCollapsed": true
   },
   "source": [
    "<div class=\"alert alert-info\"  style=\"border-radius: 15px; box-shadow: 4px 4px 4px; border: 1px solid \">\n",
    "    \n",
    "<h2>Комментарий студента v_1: <a class=\"tocSkip\"> </h2>\n",
    "\n",
    "То что выше, было, то что под этим комментарием - это новый, дополненный вывод."
   ]
  },
  {
   "cell_type": "markdown",
   "id": "c4d8108c",
   "metadata": {},
   "source": [
    "<div class=\"alert alert-success\" style=\"border-radius: 15px; box-shadow: 4px 4px 4px; border: 1px solid \">\n",
    "<h2> Комментарий ревьюера v_2: <a class=\"tocSkip\"> </h2>\n",
    "    \n",
    "✅ +"
   ]
  },
  {
   "cell_type": "markdown",
   "id": "ee864169-8747-4c38-8b7f-88b8f3616d51",
   "metadata": {},
   "source": [
    "В исходных данных три таблицы `users`, `riders`, `subscriptions`. \n",
    "\n",
    "`users` - таблица с информацией о пользователях, содержит поля: `user_id` с форматом данных `int64`, `name` с форматом данных `object`, `age` с форматом данных `int64`, `city` с форматом данных `object`, `subscription_type` с форматом данных `object`. В таблице 1565 строк.\n",
    " \n",
    "`riders` - таблица с информацией о поездках, содержит поля: `user_id` с форматом данных `int64`, `distance` с форматом данных `float64`, `duration` с форматом данных `float64`, `date` с форматом данных `object`, который нужно будет поменять на `datetime`. В таблице 18068 строк.\n",
    " \n",
    "`subscriptions` - таблица с информацией о подписках, содержит поля: `subscription_type` с форматом данных `object`, `minute_price` с форматом данных `int64`, `start_ride_price` с форматом данных `int64`, `subscription_fee` с форматом данных `int64`. В таблице 2 строки."
   ]
  },
  {
   "cell_type": "markdown",
   "id": "e95ebca7",
   "metadata": {
    "jp-MarkdownHeadingCollapsed": true
   },
   "source": [
    "## Шаг 2. Предобработка данных"
   ]
  },
  {
   "cell_type": "markdown",
   "id": "563b7c5b-4fda-4ba6-83d3-75eb687c77f7",
   "metadata": {},
   "source": [
    "Датафейм `riders`. Изменение формата даты. Добавление колонки с номерами месяца взятого из колонки с датой."
   ]
  },
  {
   "cell_type": "code",
   "execution_count": 10,
   "id": "af6d202c",
   "metadata": {},
   "outputs": [],
   "source": [
    "riders['date'] = pd.to_datetime(\n",
    "    riders['date'], format='%Y-%m-%d')\n",
    "riders['month'] = pd.DatetimeIndex(riders['date']).month"
   ]
  },
  {
   "cell_type": "code",
   "execution_count": 11,
   "id": "9cdef590-d7e0-4ad6-a1eb-62b45b16c7b7",
   "metadata": {
    "scrolled": true
   },
   "outputs": [
    {
     "name": "stdout",
     "output_type": "stream",
     "text": [
      "<class 'pandas.core.frame.DataFrame'>\n",
      "RangeIndex: 18068 entries, 0 to 18067\n",
      "Data columns (total 5 columns):\n",
      " #   Column    Non-Null Count  Dtype         \n",
      "---  ------    --------------  -----         \n",
      " 0   user_id   18068 non-null  int64         \n",
      " 1   distance  18068 non-null  float64       \n",
      " 2   duration  18068 non-null  float64       \n",
      " 3   date      18068 non-null  datetime64[ns]\n",
      " 4   month     18068 non-null  int32         \n",
      "dtypes: datetime64[ns](1), float64(2), int32(1), int64(1)\n",
      "memory usage: 635.3 KB\n"
     ]
    }
   ],
   "source": [
    "riders.info()"
   ]
  },
  {
   "cell_type": "markdown",
   "id": "a1c0cf78",
   "metadata": {
    "jp-MarkdownHeadingCollapsed": true
   },
   "source": [
    "<div class=\"alert alert-warning\" style=\"border-radius: 15px; box-shadow: 4px 4px 4px; border: 1px solid \">\n",
    "<h2> Комментарий ревьюера v_1: <a class=\"tocSkip\"> </h2>\n",
    "    \n",
    "⚠️ Желательно еще проверить, за какой период имеются данные. Создается столбец с номерами месяцев, если здесь несколько лет, следует это учитывать."
   ]
  },
  {
   "cell_type": "code",
   "execution_count": 12,
   "id": "c97cfbfd-b08c-4807-9a4c-f530fdda0c27",
   "metadata": {},
   "outputs": [
    {
     "data": {
      "text/plain": [
       "(Timestamp('2021-01-01 00:00:00'), Timestamp('2021-12-30 00:00:00'))"
      ]
     },
     "execution_count": 12,
     "metadata": {},
     "output_type": "execute_result"
    }
   ],
   "source": [
    "riders['date'].min(), riders['date'].max()"
   ]
  },
  {
   "cell_type": "markdown",
   "id": "ca36d331-bc2e-4809-850f-9b7d96ed8b7c",
   "metadata": {},
   "source": [
    "Минимальная и максимальная даты. В данных период за один год. Поэтому можно идти дальше."
   ]
  },
  {
   "cell_type": "markdown",
   "id": "aacb3f29-9559-4834-9c53-6b7ef0c8dc54",
   "metadata": {
    "jp-MarkdownHeadingCollapsed": true
   },
   "source": [
    "<div class=\"alert alert-info\"  style=\"border-radius: 15px; box-shadow: 4px 4px 4px; border: 1px solid \">\n",
    "    \n",
    "<h2>Комментарий студента v_1: <a class=\"tocSkip\"> </h2>\n",
    "\n",
    "Выше добавил расчет периода и комментарий.   "
   ]
  },
  {
   "cell_type": "markdown",
   "id": "98839cbd",
   "metadata": {},
   "source": [
    "<div class=\"alert alert-success\" style=\"border-radius: 15px; box-shadow: 4px 4px 4px; border: 1px solid \">\n",
    "<h2> Комментарий ревьюера v_2: <a class=\"tocSkip\"> </h2>\n",
    "    \n",
    "✅ Данные за один год"
   ]
  },
  {
   "cell_type": "markdown",
   "id": "e701585e-39f2-411d-980d-abb2b3949856",
   "metadata": {},
   "source": [
    "Формат изменился, колонка с месяцем добавилась."
   ]
  },
  {
   "cell_type": "markdown",
   "id": "928ff639-31d9-4128-84e2-17728607935f",
   "metadata": {},
   "source": [
    "Проверка на дубликаты. Единственное место где можно выявить дубликаты - это в таблице `users` в колонке `user_id`"
   ]
  },
  {
   "cell_type": "code",
   "execution_count": 13,
   "id": "d1114a7a-9814-489e-8f43-187fa100910a",
   "metadata": {},
   "outputs": [
    {
     "data": {
      "text/plain": [
       "user_id\n",
       "209    2\n",
       "807    2\n",
       "611    2\n",
       "43     2\n",
       "737    2\n",
       "Name: count, dtype: int64"
      ]
     },
     "execution_count": 13,
     "metadata": {},
     "output_type": "execute_result"
    }
   ],
   "source": [
    "users['user_id'].value_counts().head(5)"
   ]
  },
  {
   "cell_type": "markdown",
   "id": "ab41ca79-6679-4b9a-b3bf-5b7f0f61601b",
   "metadata": {},
   "source": [
    "Дупликаты обнаружены. Лишнее удаляю."
   ]
  },
  {
   "cell_type": "markdown",
   "id": "fbde01fc",
   "metadata": {
    "jp-MarkdownHeadingCollapsed": true
   },
   "source": [
    "<div class=\"alert alert-block alert-danger\" style=\"border-radius: 15px; box-shadow: 4px 4px 4px; border: 1px solid \">\n",
    "<h2> Комментарий ревьюера v_1: <a class=\"tocSkip\"></h2>\n",
    "    \n",
    "❌ Но лучше вывести количество выявленных дубликатов. И необходимо проверить явные полные дубликаты во второй таблице"
   ]
  },
  {
   "cell_type": "code",
   "execution_count": 14,
   "id": "e46d2914-a1f2-4b2b-9bc8-7cd54df26659",
   "metadata": {},
   "outputs": [
    {
     "data": {
      "text/plain": [
       "31"
      ]
     },
     "execution_count": 14,
     "metadata": {},
     "output_type": "execute_result"
    }
   ],
   "source": [
    "users.duplicated().sum()"
   ]
  },
  {
   "cell_type": "code",
   "execution_count": 15,
   "id": "5bce5a07-2213-4ef3-b8ee-7198c3fb386a",
   "metadata": {},
   "outputs": [
    {
     "data": {
      "text/plain": [
       "0"
      ]
     },
     "execution_count": 15,
     "metadata": {},
     "output_type": "execute_result"
    }
   ],
   "source": [
    "riders.duplicated().sum()"
   ]
  },
  {
   "cell_type": "markdown",
   "id": "dd2ab16d-5c9d-4796-af0a-1e93b5d12461",
   "metadata": {
    "jp-MarkdownHeadingCollapsed": true
   },
   "source": [
    "<div class=\"alert alert-info\"  style=\"border-radius: 15px; box-shadow: 4px 4px 4px; border: 1px solid \">\n",
    "    \n",
    "<h2>Комментарий студента v_1: <a class=\"tocSkip\"> </h2>\n",
    "\n",
    "Выше проверил количество дубликатов в первой и второй таблице.   "
   ]
  },
  {
   "cell_type": "markdown",
   "id": "3c73e831",
   "metadata": {},
   "source": [
    "<div class=\"alert alert-success\" style=\"border-radius: 15px; box-shadow: 4px 4px 4px; border: 1px solid \">\n",
    "<h2> Комментарий ревьюера v_2: <a class=\"tocSkip\"> </h2>\n",
    "    \n",
    "✅ Принято"
   ]
  },
  {
   "cell_type": "code",
   "execution_count": 16,
   "id": "5e865ee2-c624-427b-ba7c-9b9745215a6e",
   "metadata": {},
   "outputs": [],
   "source": [
    "users = users.drop_duplicates()"
   ]
  },
  {
   "cell_type": "code",
   "execution_count": 17,
   "id": "a37e4e64-14ed-4af0-aea1-0867e760b232",
   "metadata": {},
   "outputs": [
    {
     "name": "stdout",
     "output_type": "stream",
     "text": [
      "<class 'pandas.core.frame.DataFrame'>\n",
      "Index: 1534 entries, 0 to 1533\n",
      "Data columns (total 5 columns):\n",
      " #   Column             Non-Null Count  Dtype \n",
      "---  ------             --------------  ----- \n",
      " 0   user_id            1534 non-null   int64 \n",
      " 1   name               1534 non-null   object\n",
      " 2   age                1534 non-null   int64 \n",
      " 3   city               1534 non-null   object\n",
      " 4   subscription_type  1534 non-null   object\n",
      "dtypes: int64(2), object(3)\n",
      "memory usage: 71.9+ KB\n"
     ]
    }
   ],
   "source": [
    "users.info()"
   ]
  },
  {
   "cell_type": "markdown",
   "id": "e6e9fef6-41da-453e-a5fc-367ae9a090e5",
   "metadata": {},
   "source": [
    "Было 1565 строк, стало 1534. 31 дубликат удален."
   ]
  },
  {
   "cell_type": "markdown",
   "id": "212593c7",
   "metadata": {},
   "source": [
    "## Шаг 3. Исследовательский анализ данных"
   ]
  },
  {
   "cell_type": "markdown",
   "id": "01309149-2823-4f67-b8b5-c55cc3f0270b",
   "metadata": {},
   "source": [
    "### Частота встречаемости городов"
   ]
  },
  {
   "cell_type": "markdown",
   "id": "074a5cf5-d4d9-4970-bd21-8a1d510a2494",
   "metadata": {},
   "source": [
    "users['city'].value_counts().plot.bar();"
   ]
  },
  {
   "cell_type": "markdown",
   "id": "b2510eff",
   "metadata": {},
   "source": [
    "<div class=\"alert alert-warning\" style=\"border-radius: 15px; box-shadow: 4px 4px 4px; border: 1px solid \">\n",
    "<h2> Комментарий ревьюера v_1: <a class=\"tocSkip\"> </h2>\n",
    "    \n",
    "⚠️ Для большего удобства при считывании визуализации лучше использовать линейчатую диаграмму (столбчатую диаграмму с горизонтальными столбцами), т.е. повернуть ее на 90 градусов. Это позволит расположить названия городов горизонтально. "
   ]
  },
  {
   "cell_type": "markdown",
   "id": "6c4401e4",
   "metadata": {},
   "source": [
    "<div class=\"alert alert-block alert-danger\" style=\"border-radius: 15px; box-shadow: 4px 4px 4px; border: 1px solid \">\n",
    "<h2> Комментарий ревьюера v_1: <a class=\"tocSkip\"></h2>\n",
    "    \n",
    "❌ Но не хватает заголовка и подписей на осях. Это замечание актуально для всех визуализаций в этом проекте."
   ]
  },
  {
   "cell_type": "code",
   "execution_count": 18,
   "id": "7184e7f1-0df4-4f13-a779-a299414e04a5",
   "metadata": {},
   "outputs": [
    {
     "data": {
      "image/png": "[encoded data removed]",
      "text/plain": [
       "<Figure size 640x480 with 1 Axes>"
      ]
     },
     "metadata": {},
     "output_type": "display_data"
    }
   ],
   "source": [
    "fig, ax = plt.subplots()\n",
    "\n",
    "ax.barh(users['city'].unique(), users['city'].value_counts())\n",
    "\n",
    "ax.set_title('Частота встречаемости городов', size = 15)\n",
    "ax.set_ylabel('Город')\n",
    "ax.set_xlabel('Количество упоминаний городов')\n",
    "plt.show()"
   ]
  },
  {
   "cell_type": "markdown",
   "id": "90a63bc5-14c4-4d1d-99bc-7f21b9551184",
   "metadata": {},
   "source": [
    "<div class=\"alert alert-info\"  style=\"border-radius: 15px; box-shadow: 4px 4px 4px; border: 1px solid \">\n",
    "    \n",
    "<h2>Комментарий студента v_1: <a class=\"tocSkip\"> </h2>\n",
    "\n",
    "Выше все исправил.   "
   ]
  },
  {
   "cell_type": "markdown",
   "id": "a6b5c0a3",
   "metadata": {},
   "source": [
    "<div class=\"alert alert-block alert-danger\" style=\"border-radius: 15px; box-shadow: 4px 4px 4px; border: 1px solid \">\n",
    "<h2> Комментарий ревьюера v_2: <a class=\"tocSkip\"></h2>\n",
    "    \n",
    "❌ Не все визуализации ниже подписаны"
   ]
  },
  {
   "cell_type": "markdown",
   "id": "0fd3c240",
   "metadata": {},
   "source": [
    "<div class=\"alert alert-success\" style=\"border-radius: 15px; box-shadow: 4px 4px 4px; border: 1px solid \">\n",
    "<h2> Комментарий ревьюера v_3: <a class=\"tocSkip\"> </h2>\n",
    "    \n",
    "✅ Принято"
   ]
  },
  {
   "cell_type": "code",
   "execution_count": 19,
   "id": "466242ff-1827-4cde-886b-92eb824f42cc",
   "metadata": {},
   "outputs": [
    {
     "data": {
      "text/plain": [
       "city\n",
       "Пятигорск         219\n",
       "Екатеринбург      204\n",
       "Ростов-на-Дону    198\n",
       "Краснодар         193\n",
       "Сочи              189\n",
       "Омск              183\n",
       "Тюмень            180\n",
       "Москва            168\n",
       "Name: count, dtype: int64"
      ]
     },
     "execution_count": 19,
     "metadata": {},
     "output_type": "execute_result"
    }
   ],
   "source": [
    "users['city'].value_counts()"
   ]
  },
  {
   "cell_type": "markdown",
   "id": "806948d8-ad89-44c3-ba77-e390a182b87a",
   "metadata": {},
   "source": [
    "В таблице представлено 8 городов. Москва по частоте встречаемости занимает последнее место, Пятигорск - первое. "
   ]
  },
  {
   "cell_type": "markdown",
   "id": "5edbccdf-8fc9-4470-84d9-669197222534",
   "metadata": {},
   "source": [
    "### Соотношение пользователей с подпиской и без подписки"
   ]
  },
  {
   "cell_type": "markdown",
   "id": "5928be3f-d46a-4c0f-86dc-b18bd6c186b2",
   "metadata": {
    "scrolled": true
   },
   "source": [
    "users['subscription_type'].value_counts().plot.bar();"
   ]
  },
  {
   "cell_type": "markdown",
   "id": "1b9f96e3",
   "metadata": {},
   "source": [
    "<div class=\"alert alert-warning\" style=\"border-radius: 15px; box-shadow: 4px 4px 4px; border: 1px solid \">\n",
    "<h2> Комментарий ревьюера v_1: <a class=\"tocSkip\"> </h2>\n",
    "    \n",
    "⚠️ Здесь подошла бы круговая диаграмма, с ее помощью можно показать соотношение двух категорий в процентах. О том, как подписывать диаграмму, есть в документации по [ссылке](https://matplotlib.org/stable/gallery/pie_and_polar_charts/pie_features.html)"
   ]
  },
  {
   "cell_type": "markdown",
   "id": "6293c9bf",
   "metadata": {},
   "source": [
    "<div class=\"alert alert-block alert-danger\" style=\"border-radius: 15px; box-shadow: 4px 4px 4px; border: 1px solid \">\n",
    "<h2> Комментарий ревьюера v_1: <a class=\"tocSkip\"></h2>\n",
    "    \n",
    "❌ Либо на круговой диаграмме, либо в таблице, либо на указанном графике необходимо добавить подписи в виде процентов/долей, т.к. нужно показать соотношение. "
   ]
  },
  {
   "cell_type": "code",
   "execution_count": 20,
   "id": "18ec20f8-c7b1-4397-81f4-5abdeb4c961e",
   "metadata": {},
   "outputs": [
    {
     "data": {
      "image/png": "[encoded data removed]",
      "text/plain": [
       "<Figure size 640x480 with 1 Axes>"
      ]
     },
     "metadata": {},
     "output_type": "display_data"
    }
   ],
   "source": [
    "fig, ax = plt.subplots()\n",
    "\n",
    "ax.pie(users['subscription_type'].value_counts(), labels=['free', 'ultra'], autopct='%1.1f%%')\n",
    "\n",
    "ax.set_title('Соотношение пользователей с подпиской и без подписки', size = 15)\n",
    "\n",
    "plt.show()"
   ]
  },
  {
   "cell_type": "markdown",
   "id": "dcce8a46-26bc-40ef-80a9-88a2a4f7e708",
   "metadata": {},
   "source": [
    "<div class=\"alert alert-info\"  style=\"border-radius: 15px; box-shadow: 4px 4px 4px; border: 1px solid \">\n",
    "    \n",
    "<h2>Комментарий студента v_1: <a class=\"tocSkip\"> </h2>\n",
    "\n",
    "Выше сделал все как надо.   "
   ]
  },
  {
   "cell_type": "markdown",
   "id": "e45dc205",
   "metadata": {},
   "source": [
    "<div class=\"alert alert-success\" style=\"border-radius: 15px; box-shadow: 4px 4px 4px; border: 1px solid \">\n",
    "<h2> Комментарий ревьюера v_2: <a class=\"tocSkip\"> </h2>\n",
    "    \n",
    "✅ +"
   ]
  },
  {
   "cell_type": "code",
   "execution_count": 21,
   "id": "25c92017-a1d9-43e1-ad0c-88c6f8c78339",
   "metadata": {},
   "outputs": [
    {
     "data": {
      "text/plain": [
       "subscription_type\n",
       "free     835\n",
       "ultra    699\n",
       "Name: count, dtype: int64"
      ]
     },
     "execution_count": 21,
     "metadata": {},
     "output_type": "execute_result"
    }
   ],
   "source": [
    "users['subscription_type'].value_counts()"
   ]
  },
  {
   "cell_type": "markdown",
   "id": "ccbed748-296e-493b-b7df-7fa860458ae8",
   "metadata": {},
   "source": [
    "Разница в пользователях с подпиской и без в 135 пользователей. Это 16% от 835 или 8.8% от 1534(общее число пользователей с подпиской и без)"
   ]
  },
  {
   "cell_type": "markdown",
   "id": "4ed58f85-bb3d-4df7-8e05-bc7de6f3b7a3",
   "metadata": {},
   "source": [
    "### Возраст пользователей"
   ]
  },
  {
   "cell_type": "markdown",
   "id": "073c53cf-27c3-432c-8d22-6a6cbb9a9b6c",
   "metadata": {
    "scrolled": true
   },
   "source": [
    "fig, ax = plt.subplots()\n",
    "\n",
    "ax.hist(users['age'], bins=30, linewidth=0.5, edgecolor=\"white\")\n",
    "ax.grid()\n",
    "\n",
    "ax.set_xlabel('age')\n",
    "plt.show()"
   ]
  },
  {
   "cell_type": "markdown",
   "id": "bcb09967-d948-4583-bb8b-44c135aa078f",
   "metadata": {},
   "source": [
    "<div class=\"alert alert-info\"  style=\"border-radius: 15px; box-shadow: 4px 4px 4px; border: 1px solid \">\n",
    "    \n",
    "<h2>Комментарий студента v_2: <a class=\"tocSkip\"> </h2>\n",
    "\n",
    "Ниже сделал новый график с подписями осей и графика"
   ]
  },
  {
   "cell_type": "code",
   "execution_count": 22,
   "id": "38b7a766-e7a6-4abf-a371-e2ba74b8de3b",
   "metadata": {},
   "outputs": [
    {
     "data": {
      "image/png": "[encoded data removed]",
      "text/plain": [
       "<Figure size 640x480 with 1 Axes>"
      ]
     },
     "metadata": {},
     "output_type": "display_data"
    }
   ],
   "source": [
    "fig, ax = plt.subplots()\n",
    "\n",
    "ax.hist(users['age'], bins=30, linewidth=0.5, edgecolor=\"white\")\n",
    "ax.grid()\n",
    "\n",
    "ax.set_title('Возраст пользователей')\n",
    "ax.set_xlabel('Возраст')\n",
    "ax.set_ylabel('Количество пользователей')\n",
    "plt.show()"
   ]
  },
  {
   "cell_type": "markdown",
   "id": "31bc0017",
   "metadata": {},
   "source": [
    "<div class=\"alert alert-warning\" style=\"border-radius: 15px; box-shadow: 4px 4px 4px; border: 1px solid \">\n",
    "<h2> Комментарий ревьюера v_1: <a class=\"tocSkip\"> </h2>\n",
    "    \n",
    "⚠️ Не лишним было бы подробнее изучить данные с использованием функции `describe()`. С ее помощью можно увидеть точное минимальное и максимальное значения, определить медиану и среднее, в качестве диапазона часто встречающихся значений для выводов можно выбрать данные от первого до третьего квартиля (25% и 75%). Рекомендация актуальна и для других пунктов (ниже) данного шага."
   ]
  },
  {
   "cell_type": "code",
   "execution_count": 23,
   "id": "502b9613-9bc3-412d-9153-b39f6bc6c73c",
   "metadata": {},
   "outputs": [
    {
     "data": {
      "text/plain": [
       "count    1534.000000\n",
       "mean       24.903520\n",
       "std         4.572367\n",
       "min        12.000000\n",
       "25%        22.000000\n",
       "50%        25.000000\n",
       "75%        28.000000\n",
       "max        43.000000\n",
       "Name: age, dtype: float64"
      ]
     },
     "execution_count": 23,
     "metadata": {},
     "output_type": "execute_result"
    }
   ],
   "source": [
    "users['age'].describe()"
   ]
  },
  {
   "cell_type": "markdown",
   "id": "cabd91bd-9c69-40dc-87cb-a5ca117a006d",
   "metadata": {},
   "source": [
    "Вывод:\n",
    "\n",
    "Среднее и медиана почти совпадают. Средний возраст пользователей 25 лет. Чаще всего встречаются пользователи возрастом 22-28 лет. "
   ]
  },
  {
   "cell_type": "markdown",
   "id": "419c5ec3-84a2-4bed-b623-d4eba2ff4e45",
   "metadata": {},
   "source": [
    "<div class=\"alert alert-info\"  style=\"border-radius: 15px; box-shadow: 4px 4px 4px; border: 1px solid \">\n",
    "    \n",
    "<h2>Комментарий студента v_1: <a class=\"tocSkip\"> </h2>\n",
    "\n",
    "Выше учел комментарий, проанализировал данные через `describe`, написал вывод.   "
   ]
  },
  {
   "cell_type": "code",
   "execution_count": 24,
   "id": "204217e6-f3f0-4dd7-ab92-d4f544fc00ed",
   "metadata": {},
   "outputs": [
    {
     "data": {
      "text/plain": [
       "age\n",
       "25    145\n",
       "24    132\n",
       "26    131\n",
       "23    129\n",
       "22    119\n",
       "27    119\n",
       "28    112\n",
       "21     93\n",
       "20     71\n",
       "30     68\n",
       "Name: count, dtype: int64"
      ]
     },
     "execution_count": 24,
     "metadata": {},
     "output_type": "execute_result"
    }
   ],
   "source": [
    "users['age'].value_counts().head(10)"
   ]
  },
  {
   "cell_type": "markdown",
   "id": "6bf214e2-3ff2-4e48-b3c4-e3155378b60a",
   "metadata": {},
   "source": [
    "По графику можно определить, что больше всего пользователей с возрастом 25 лет. 2 и 3 место 24 и 26 лет, далее расходится в право и влево почти ровным \"колоколом\" от 15 до 35 лет. "
   ]
  },
  {
   "cell_type": "markdown",
   "id": "7070e612-787d-431f-80b6-9e3ae6bf0186",
   "metadata": {},
   "source": [
    "### Расстояние, которое пользователь преодолел за одну поездку"
   ]
  },
  {
   "cell_type": "markdown",
   "id": "a6574a29-0ce5-48de-b68e-4d2984c321a6",
   "metadata": {},
   "source": [
    "fig, ax = plt.subplots()\n",
    "\n",
    "ax.hist(riders['distance'], bins=50, linewidth=0.5, edgecolor=\"white\")\n",
    "ax.grid()\n",
    "\n",
    "ax.set_xlabel('distance')\n",
    "plt.show()"
   ]
  },
  {
   "cell_type": "markdown",
   "id": "07792150-21b6-418c-beff-d602d7e8e64c",
   "metadata": {},
   "source": [
    "<div class=\"alert alert-info\"  style=\"border-radius: 15px; box-shadow: 4px 4px 4px; border: 1px solid \">\n",
    "    \n",
    "<h2>Комментарий студента v_2: <a class=\"tocSkip\"> </h2>\n",
    "\n",
    "Ниже сделал новый график с подписями осей и графика"
   ]
  },
  {
   "cell_type": "code",
   "execution_count": 25,
   "id": "f75e578e-7054-4bfa-8010-3092835073c2",
   "metadata": {},
   "outputs": [
    {
     "data": {
      "image/png": "[encoded data removed]",
      "text/plain": [
       "<Figure size 640x480 with 1 Axes>"
      ]
     },
     "metadata": {},
     "output_type": "display_data"
    }
   ],
   "source": [
    "fig, ax = plt.subplots()\n",
    "\n",
    "ax.hist(riders['distance'], bins=50, linewidth=0.5, edgecolor=\"white\")\n",
    "ax.grid()\n",
    "\n",
    "ax.set_title('Расстояние, которое пользователь преодолел за одну поездку')\n",
    "ax.set_xlabel('Расстояние в метрах')\n",
    "ax.set_ylabel('Количество поездок')\n",
    "plt.show()"
   ]
  },
  {
   "cell_type": "markdown",
   "id": "e7ab1ed1-a27b-4504-b9ea-25adce51b099",
   "metadata": {},
   "source": [
    "На графике видны два всплеска, первый слабый на дистанции 500-600 метров, второй - основной на дистанции 3000-3100. Это говорит о том, что пользователи предпочитают использовать этот способ передвижения в основном на эти расстояния. Больше 7 км никто не катается и это значит, что на расстояния больше 7 км пользователи предпочитают другие средства передвижения(такси, общественный наземный и подземный транспорт."
   ]
  },
  {
   "cell_type": "markdown",
   "id": "12a5100b",
   "metadata": {},
   "source": [
    "<div class=\"alert alert-success\" style=\"border-radius: 15px; box-shadow: 4px 4px 4px; border: 1px solid \">\n",
    "<h2> Комментарий ревьюера v_1: <a class=\"tocSkip\"> </h2>\n",
    "    \n",
    "✅ Слева на графике виден небольшой всплеск. Часть клиентов используют самокаты для очень коротких поездок"
   ]
  },
  {
   "cell_type": "markdown",
   "id": "458e6fbb-96db-496c-95c2-e7b02c52415c",
   "metadata": {},
   "source": [
    "### Продолжителность поездок"
   ]
  },
  {
   "cell_type": "markdown",
   "id": "e1bfd70e-75a3-451d-8677-81ad7c36db89",
   "metadata": {},
   "source": [
    "fig, ax = plt.subplots()\n",
    "\n",
    "ax.hist(riders['duration'], bins=200)\n",
    "ax.grid()\n",
    "\n",
    "ax.set_xlabel('duration')\n",
    "plt.show()"
   ]
  },
  {
   "cell_type": "markdown",
   "id": "f1b4f695-6943-4241-ab3f-41e232d11a4d",
   "metadata": {},
   "source": [
    "<div class=\"alert alert-info\"  style=\"border-radius: 15px; box-shadow: 4px 4px 4px; border: 1px solid \">\n",
    "    \n",
    "<h2>Комментарий студента v_2: <a class=\"tocSkip\"> </h2>\n",
    "\n",
    "Ниже сделал новый график с подписями осей и графика"
   ]
  },
  {
   "cell_type": "code",
   "execution_count": 26,
   "id": "74bdce0e-71de-43ba-a830-c4564bcf7f34",
   "metadata": {},
   "outputs": [
    {
     "data": {
      "image/png": "[encoded data removed]",
      "text/plain": [
       "<Figure size 640x480 with 1 Axes>"
      ]
     },
     "metadata": {},
     "output_type": "display_data"
    }
   ],
   "source": [
    "fig, ax = plt.subplots()\n",
    "\n",
    "ax.hist(riders['duration'], bins=200)\n",
    "ax.grid()\n",
    "\n",
    "ax.set_title('Продолжителность поездок')\n",
    "ax.set_xlabel('Длительность поездки в минутах')\n",
    "ax.set_ylabel('Количество поездок')\n",
    "plt.show()"
   ]
  },
  {
   "cell_type": "markdown",
   "id": "e75da1c6-0a86-48a6-96d0-effdc8d555bb",
   "metadata": {},
   "source": [
    "График говорит о том, что среднее время поездок равно 17,5 минутам. Так же есть отдельный всплеск поездок по 1 минуте. Этот график совпадает с графиком по дистанции. Из этого можно предположить, что пользователи берут на минутку самокаты для того, что бы проехать 500-600 метров и на 17.5 минут(в среднем) для поездок на расстояние 3 км(в среднем)"
   ]
  },
  {
   "cell_type": "markdown",
   "id": "289eb853",
   "metadata": {},
   "source": [
    "<div class=\"alert alert-warning\" style=\"border-radius: 15px; box-shadow: 4px 4px 4px; border: 1px solid \">\n",
    "<h2> Комментарий ревьюера v_1: <a class=\"tocSkip\"> </h2>\n",
    "    \n",
    "⚠️ Дополнительно можно посмотреть, есть ли в столбце с продолжительностью сессии аномалии. Можно сравнить продолжительность сессий и расстояние поездок и прокомментировать, насколько реально можно проехать такое расстояние за указанное время. В случае обнаружения удалять не рекомендуется, лучше сначала выяснить причину их появления."
   ]
  },
  {
   "cell_type": "markdown",
   "id": "6ce6bdf7-1808-41cd-bb8d-dd9b93ac5298",
   "metadata": {},
   "source": [
    "Проверка максимальных значений длительности сессии и и расстояния за сессию."
   ]
  },
  {
   "cell_type": "code",
   "execution_count": 27,
   "id": "978c9b18-d1f2-4c03-bc7b-445d991fc710",
   "metadata": {},
   "outputs": [
    {
     "data": {
      "text/plain": [
       "(40.82396261922424, 7211.007744598519)"
      ]
     },
     "execution_count": 27,
     "metadata": {},
     "output_type": "execute_result"
    }
   ],
   "source": [
    "riders['duration'].max(), riders['distance'].max()"
   ]
  },
  {
   "cell_type": "markdown",
   "id": "a1f13785-7df5-4ca6-aaa3-30566b969043",
   "metadata": {},
   "source": [
    "40 минут и 7211 метров. Можно перевести это в привычные километры в час и понять на сколько это реально и безопасно."
   ]
  },
  {
   "cell_type": "code",
   "execution_count": 28,
   "id": "b8c4c545-f57f-4445-abfd-ae220c1cf435",
   "metadata": {},
   "outputs": [
    {
     "data": {
      "text/plain": [
       "10.598198629355222"
      ]
     },
     "execution_count": 28,
     "metadata": {},
     "output_type": "execute_result"
    }
   ],
   "source": [
    "riders['distance'].max() / 1000 * 60 / riders['duration'].max()"
   ]
  },
  {
   "cell_type": "markdown",
   "id": "8f2821b0-31e7-4783-ac29-ad411547998d",
   "metadata": {},
   "source": [
    "Получилось 10.5 км/ч. Не так много и вполне реалистично."
   ]
  },
  {
   "cell_type": "markdown",
   "id": "c892ad8c-1c59-4a93-a7f3-4a19aff29057",
   "metadata": {
    "jp-MarkdownHeadingCollapsed": true
   },
   "source": [
    "<div class=\"alert alert-info\"  style=\"border-radius: 15px; box-shadow: 4px 4px 4px; border: 1px solid \">\n",
    "    \n",
    "<h2>Комментарий студента v_1: <a class=\"tocSkip\"> </h2>\n",
    "\n",
    "Учел коментарий и провел расчет с описанием выше."
   ]
  },
  {
   "cell_type": "markdown",
   "id": "4ef51331",
   "metadata": {},
   "source": [
    "## Шаг 4. Объединение данных"
   ]
  },
  {
   "cell_type": "markdown",
   "id": "e96598db-c9a1-4234-bdd2-cc1d62f5c612",
   "metadata": {},
   "source": [
    "### Объединение данных о пользователях, поездках и подписках в один датафрейм"
   ]
  },
  {
   "cell_type": "code",
   "execution_count": 29,
   "id": "6bf288b5",
   "metadata": {},
   "outputs": [],
   "source": [
    "general = users.merge(riders, on='user_id', how='outer')"
   ]
  },
  {
   "cell_type": "code",
   "execution_count": 30,
   "id": "518a6e0a-f053-4088-81da-a6181a58b025",
   "metadata": {},
   "outputs": [],
   "source": [
    "general = general.merge(subscriptions, on='subscription_type', how='outer')"
   ]
  },
  {
   "cell_type": "code",
   "execution_count": 31,
   "id": "4502db8e-6117-417e-83a8-e1b54ddbee69",
   "metadata": {},
   "outputs": [
    {
     "data": {
      "text/html": [
       "<div>\n",
       "<style scoped>\n",
       "    .dataframe tbody tr th:only-of-type {\n",
       "        vertical-align: middle;\n",
       "    }\n",
       "\n",
       "    .dataframe tbody tr th {\n",
       "        vertical-align: top;\n",
       "    }\n",
       "\n",
       "    .dataframe thead th {\n",
       "        text-align: right;\n",
       "    }\n",
       "</style>\n",
       "<table border=\"1\" class=\"dataframe\">\n",
       "  <thead>\n",
       "    <tr style=\"text-align: right;\">\n",
       "      <th></th>\n",
       "      <th>user_id</th>\n",
       "      <th>name</th>\n",
       "      <th>age</th>\n",
       "      <th>city</th>\n",
       "      <th>subscription_type</th>\n",
       "      <th>distance</th>\n",
       "      <th>duration</th>\n",
       "      <th>date</th>\n",
       "      <th>month</th>\n",
       "      <th>minute_price</th>\n",
       "      <th>start_ride_price</th>\n",
       "      <th>subscription_fee</th>\n",
       "    </tr>\n",
       "  </thead>\n",
       "  <tbody>\n",
       "    <tr>\n",
       "      <th>17226</th>\n",
       "      <td>603</td>\n",
       "      <td>Дарья</td>\n",
       "      <td>25</td>\n",
       "      <td>Пятигорск</td>\n",
       "      <td>ultra</td>\n",
       "      <td>3927.915878</td>\n",
       "      <td>32.424996</td>\n",
       "      <td>2021-11-06</td>\n",
       "      <td>11</td>\n",
       "      <td>6</td>\n",
       "      <td>0</td>\n",
       "      <td>199</td>\n",
       "    </tr>\n",
       "    <tr>\n",
       "      <th>8885</th>\n",
       "      <td>1345</td>\n",
       "      <td>Даниэль</td>\n",
       "      <td>26</td>\n",
       "      <td>Екатеринбург</td>\n",
       "      <td>free</td>\n",
       "      <td>265.535608</td>\n",
       "      <td>6.758673</td>\n",
       "      <td>2021-10-08</td>\n",
       "      <td>10</td>\n",
       "      <td>8</td>\n",
       "      <td>50</td>\n",
       "      <td>0</td>\n",
       "    </tr>\n",
       "    <tr>\n",
       "      <th>8030</th>\n",
       "      <td>1282</td>\n",
       "      <td>Тамара</td>\n",
       "      <td>32</td>\n",
       "      <td>Ростов-на-Дону</td>\n",
       "      <td>free</td>\n",
       "      <td>2626.327266</td>\n",
       "      <td>18.851289</td>\n",
       "      <td>2021-04-11</td>\n",
       "      <td>4</td>\n",
       "      <td>8</td>\n",
       "      <td>50</td>\n",
       "      <td>0</td>\n",
       "    </tr>\n",
       "    <tr>\n",
       "      <th>9430</th>\n",
       "      <td>1384</td>\n",
       "      <td>Анатолий</td>\n",
       "      <td>22</td>\n",
       "      <td>Москва</td>\n",
       "      <td>free</td>\n",
       "      <td>2537.296295</td>\n",
       "      <td>16.874127</td>\n",
       "      <td>2021-10-01</td>\n",
       "      <td>10</td>\n",
       "      <td>8</td>\n",
       "      <td>50</td>\n",
       "      <td>0</td>\n",
       "    </tr>\n",
       "    <tr>\n",
       "      <th>14010</th>\n",
       "      <td>260</td>\n",
       "      <td>Игнат</td>\n",
       "      <td>24</td>\n",
       "      <td>Екатеринбург</td>\n",
       "      <td>ultra</td>\n",
       "      <td>2487.942003</td>\n",
       "      <td>9.490283</td>\n",
       "      <td>2021-09-08</td>\n",
       "      <td>9</td>\n",
       "      <td>6</td>\n",
       "      <td>0</td>\n",
       "      <td>199</td>\n",
       "    </tr>\n",
       "    <tr>\n",
       "      <th>3967</th>\n",
       "      <td>990</td>\n",
       "      <td>Елена</td>\n",
       "      <td>23</td>\n",
       "      <td>Сочи</td>\n",
       "      <td>free</td>\n",
       "      <td>3633.051979</td>\n",
       "      <td>23.899156</td>\n",
       "      <td>2021-04-10</td>\n",
       "      <td>4</td>\n",
       "      <td>8</td>\n",
       "      <td>50</td>\n",
       "      <td>0</td>\n",
       "    </tr>\n",
       "    <tr>\n",
       "      <th>12220</th>\n",
       "      <td>71</td>\n",
       "      <td>Тимур</td>\n",
       "      <td>31</td>\n",
       "      <td>Сочи</td>\n",
       "      <td>ultra</td>\n",
       "      <td>763.907700</td>\n",
       "      <td>15.696145</td>\n",
       "      <td>2021-06-25</td>\n",
       "      <td>6</td>\n",
       "      <td>6</td>\n",
       "      <td>0</td>\n",
       "      <td>199</td>\n",
       "    </tr>\n",
       "    <tr>\n",
       "      <th>3698</th>\n",
       "      <td>971</td>\n",
       "      <td>Александр</td>\n",
       "      <td>21</td>\n",
       "      <td>Екатеринбург</td>\n",
       "      <td>free</td>\n",
       "      <td>3571.797625</td>\n",
       "      <td>18.937328</td>\n",
       "      <td>2021-11-16</td>\n",
       "      <td>11</td>\n",
       "      <td>8</td>\n",
       "      <td>50</td>\n",
       "      <td>0</td>\n",
       "    </tr>\n",
       "    <tr>\n",
       "      <th>16818</th>\n",
       "      <td>564</td>\n",
       "      <td>Ника</td>\n",
       "      <td>31</td>\n",
       "      <td>Тюмень</td>\n",
       "      <td>ultra</td>\n",
       "      <td>2801.463154</td>\n",
       "      <td>12.308165</td>\n",
       "      <td>2021-07-07</td>\n",
       "      <td>7</td>\n",
       "      <td>6</td>\n",
       "      <td>0</td>\n",
       "      <td>199</td>\n",
       "    </tr>\n",
       "    <tr>\n",
       "      <th>1927</th>\n",
       "      <td>843</td>\n",
       "      <td>Мирослава</td>\n",
       "      <td>23</td>\n",
       "      <td>Сочи</td>\n",
       "      <td>free</td>\n",
       "      <td>2648.642291</td>\n",
       "      <td>16.348149</td>\n",
       "      <td>2021-05-28</td>\n",
       "      <td>5</td>\n",
       "      <td>8</td>\n",
       "      <td>50</td>\n",
       "      <td>0</td>\n",
       "    </tr>\n",
       "  </tbody>\n",
       "</table>\n",
       "</div>"
      ],
      "text/plain": [
       "       user_id       name  age            city subscription_type     distance  \\\n",
       "17226      603      Дарья   25       Пятигорск             ultra  3927.915878   \n",
       "8885      1345    Даниэль   26    Екатеринбург              free   265.535608   \n",
       "8030      1282     Тамара   32  Ростов-на-Дону              free  2626.327266   \n",
       "9430      1384   Анатолий   22          Москва              free  2537.296295   \n",
       "14010      260      Игнат   24    Екатеринбург             ultra  2487.942003   \n",
       "3967       990      Елена   23            Сочи              free  3633.051979   \n",
       "12220       71      Тимур   31            Сочи             ultra   763.907700   \n",
       "3698       971  Александр   21    Екатеринбург              free  3571.797625   \n",
       "16818      564       Ника   31          Тюмень             ultra  2801.463154   \n",
       "1927       843  Мирослава   23            Сочи              free  2648.642291   \n",
       "\n",
       "        duration       date  month  minute_price  start_ride_price  \\\n",
       "17226  32.424996 2021-11-06     11             6                 0   \n",
       "8885    6.758673 2021-10-08     10             8                50   \n",
       "8030   18.851289 2021-04-11      4             8                50   \n",
       "9430   16.874127 2021-10-01     10             8                50   \n",
       "14010   9.490283 2021-09-08      9             6                 0   \n",
       "3967   23.899156 2021-04-10      4             8                50   \n",
       "12220  15.696145 2021-06-25      6             6                 0   \n",
       "3698   18.937328 2021-11-16     11             8                50   \n",
       "16818  12.308165 2021-07-07      7             6                 0   \n",
       "1927   16.348149 2021-05-28      5             8                50   \n",
       "\n",
       "       subscription_fee  \n",
       "17226               199  \n",
       "8885                  0  \n",
       "8030                  0  \n",
       "9430                  0  \n",
       "14010               199  \n",
       "3967                  0  \n",
       "12220               199  \n",
       "3698                  0  \n",
       "16818               199  \n",
       "1927                  0  "
      ]
     },
     "execution_count": 31,
     "metadata": {},
     "output_type": "execute_result"
    }
   ],
   "source": [
    "general.sample(10)"
   ]
  },
  {
   "cell_type": "markdown",
   "id": "fc0c4ee7-4f2e-4bd3-9cc4-f6e7e5e7a071",
   "metadata": {},
   "source": [
    "Объединение прошло успешно, все данные теперь в одной таблице."
   ]
  },
  {
   "cell_type": "markdown",
   "id": "52459c6d",
   "metadata": {},
   "source": [
    "<div class=\"alert alert-block alert-danger\" style=\"border-radius: 15px; box-shadow: 4px 4px 4px; border: 1px solid \">\n",
    "<h2> Комментарий ревьюера v_1: <a class=\"tocSkip\"></h2>\n",
    "    \n",
    "❌ После объединения стоит проверить и написать, прошло ли оно корректно, не были ли потеряны данные или не появились ли лишние записи. Совпадает ли количество записей с одной из исходных таблиц? Имеются ли пропуски? Стоит не только объединить данные, но и убедиться, что всё хорошо."
   ]
  },
  {
   "cell_type": "code",
   "execution_count": 32,
   "id": "19b3bfb9-667d-46d1-93d5-abcb7e4d7f45",
   "metadata": {},
   "outputs": [
    {
     "name": "stdout",
     "output_type": "stream",
     "text": [
      "<class 'pandas.core.frame.DataFrame'>\n",
      "RangeIndex: 18068 entries, 0 to 18067\n",
      "Data columns (total 12 columns):\n",
      " #   Column             Non-Null Count  Dtype         \n",
      "---  ------             --------------  -----         \n",
      " 0   user_id            18068 non-null  int64         \n",
      " 1   name               18068 non-null  object        \n",
      " 2   age                18068 non-null  int64         \n",
      " 3   city               18068 non-null  object        \n",
      " 4   subscription_type  18068 non-null  object        \n",
      " 5   distance           18068 non-null  float64       \n",
      " 6   duration           18068 non-null  float64       \n",
      " 7   date               18068 non-null  datetime64[ns]\n",
      " 8   month              18068 non-null  int32         \n",
      " 9   minute_price       18068 non-null  int64         \n",
      " 10  start_ride_price   18068 non-null  int64         \n",
      " 11  subscription_fee   18068 non-null  int64         \n",
      "dtypes: datetime64[ns](1), float64(2), int32(1), int64(5), object(3)\n",
      "memory usage: 1.6+ MB\n",
      "<class 'pandas.core.frame.DataFrame'>\n",
      "RangeIndex: 18068 entries, 0 to 18067\n",
      "Data columns (total 5 columns):\n",
      " #   Column    Non-Null Count  Dtype         \n",
      "---  ------    --------------  -----         \n",
      " 0   user_id   18068 non-null  int64         \n",
      " 1   distance  18068 non-null  float64       \n",
      " 2   duration  18068 non-null  float64       \n",
      " 3   date      18068 non-null  datetime64[ns]\n",
      " 4   month     18068 non-null  int32         \n",
      "dtypes: datetime64[ns](1), float64(2), int32(1), int64(1)\n",
      "memory usage: 635.3 KB\n"
     ]
    }
   ],
   "source": [
    "general.info()\n",
    "riders.info()"
   ]
  },
  {
   "cell_type": "markdown",
   "id": "77757204-c2c3-43d5-b317-66f875c75a1f",
   "metadata": {},
   "source": [
    "Сравнение новой таблицы с большей по объему из исходных показало, что количество строк совпадает, пропущенных данных нет, форматы не поменялись. Объединение прошло успешно."
   ]
  },
  {
   "cell_type": "markdown",
   "id": "82f4be6d-2d6e-4e19-a684-69cc0596ce70",
   "metadata": {},
   "source": [
    "<div class=\"alert alert-info\"  style=\"border-radius: 15px; box-shadow: 4px 4px 4px; border: 1px solid \">\n",
    "    \n",
    "<h2>Комментарий студента v_1: <a class=\"tocSkip\"> </h2>\n",
    "\n",
    "Выше проверил, что все прошло хорошо, вывод написал.   "
   ]
  },
  {
   "cell_type": "markdown",
   "id": "2dacd22f",
   "metadata": {},
   "source": [
    "<div class=\"alert alert-success\" style=\"border-radius: 15px; box-shadow: 4px 4px 4px; border: 1px solid \">\n",
    "<h2> Комментарий ревьюера v_2: <a class=\"tocSkip\"> </h2>\n",
    "    \n",
    "✅ Объединение прошло успешно"
   ]
  },
  {
   "cell_type": "markdown",
   "id": "abc60f18-cc5b-4089-ae23-0c903e0ced66",
   "metadata": {},
   "source": [
    "### Создание двух датафреймов из датафрейма, созданного на этапе 4.1"
   ]
  },
  {
   "cell_type": "markdown",
   "id": "c4809054-664f-4b8a-b5c2-07aa33de639e",
   "metadata": {
    "jp-MarkdownHeadingCollapsed": true
   },
   "source": [
    "#### C данными о пользователях без подписки"
   ]
  },
  {
   "cell_type": "code",
   "execution_count": 33,
   "id": "cf664f8c-929c-45f9-9665-f7c64a7d378a",
   "metadata": {},
   "outputs": [],
   "source": [
    "subscription_off = general[general['subscription_type'] == 'free']"
   ]
  },
  {
   "cell_type": "code",
   "execution_count": 34,
   "id": "0daec75f-b92e-4ce7-af5a-2469334bf059",
   "metadata": {},
   "outputs": [
    {
     "data": {
      "text/html": [
       "<div>\n",
       "<style scoped>\n",
       "    .dataframe tbody tr th:only-of-type {\n",
       "        vertical-align: middle;\n",
       "    }\n",
       "\n",
       "    .dataframe tbody tr th {\n",
       "        vertical-align: top;\n",
       "    }\n",
       "\n",
       "    .dataframe thead th {\n",
       "        text-align: right;\n",
       "    }\n",
       "</style>\n",
       "<table border=\"1\" class=\"dataframe\">\n",
       "  <thead>\n",
       "    <tr style=\"text-align: right;\">\n",
       "      <th></th>\n",
       "      <th>user_id</th>\n",
       "      <th>name</th>\n",
       "      <th>age</th>\n",
       "      <th>city</th>\n",
       "      <th>subscription_type</th>\n",
       "      <th>distance</th>\n",
       "      <th>duration</th>\n",
       "      <th>date</th>\n",
       "      <th>month</th>\n",
       "      <th>minute_price</th>\n",
       "      <th>start_ride_price</th>\n",
       "      <th>subscription_fee</th>\n",
       "    </tr>\n",
       "  </thead>\n",
       "  <tbody>\n",
       "    <tr>\n",
       "      <th>0</th>\n",
       "      <td>700</td>\n",
       "      <td>Айдар</td>\n",
       "      <td>22</td>\n",
       "      <td>Омск</td>\n",
       "      <td>free</td>\n",
       "      <td>2515.690719</td>\n",
       "      <td>14.944286</td>\n",
       "      <td>2021-01-02</td>\n",
       "      <td>1</td>\n",
       "      <td>8</td>\n",
       "      <td>50</td>\n",
       "      <td>0</td>\n",
       "    </tr>\n",
       "    <tr>\n",
       "      <th>1</th>\n",
       "      <td>700</td>\n",
       "      <td>Айдар</td>\n",
       "      <td>22</td>\n",
       "      <td>Омск</td>\n",
       "      <td>free</td>\n",
       "      <td>846.932642</td>\n",
       "      <td>16.234663</td>\n",
       "      <td>2021-02-01</td>\n",
       "      <td>2</td>\n",
       "      <td>8</td>\n",
       "      <td>50</td>\n",
       "      <td>0</td>\n",
       "    </tr>\n",
       "    <tr>\n",
       "      <th>2</th>\n",
       "      <td>700</td>\n",
       "      <td>Айдар</td>\n",
       "      <td>22</td>\n",
       "      <td>Омск</td>\n",
       "      <td>free</td>\n",
       "      <td>4004.434142</td>\n",
       "      <td>20.016628</td>\n",
       "      <td>2021-02-04</td>\n",
       "      <td>2</td>\n",
       "      <td>8</td>\n",
       "      <td>50</td>\n",
       "      <td>0</td>\n",
       "    </tr>\n",
       "    <tr>\n",
       "      <th>3</th>\n",
       "      <td>700</td>\n",
       "      <td>Айдар</td>\n",
       "      <td>22</td>\n",
       "      <td>Омск</td>\n",
       "      <td>free</td>\n",
       "      <td>1205.911290</td>\n",
       "      <td>9.782872</td>\n",
       "      <td>2021-02-10</td>\n",
       "      <td>2</td>\n",
       "      <td>8</td>\n",
       "      <td>50</td>\n",
       "      <td>0</td>\n",
       "    </tr>\n",
       "    <tr>\n",
       "      <th>4</th>\n",
       "      <td>700</td>\n",
       "      <td>Айдар</td>\n",
       "      <td>22</td>\n",
       "      <td>Омск</td>\n",
       "      <td>free</td>\n",
       "      <td>3047.379435</td>\n",
       "      <td>17.427673</td>\n",
       "      <td>2021-02-14</td>\n",
       "      <td>2</td>\n",
       "      <td>8</td>\n",
       "      <td>50</td>\n",
       "      <td>0</td>\n",
       "    </tr>\n",
       "    <tr>\n",
       "      <th>5</th>\n",
       "      <td>700</td>\n",
       "      <td>Айдар</td>\n",
       "      <td>22</td>\n",
       "      <td>Омск</td>\n",
       "      <td>free</td>\n",
       "      <td>4342.002254</td>\n",
       "      <td>22.368009</td>\n",
       "      <td>2021-02-23</td>\n",
       "      <td>2</td>\n",
       "      <td>8</td>\n",
       "      <td>50</td>\n",
       "      <td>0</td>\n",
       "    </tr>\n",
       "    <tr>\n",
       "      <th>6</th>\n",
       "      <td>700</td>\n",
       "      <td>Айдар</td>\n",
       "      <td>22</td>\n",
       "      <td>Омск</td>\n",
       "      <td>free</td>\n",
       "      <td>3798.334905</td>\n",
       "      <td>18.243756</td>\n",
       "      <td>2021-03-03</td>\n",
       "      <td>3</td>\n",
       "      <td>8</td>\n",
       "      <td>50</td>\n",
       "      <td>0</td>\n",
       "    </tr>\n",
       "    <tr>\n",
       "      <th>7</th>\n",
       "      <td>700</td>\n",
       "      <td>Айдар</td>\n",
       "      <td>22</td>\n",
       "      <td>Омск</td>\n",
       "      <td>free</td>\n",
       "      <td>2984.551206</td>\n",
       "      <td>15.424899</td>\n",
       "      <td>2021-04-09</td>\n",
       "      <td>4</td>\n",
       "      <td>8</td>\n",
       "      <td>50</td>\n",
       "      <td>0</td>\n",
       "    </tr>\n",
       "    <tr>\n",
       "      <th>8</th>\n",
       "      <td>700</td>\n",
       "      <td>Айдар</td>\n",
       "      <td>22</td>\n",
       "      <td>Омск</td>\n",
       "      <td>free</td>\n",
       "      <td>3360.107141</td>\n",
       "      <td>16.765497</td>\n",
       "      <td>2021-06-12</td>\n",
       "      <td>6</td>\n",
       "      <td>8</td>\n",
       "      <td>50</td>\n",
       "      <td>0</td>\n",
       "    </tr>\n",
       "    <tr>\n",
       "      <th>9</th>\n",
       "      <td>700</td>\n",
       "      <td>Айдар</td>\n",
       "      <td>22</td>\n",
       "      <td>Омск</td>\n",
       "      <td>free</td>\n",
       "      <td>2567.543847</td>\n",
       "      <td>11.312160</td>\n",
       "      <td>2021-06-23</td>\n",
       "      <td>6</td>\n",
       "      <td>8</td>\n",
       "      <td>50</td>\n",
       "      <td>0</td>\n",
       "    </tr>\n",
       "    <tr>\n",
       "      <th>10</th>\n",
       "      <td>700</td>\n",
       "      <td>Айдар</td>\n",
       "      <td>22</td>\n",
       "      <td>Омск</td>\n",
       "      <td>free</td>\n",
       "      <td>4110.232038</td>\n",
       "      <td>15.807640</td>\n",
       "      <td>2021-07-08</td>\n",
       "      <td>7</td>\n",
       "      <td>8</td>\n",
       "      <td>50</td>\n",
       "      <td>0</td>\n",
       "    </tr>\n",
       "    <tr>\n",
       "      <th>11</th>\n",
       "      <td>700</td>\n",
       "      <td>Айдар</td>\n",
       "      <td>22</td>\n",
       "      <td>Омск</td>\n",
       "      <td>free</td>\n",
       "      <td>288.974241</td>\n",
       "      <td>4.788112</td>\n",
       "      <td>2021-07-18</td>\n",
       "      <td>7</td>\n",
       "      <td>8</td>\n",
       "      <td>50</td>\n",
       "      <td>0</td>\n",
       "    </tr>\n",
       "    <tr>\n",
       "      <th>12</th>\n",
       "      <td>700</td>\n",
       "      <td>Айдар</td>\n",
       "      <td>22</td>\n",
       "      <td>Омск</td>\n",
       "      <td>free</td>\n",
       "      <td>4071.654669</td>\n",
       "      <td>16.370546</td>\n",
       "      <td>2021-08-17</td>\n",
       "      <td>8</td>\n",
       "      <td>8</td>\n",
       "      <td>50</td>\n",
       "      <td>0</td>\n",
       "    </tr>\n",
       "    <tr>\n",
       "      <th>13</th>\n",
       "      <td>700</td>\n",
       "      <td>Айдар</td>\n",
       "      <td>22</td>\n",
       "      <td>Омск</td>\n",
       "      <td>free</td>\n",
       "      <td>1920.188901</td>\n",
       "      <td>9.608453</td>\n",
       "      <td>2021-10-08</td>\n",
       "      <td>10</td>\n",
       "      <td>8</td>\n",
       "      <td>50</td>\n",
       "      <td>0</td>\n",
       "    </tr>\n",
       "    <tr>\n",
       "      <th>14</th>\n",
       "      <td>700</td>\n",
       "      <td>Айдар</td>\n",
       "      <td>22</td>\n",
       "      <td>Омск</td>\n",
       "      <td>free</td>\n",
       "      <td>4402.389717</td>\n",
       "      <td>33.013035</td>\n",
       "      <td>2021-10-15</td>\n",
       "      <td>10</td>\n",
       "      <td>8</td>\n",
       "      <td>50</td>\n",
       "      <td>0</td>\n",
       "    </tr>\n",
       "  </tbody>\n",
       "</table>\n",
       "</div>"
      ],
      "text/plain": [
       "    user_id   name  age  city subscription_type     distance   duration  \\\n",
       "0       700  Айдар   22  Омск              free  2515.690719  14.944286   \n",
       "1       700  Айдар   22  Омск              free   846.932642  16.234663   \n",
       "2       700  Айдар   22  Омск              free  4004.434142  20.016628   \n",
       "3       700  Айдар   22  Омск              free  1205.911290   9.782872   \n",
       "4       700  Айдар   22  Омск              free  3047.379435  17.427673   \n",
       "5       700  Айдар   22  Омск              free  4342.002254  22.368009   \n",
       "6       700  Айдар   22  Омск              free  3798.334905  18.243756   \n",
       "7       700  Айдар   22  Омск              free  2984.551206  15.424899   \n",
       "8       700  Айдар   22  Омск              free  3360.107141  16.765497   \n",
       "9       700  Айдар   22  Омск              free  2567.543847  11.312160   \n",
       "10      700  Айдар   22  Омск              free  4110.232038  15.807640   \n",
       "11      700  Айдар   22  Омск              free   288.974241   4.788112   \n",
       "12      700  Айдар   22  Омск              free  4071.654669  16.370546   \n",
       "13      700  Айдар   22  Омск              free  1920.188901   9.608453   \n",
       "14      700  Айдар   22  Омск              free  4402.389717  33.013035   \n",
       "\n",
       "         date  month  minute_price  start_ride_price  subscription_fee  \n",
       "0  2021-01-02      1             8                50                 0  \n",
       "1  2021-02-01      2             8                50                 0  \n",
       "2  2021-02-04      2             8                50                 0  \n",
       "3  2021-02-10      2             8                50                 0  \n",
       "4  2021-02-14      2             8                50                 0  \n",
       "5  2021-02-23      2             8                50                 0  \n",
       "6  2021-03-03      3             8                50                 0  \n",
       "7  2021-04-09      4             8                50                 0  \n",
       "8  2021-06-12      6             8                50                 0  \n",
       "9  2021-06-23      6             8                50                 0  \n",
       "10 2021-07-08      7             8                50                 0  \n",
       "11 2021-07-18      7             8                50                 0  \n",
       "12 2021-08-17      8             8                50                 0  \n",
       "13 2021-10-08     10             8                50                 0  \n",
       "14 2021-10-15     10             8                50                 0  "
      ]
     },
     "execution_count": 34,
     "metadata": {},
     "output_type": "execute_result"
    }
   ],
   "source": [
    "subscription_off.head(15)"
   ]
  },
  {
   "cell_type": "markdown",
   "id": "51ec7b42-189f-480e-bd6d-f87d5000ae14",
   "metadata": {
    "jp-MarkdownHeadingCollapsed": true
   },
   "source": [
    "#### C данными о пользователях с подпиской"
   ]
  },
  {
   "cell_type": "code",
   "execution_count": 35,
   "id": "c9554427-395e-4caf-90cf-ec6bfa2ddd1c",
   "metadata": {},
   "outputs": [],
   "source": [
    "subscription_on = general[general['subscription_type'] == 'ultra']"
   ]
  },
  {
   "cell_type": "code",
   "execution_count": 36,
   "id": "eb778e65-2765-48e9-aa14-ca32f4d5590b",
   "metadata": {
    "scrolled": true
   },
   "outputs": [
    {
     "data": {
      "text/html": [
       "<div>\n",
       "<style scoped>\n",
       "    .dataframe tbody tr th:only-of-type {\n",
       "        vertical-align: middle;\n",
       "    }\n",
       "\n",
       "    .dataframe tbody tr th {\n",
       "        vertical-align: top;\n",
       "    }\n",
       "\n",
       "    .dataframe thead th {\n",
       "        text-align: right;\n",
       "    }\n",
       "</style>\n",
       "<table border=\"1\" class=\"dataframe\">\n",
       "  <thead>\n",
       "    <tr style=\"text-align: right;\">\n",
       "      <th></th>\n",
       "      <th>user_id</th>\n",
       "      <th>name</th>\n",
       "      <th>age</th>\n",
       "      <th>city</th>\n",
       "      <th>subscription_type</th>\n",
       "      <th>distance</th>\n",
       "      <th>duration</th>\n",
       "      <th>date</th>\n",
       "      <th>month</th>\n",
       "      <th>minute_price</th>\n",
       "      <th>start_ride_price</th>\n",
       "      <th>subscription_fee</th>\n",
       "    </tr>\n",
       "  </thead>\n",
       "  <tbody>\n",
       "    <tr>\n",
       "      <th>13303</th>\n",
       "      <td>187</td>\n",
       "      <td>Михаил</td>\n",
       "      <td>28</td>\n",
       "      <td>Пятигорск</td>\n",
       "      <td>ultra</td>\n",
       "      <td>4537.639477</td>\n",
       "      <td>25.015198</td>\n",
       "      <td>2021-11-06</td>\n",
       "      <td>11</td>\n",
       "      <td>6</td>\n",
       "      <td>0</td>\n",
       "      <td>199</td>\n",
       "    </tr>\n",
       "    <tr>\n",
       "      <th>12819</th>\n",
       "      <td>134</td>\n",
       "      <td>Людмила</td>\n",
       "      <td>28</td>\n",
       "      <td>Москва</td>\n",
       "      <td>ultra</td>\n",
       "      <td>2689.928934</td>\n",
       "      <td>14.724822</td>\n",
       "      <td>2021-12-05</td>\n",
       "      <td>12</td>\n",
       "      <td>6</td>\n",
       "      <td>0</td>\n",
       "      <td>199</td>\n",
       "    </tr>\n",
       "    <tr>\n",
       "      <th>14112</th>\n",
       "      <td>270</td>\n",
       "      <td>Егор</td>\n",
       "      <td>26</td>\n",
       "      <td>Тюмень</td>\n",
       "      <td>ultra</td>\n",
       "      <td>4151.088943</td>\n",
       "      <td>14.224642</td>\n",
       "      <td>2021-01-08</td>\n",
       "      <td>1</td>\n",
       "      <td>6</td>\n",
       "      <td>0</td>\n",
       "      <td>199</td>\n",
       "    </tr>\n",
       "    <tr>\n",
       "      <th>17390</th>\n",
       "      <td>620</td>\n",
       "      <td>Мелания</td>\n",
       "      <td>21</td>\n",
       "      <td>Екатеринбург</td>\n",
       "      <td>ultra</td>\n",
       "      <td>2849.043979</td>\n",
       "      <td>27.245220</td>\n",
       "      <td>2021-02-13</td>\n",
       "      <td>2</td>\n",
       "      <td>6</td>\n",
       "      <td>0</td>\n",
       "      <td>199</td>\n",
       "    </tr>\n",
       "    <tr>\n",
       "      <th>13404</th>\n",
       "      <td>198</td>\n",
       "      <td>Марсель</td>\n",
       "      <td>27</td>\n",
       "      <td>Сочи</td>\n",
       "      <td>ultra</td>\n",
       "      <td>3632.046268</td>\n",
       "      <td>21.716911</td>\n",
       "      <td>2021-09-21</td>\n",
       "      <td>9</td>\n",
       "      <td>6</td>\n",
       "      <td>0</td>\n",
       "      <td>199</td>\n",
       "    </tr>\n",
       "  </tbody>\n",
       "</table>\n",
       "</div>"
      ],
      "text/plain": [
       "       user_id     name  age          city subscription_type     distance  \\\n",
       "13303      187   Михаил   28     Пятигорск             ultra  4537.639477   \n",
       "12819      134  Людмила   28        Москва             ultra  2689.928934   \n",
       "14112      270     Егор   26        Тюмень             ultra  4151.088943   \n",
       "17390      620  Мелания   21  Екатеринбург             ultra  2849.043979   \n",
       "13404      198  Марсель   27          Сочи             ultra  3632.046268   \n",
       "\n",
       "        duration       date  month  minute_price  start_ride_price  \\\n",
       "13303  25.015198 2021-11-06     11             6                 0   \n",
       "12819  14.724822 2021-12-05     12             6                 0   \n",
       "14112  14.224642 2021-01-08      1             6                 0   \n",
       "17390  27.245220 2021-02-13      2             6                 0   \n",
       "13404  21.716911 2021-09-21      9             6                 0   \n",
       "\n",
       "       subscription_fee  \n",
       "13303               199  \n",
       "12819               199  \n",
       "14112               199  \n",
       "17390               199  \n",
       "13404               199  "
      ]
     },
     "execution_count": 36,
     "metadata": {},
     "output_type": "execute_result"
    }
   ],
   "source": [
    "subscription_on.sample(5)"
   ]
  },
  {
   "cell_type": "markdown",
   "id": "ca25e5a4",
   "metadata": {},
   "source": [
    "<div class=\"alert alert-success\" style=\"border-radius: 15px; box-shadow: 4px 4px 4px; border: 1px solid \">\n",
    "<h2> Комментарий ревьюера v_1: <a class=\"tocSkip\"> </h2>\n",
    "    \n",
    "✅ Отлично, созданы необходимые датафреймы. Я бы еще соватовал проверять, что совокупный размер датафреймов совпадает с количеством строк в исходной таблице."
   ]
  },
  {
   "cell_type": "markdown",
   "id": "73eb9968-269f-448c-8fa1-84a2ac91a816",
   "metadata": {},
   "source": [
    "### Визуализация информации о расстоянии и времени поездок для пользователей обеих категорий."
   ]
  },
  {
   "cell_type": "markdown",
   "id": "ce69db13-e1d0-4fb7-9c75-d0d299118333",
   "metadata": {},
   "source": [
    "#### График с расстояниями пользователей с подпиской и без"
   ]
  },
  {
   "cell_type": "markdown",
   "id": "7ef5ab67-177a-4de6-b2b9-273c73f165b9",
   "metadata": {},
   "source": [
    "fig, ax = plt.subplots()\n",
    "\n",
    "ax.hist(subscription_off['distance'], bins=50, linewidth=0.5, edgecolor=\"white\", label='free')\n",
    "ax.hist(subscription_on['distance'], bins=50, linewidth=0.5, edgecolor=\"white\", label='ultra', alpha=0.6)\n",
    "\n",
    "\n",
    "ax.grid()\n",
    "ax.set_title('distance')\n",
    "ax.legend()\n",
    "\n",
    "plt.show()"
   ]
  },
  {
   "cell_type": "markdown",
   "id": "e3c8838f-4833-4c49-a258-85fe70d8ec99",
   "metadata": {},
   "source": [
    "<div class=\"alert alert-info\"  style=\"border-radius: 15px; box-shadow: 4px 4px 4px; border: 1px solid \">\n",
    "    \n",
    "<h2>Комментарий студента v_2: <a class=\"tocSkip\"> </h2>\n",
    "\n",
    "Ниже сделал новый график с подписями осей и графика"
   ]
  },
  {
   "cell_type": "code",
   "execution_count": 37,
   "id": "7fef1f24-ef76-4569-97c5-a309e112a1a9",
   "metadata": {},
   "outputs": [
    {
     "data": {
      "image/png": "[encoded data removed]",
      "text/plain": [
       "<Figure size 640x480 with 1 Axes>"
      ]
     },
     "metadata": {},
     "output_type": "display_data"
    }
   ],
   "source": [
    "fig, ax = plt.subplots()\n",
    "\n",
    "ax.hist(subscription_off['distance'], bins=50, linewidth=0.5, edgecolor=\"white\", label='free')\n",
    "ax.hist(subscription_on['distance'], bins=50, linewidth=0.5, edgecolor=\"white\", label='ultra', alpha=0.6)\n",
    "\n",
    "\n",
    "ax.grid()\n",
    "ax.set_title('График с расстояниями пользователей с подпиской и без')\n",
    "ax.set_ylabel('Количество поездок')\n",
    "ax.set_xlabel('Расстояние в метрах')\n",
    "ax.legend()\n",
    "\n",
    "plt.show()"
   ]
  },
  {
   "cell_type": "markdown",
   "id": "959d6515-58bb-4208-bf79-056e98164138",
   "metadata": {},
   "source": [
    "Пользователи с подпиской обозначены ораньжевым цветом, а без подписки - синим. Видно, что пользователей без подписки больше. Среднее значение у них совпадает и лежит на расстоянии в 3000 метров. При этом у пользователей без подписки дисперсия больше за счет количества самих пользователей. \n",
    "\n",
    "Есть разница в коротких поездках. Пользовтели с подпиской в \"короткой\" поездке в среднем проезжают 500 метров, а пользователи с подпиской - 1000 метров."
   ]
  },
  {
   "cell_type": "markdown",
   "id": "2275e96e-5ab1-4ea6-ac74-ceb14200d05a",
   "metadata": {},
   "source": [
    "#### График с длительностью поездки пользователей с подпиской и без"
   ]
  },
  {
   "cell_type": "markdown",
   "id": "5c507431-b211-43f7-ba38-a7b33cbb8843",
   "metadata": {},
   "source": [
    "fig, ax = plt.subplots()\n",
    "\n",
    "ax.hist(subscription_off['duration'], bins=50, linewidth=0.5, edgecolor=\"white\", label='free')\n",
    "ax.hist(subscription_on['duration'], bins=50, linewidth=0.5, edgecolor=\"white\", label='ultra', alpha=0.6)\n",
    "\n",
    "\n",
    "ax.grid()\n",
    "ax.set_title('duration')\n",
    "ax.legend()\n",
    "\n",
    "plt.show()"
   ]
  },
  {
   "cell_type": "markdown",
   "id": "e7b60109-2a06-415b-b092-0afc7345d177",
   "metadata": {},
   "source": [
    "<div class=\"alert alert-info\"  style=\"border-radius: 15px; box-shadow: 4px 4px 4px; border: 1px solid \">\n",
    "    \n",
    "<h2>Комментарий студента v_2: <a class=\"tocSkip\"> </h2>\n",
    "\n",
    "Ниже сделал новый график с подписями осей и графика"
   ]
  },
  {
   "cell_type": "code",
   "execution_count": 38,
   "id": "3a0103a0-a19a-405d-b97b-c07ef3e94cad",
   "metadata": {},
   "outputs": [
    {
     "data": {
      "image/png": "[encoded data removed]",
      "text/plain": [
       "<Figure size 640x480 with 1 Axes>"
      ]
     },
     "metadata": {},
     "output_type": "display_data"
    }
   ],
   "source": [
    "fig, ax = plt.subplots()\n",
    "\n",
    "ax.hist(subscription_off['duration'], bins=50, linewidth=0.5, edgecolor=\"white\", label='free')\n",
    "ax.hist(subscription_on['duration'], bins=50, linewidth=0.5, edgecolor=\"white\", label='ultra', alpha=0.6)\n",
    "\n",
    "\n",
    "ax.grid()\n",
    "ax.set_title('График с длительностью поездки пользователей с подпиской и без')\n",
    "ax.set_ylabel('Количество поездок')\n",
    "ax.set_xlabel('Длительность поездки в минутах')\n",
    "ax.legend()\n",
    "\n",
    "plt.show()"
   ]
  },
  {
   "cell_type": "markdown",
   "id": "59ea20df-3e0a-453a-aca7-31fad8105537",
   "metadata": {},
   "source": [
    "Здесть так же видна превышающая масса пользователей без подписки(синий цвет).\n",
    "\n",
    "Пользователи с подпиской заканчивают аренду раньше 4 минут в отличие от пользователей без подписки, около 100 сессий пользователей без подписки не была дольше 2 минут.\n",
    "\n",
    "Пользователи с подпиской имеют сессии дольше 35 минут, а у пользователей без подписки таких нет. Возможно это обусловлено условиями самого сервиса."
   ]
  },
  {
   "cell_type": "markdown",
   "id": "df17e8ac",
   "metadata": {},
   "source": [
    "<div class=\"alert alert-success\" style=\"border-radius: 15px; box-shadow: 4px 4px 4px; border: 1px solid \">\n",
    "<h2> Комментарий ревьюера v_1: <a class=\"tocSkip\"> </h2>\n",
    "    \n",
    "✅ Здорово, что есть сравнение пользователей из двух групп. Также можно использовать функцию `describe()` на этом шаге для более подробного аналаза."
   ]
  },
  {
   "cell_type": "code",
   "execution_count": 39,
   "id": "4cf805d0-794a-4742-aa6c-37a03ee3cac6",
   "metadata": {},
   "outputs": [
    {
     "data": {
      "text/html": [
       "<div>\n",
       "<style scoped>\n",
       "    .dataframe tbody tr th:only-of-type {\n",
       "        vertical-align: middle;\n",
       "    }\n",
       "\n",
       "    .dataframe tbody tr th {\n",
       "        vertical-align: top;\n",
       "    }\n",
       "\n",
       "    .dataframe thead th {\n",
       "        text-align: right;\n",
       "    }\n",
       "</style>\n",
       "<table border=\"1\" class=\"dataframe\">\n",
       "  <thead>\n",
       "    <tr style=\"text-align: right;\">\n",
       "      <th></th>\n",
       "      <th>user_id</th>\n",
       "      <th>name</th>\n",
       "      <th>age</th>\n",
       "      <th>city</th>\n",
       "      <th>subscription_type</th>\n",
       "      <th>distance</th>\n",
       "      <th>duration</th>\n",
       "      <th>date</th>\n",
       "      <th>month</th>\n",
       "      <th>minute_price</th>\n",
       "      <th>start_ride_price</th>\n",
       "      <th>subscription_fee</th>\n",
       "    </tr>\n",
       "  </thead>\n",
       "  <tbody>\n",
       "  </tbody>\n",
       "</table>\n",
       "</div>"
      ],
      "text/plain": [
       "Empty DataFrame\n",
       "Columns: [user_id, name, age, city, subscription_type, distance, duration, date, month, minute_price, start_ride_price, subscription_fee]\n",
       "Index: []"
      ]
     },
     "execution_count": 39,
     "metadata": {},
     "output_type": "execute_result"
    }
   ],
   "source": [
    "subscription_off[subscription_off['duration'] > 35]"
   ]
  },
  {
   "cell_type": "markdown",
   "id": "402d620f",
   "metadata": {},
   "source": [
    "## Шаг 5. Подсчёт выручки"
   ]
  },
  {
   "cell_type": "markdown",
   "id": "1af3911f-1bfc-4104-be38-0a2911b1661a",
   "metadata": {},
   "source": [
    "### Датафрейм с агрегированными данными о поездках на основе датафрейма с объединёнными данными из шага 4. Поиск суммарного расстояния, количества поездок и суммарного времени для каждого пользователя за каждый месяц."
   ]
  },
  {
   "cell_type": "markdown",
   "id": "54e36093-872b-4fd0-a491-fc9b10830388",
   "metadata": {},
   "source": [
    "users_total = (pd.concat([subscription_on.\n",
    "                          pivot_table(index=('user_id', 'month'), \n",
    "                                      values=('duration', 'distance'), \n",
    "                                      aggfunc='sum').\n",
    "                          merge(subscription_on.\n",
    "                                pivot_table(index=('user_id', 'month'), \n",
    "                                      values='name', \n",
    "                                      aggfunc='count'), on=['user_id','month'], how='outer'),\n",
    "                          subscription_off.\n",
    "                          pivot_table(index=('user_id', 'month'), \n",
    "                                      values=('duration', 'distance'), \n",
    "                                      aggfunc='sum').\n",
    "                                merge(subscription_off.pivot_table(index=('user_id', 'month'), \n",
    "                                      values='name', \n",
    "                                      aggfunc='count'), on=['user_id','month'], how='outer')])\n",
    "              )"
   ]
  },
  {
   "cell_type": "markdown",
   "id": "04a8f20d-d0e1-4208-8299-eba9a5d924d6",
   "metadata": {},
   "source": [
    "users_total = users_total.rename(columns={'name':'count',}).reset_index()\n",
    "users_total['duration'] = np.ceil(users_total['duration']).astype('int')"
   ]
  },
  {
   "cell_type": "markdown",
   "id": "ade13bdc",
   "metadata": {},
   "source": [
    "<div class=\"alert alert-block alert-danger\" style=\"border-radius: 15px; box-shadow: 4px 4px 4px; border: 1px solid \">\n",
    "<h2> Комментарий ревьюера v_1: <a class=\"tocSkip\"></h2>\n",
    "    \n",
    "❌ Округлять до следующего целого необходимо до создания таблицы с агрегированными данными. В задании написано: \"Продолжительность каждой поездки в каждой строке исходного датафрейма для подсчёта стоимости округляется до следующего целого числа\". Именно исходного, а не только что созданного. Округлять продолжительность каждой поездки, а не результат суммирования."
   ]
  },
  {
   "cell_type": "markdown",
   "id": "321f9cf6-7251-4a50-9273-05ac8b70fd13",
   "metadata": {},
   "source": [
    "general['duration'] = np.ceil(general['duration']).astype('int')"
   ]
  },
  {
   "cell_type": "markdown",
   "id": "059ce24a-9827-4970-968b-97054d659c12",
   "metadata": {},
   "source": [
    "users_total = (pd.concat([subscription_on.\n",
    "                          pivot_table(index=('user_id', 'month'), \n",
    "                                      values=('duration', 'distance'), \n",
    "                                      aggfunc='sum').\n",
    "                          merge(subscription_on.\n",
    "                                pivot_table(index=('user_id', 'month'), \n",
    "                                      values='name', \n",
    "                                      aggfunc='count'), on=['user_id','month'], how='outer'),\n",
    "                          subscription_off.\n",
    "                          pivot_table(index=('user_id', 'month'), \n",
    "                                      values=('duration', 'distance'), \n",
    "                                      aggfunc='sum').\n",
    "                                merge(subscription_off.pivot_table(index=('user_id', 'month'), \n",
    "                                      values='name', \n",
    "                                      aggfunc='count'), on=['user_id','month'], how='outer')])\n",
    "              )\n",
    "\n",
    "users_total = users_total.rename(columns={'name':'count',}).reset_index()"
   ]
  },
  {
   "cell_type": "markdown",
   "id": "d3d236e5-0c20-4e5e-8ccc-2619fe8e37e7",
   "metadata": {
    "jp-MarkdownHeadingCollapsed": true
   },
   "source": [
    "<div class=\"alert alert-info\"  style=\"border-radius: 15px; box-shadow: 4px 4px 4px; border: 1px solid \">\n",
    "    \n",
    "<h2>Комментарий студента v_1: <a class=\"tocSkip\"> </h2>\n",
    "\n",
    "Учел коментарий. Ячейки со старым кодом по созданию таблицы перевел в `Markdown`. Новый код написал выше. Сначала в исходной собранной таблице округлил каждое значение длительности и после начал создание агрегированной таблицы. "
   ]
  },
  {
   "cell_type": "markdown",
   "id": "d3753800",
   "metadata": {},
   "source": [
    "<div class=\"alert alert-block alert-danger\" style=\"border-radius: 15px; box-shadow: 4px 4px 4px; border: 1px solid \">\n",
    "<h2> Комментарий ревьюера v_2: <a class=\"tocSkip\"></h2>\n",
    "    \n",
    "❌ Но округление не затронуло сводную таблицу"
   ]
  },
  {
   "cell_type": "markdown",
   "id": "0e95fc32-236e-4d98-adef-379945b8d7e7",
   "metadata": {},
   "source": [
    "<div class=\"alert alert-info\"  style=\"border-radius: 15px; box-shadow: 4px 4px 4px; border: 1px solid \">\n",
    "    \n",
    "<h2>Комментарий студента v_2: <a class=\"tocSkip\"> </h2>\n",
    "\n",
    "Исправил ниже. Старый код перевел в `Markdown`"
   ]
  },
  {
   "cell_type": "markdown",
   "id": "56d0661e",
   "metadata": {},
   "source": [
    "<div class=\"alert alert-success\" style=\"border-radius: 15px; box-shadow: 4px 4px 4px; border: 1px solid \">\n",
    "<h2> Комментарий ревьюера v_3: <a class=\"tocSkip\"> </h2>\n",
    "    \n",
    "✅ Отлично"
   ]
  },
  {
   "cell_type": "code",
   "execution_count": 40,
   "id": "46d8ac6e-2f0b-4a9a-a1e1-c7e87f94b0fd",
   "metadata": {},
   "outputs": [],
   "source": [
    "subscription_on.loc[:,'duration'] = np.ceil(subscription_on.loc[:,'duration']).astype('int')\n",
    "subscription_off.loc[:,'duration'] = np.ceil(subscription_off.loc[:,'duration']).astype('int')"
   ]
  },
  {
   "cell_type": "code",
   "execution_count": 41,
   "id": "85f7e02d-d4f3-488e-8d9d-4bc49d296cd5",
   "metadata": {},
   "outputs": [],
   "source": [
    "users_total = (pd.concat([subscription_on.\n",
    "                          pivot_table(index=('user_id', 'month'), \n",
    "                                      values=('duration', 'distance'), \n",
    "                                      aggfunc='sum').\n",
    "                          merge(subscription_on.\n",
    "                                pivot_table(index=('user_id', 'month'), \n",
    "                                      values='name', \n",
    "                                      aggfunc='count'), on=['user_id','month'], how='outer'),\n",
    "                          subscription_off.\n",
    "                          pivot_table(index=('user_id', 'month'), \n",
    "                                      values=('duration', 'distance'), \n",
    "                                      aggfunc='sum').\n",
    "                                merge(subscription_off.pivot_table(index=('user_id', 'month'), \n",
    "                                      values='name', \n",
    "                                      aggfunc='count'), on=['user_id','month'], how='outer')])\n",
    "              )\n",
    "\n",
    "users_total = users_total.rename(columns={'name':'count',}).reset_index()"
   ]
  },
  {
   "cell_type": "code",
   "execution_count": 42,
   "id": "57c6a07d-3f7d-4fe6-8431-9362ebf50695",
   "metadata": {},
   "outputs": [
    {
     "data": {
      "text/html": [
       "<div>\n",
       "<style scoped>\n",
       "    .dataframe tbody tr th:only-of-type {\n",
       "        vertical-align: middle;\n",
       "    }\n",
       "\n",
       "    .dataframe tbody tr th {\n",
       "        vertical-align: top;\n",
       "    }\n",
       "\n",
       "    .dataframe thead th {\n",
       "        text-align: right;\n",
       "    }\n",
       "</style>\n",
       "<table border=\"1\" class=\"dataframe\">\n",
       "  <thead>\n",
       "    <tr style=\"text-align: right;\">\n",
       "      <th></th>\n",
       "      <th>user_id</th>\n",
       "      <th>month</th>\n",
       "      <th>distance</th>\n",
       "      <th>duration</th>\n",
       "      <th>count</th>\n",
       "    </tr>\n",
       "  </thead>\n",
       "  <tbody>\n",
       "    <tr>\n",
       "      <th>0</th>\n",
       "      <td>1</td>\n",
       "      <td>1</td>\n",
       "      <td>7027.511294</td>\n",
       "      <td>42.0</td>\n",
       "      <td>2</td>\n",
       "    </tr>\n",
       "    <tr>\n",
       "      <th>1</th>\n",
       "      <td>1</td>\n",
       "      <td>4</td>\n",
       "      <td>754.159807</td>\n",
       "      <td>7.0</td>\n",
       "      <td>1</td>\n",
       "    </tr>\n",
       "    <tr>\n",
       "      <th>2</th>\n",
       "      <td>1</td>\n",
       "      <td>8</td>\n",
       "      <td>6723.470560</td>\n",
       "      <td>46.0</td>\n",
       "      <td>2</td>\n",
       "    </tr>\n",
       "    <tr>\n",
       "      <th>3</th>\n",
       "      <td>1</td>\n",
       "      <td>10</td>\n",
       "      <td>5809.911100</td>\n",
       "      <td>32.0</td>\n",
       "      <td>2</td>\n",
       "    </tr>\n",
       "    <tr>\n",
       "      <th>4</th>\n",
       "      <td>1</td>\n",
       "      <td>11</td>\n",
       "      <td>7003.499363</td>\n",
       "      <td>56.0</td>\n",
       "      <td>3</td>\n",
       "    </tr>\n",
       "    <tr>\n",
       "      <th>5</th>\n",
       "      <td>1</td>\n",
       "      <td>12</td>\n",
       "      <td>6751.629942</td>\n",
       "      <td>28.0</td>\n",
       "      <td>2</td>\n",
       "    </tr>\n",
       "    <tr>\n",
       "      <th>6</th>\n",
       "      <td>2</td>\n",
       "      <td>3</td>\n",
       "      <td>10187.723006</td>\n",
       "      <td>63.0</td>\n",
       "      <td>3</td>\n",
       "    </tr>\n",
       "    <tr>\n",
       "      <th>7</th>\n",
       "      <td>2</td>\n",
       "      <td>4</td>\n",
       "      <td>6164.381824</td>\n",
       "      <td>40.0</td>\n",
       "      <td>2</td>\n",
       "    </tr>\n",
       "    <tr>\n",
       "      <th>8</th>\n",
       "      <td>2</td>\n",
       "      <td>6</td>\n",
       "      <td>3255.338202</td>\n",
       "      <td>14.0</td>\n",
       "      <td>1</td>\n",
       "    </tr>\n",
       "    <tr>\n",
       "      <th>9</th>\n",
       "      <td>2</td>\n",
       "      <td>7</td>\n",
       "      <td>6780.722964</td>\n",
       "      <td>48.0</td>\n",
       "      <td>2</td>\n",
       "    </tr>\n",
       "  </tbody>\n",
       "</table>\n",
       "</div>"
      ],
      "text/plain": [
       "   user_id  month      distance  duration  count\n",
       "0        1      1   7027.511294      42.0      2\n",
       "1        1      4    754.159807       7.0      1\n",
       "2        1      8   6723.470560      46.0      2\n",
       "3        1     10   5809.911100      32.0      2\n",
       "4        1     11   7003.499363      56.0      3\n",
       "5        1     12   6751.629942      28.0      2\n",
       "6        2      3  10187.723006      63.0      3\n",
       "7        2      4   6164.381824      40.0      2\n",
       "8        2      6   3255.338202      14.0      1\n",
       "9        2      7   6780.722964      48.0      2"
      ]
     },
     "execution_count": 42,
     "metadata": {},
     "output_type": "execute_result"
    }
   ],
   "source": [
    "users_total.head(10) "
   ]
  },
  {
   "cell_type": "code",
   "execution_count": 43,
   "id": "1010d18b-b970-4f22-829c-3914d384a565",
   "metadata": {},
   "outputs": [
    {
     "data": {
      "text/html": [
       "<div>\n",
       "<style scoped>\n",
       "    .dataframe tbody tr th:only-of-type {\n",
       "        vertical-align: middle;\n",
       "    }\n",
       "\n",
       "    .dataframe tbody tr th {\n",
       "        vertical-align: top;\n",
       "    }\n",
       "\n",
       "    .dataframe thead th {\n",
       "        text-align: right;\n",
       "    }\n",
       "</style>\n",
       "<table border=\"1\" class=\"dataframe\">\n",
       "  <thead>\n",
       "    <tr style=\"text-align: right;\">\n",
       "      <th></th>\n",
       "      <th>user_id</th>\n",
       "      <th>name</th>\n",
       "      <th>age</th>\n",
       "      <th>city</th>\n",
       "      <th>subscription_type</th>\n",
       "      <th>month</th>\n",
       "      <th>distance</th>\n",
       "      <th>duration</th>\n",
       "      <th>count</th>\n",
       "      <th>minute_price</th>\n",
       "      <th>start_ride_price</th>\n",
       "      <th>subscription_fee</th>\n",
       "    </tr>\n",
       "  </thead>\n",
       "  <tbody>\n",
       "    <tr>\n",
       "      <th>0</th>\n",
       "      <td>700</td>\n",
       "      <td>Айдар</td>\n",
       "      <td>22</td>\n",
       "      <td>Омск</td>\n",
       "      <td>free</td>\n",
       "      <td>1</td>\n",
       "      <td>2515.690719</td>\n",
       "      <td>15.0</td>\n",
       "      <td>1</td>\n",
       "      <td>8</td>\n",
       "      <td>50</td>\n",
       "      <td>0</td>\n",
       "    </tr>\n",
       "    <tr>\n",
       "      <th>1</th>\n",
       "      <td>700</td>\n",
       "      <td>Айдар</td>\n",
       "      <td>22</td>\n",
       "      <td>Омск</td>\n",
       "      <td>free</td>\n",
       "      <td>2</td>\n",
       "      <td>13446.659764</td>\n",
       "      <td>89.0</td>\n",
       "      <td>5</td>\n",
       "      <td>8</td>\n",
       "      <td>50</td>\n",
       "      <td>0</td>\n",
       "    </tr>\n",
       "    <tr>\n",
       "      <th>2</th>\n",
       "      <td>700</td>\n",
       "      <td>Айдар</td>\n",
       "      <td>22</td>\n",
       "      <td>Омск</td>\n",
       "      <td>free</td>\n",
       "      <td>3</td>\n",
       "      <td>3798.334905</td>\n",
       "      <td>19.0</td>\n",
       "      <td>1</td>\n",
       "      <td>8</td>\n",
       "      <td>50</td>\n",
       "      <td>0</td>\n",
       "    </tr>\n",
       "    <tr>\n",
       "      <th>3</th>\n",
       "      <td>700</td>\n",
       "      <td>Айдар</td>\n",
       "      <td>22</td>\n",
       "      <td>Омск</td>\n",
       "      <td>free</td>\n",
       "      <td>4</td>\n",
       "      <td>2984.551206</td>\n",
       "      <td>16.0</td>\n",
       "      <td>1</td>\n",
       "      <td>8</td>\n",
       "      <td>50</td>\n",
       "      <td>0</td>\n",
       "    </tr>\n",
       "    <tr>\n",
       "      <th>4</th>\n",
       "      <td>700</td>\n",
       "      <td>Айдар</td>\n",
       "      <td>22</td>\n",
       "      <td>Омск</td>\n",
       "      <td>free</td>\n",
       "      <td>6</td>\n",
       "      <td>5927.650988</td>\n",
       "      <td>29.0</td>\n",
       "      <td>2</td>\n",
       "      <td>8</td>\n",
       "      <td>50</td>\n",
       "      <td>0</td>\n",
       "    </tr>\n",
       "    <tr>\n",
       "      <th>...</th>\n",
       "      <td>...</td>\n",
       "      <td>...</td>\n",
       "      <td>...</td>\n",
       "      <td>...</td>\n",
       "      <td>...</td>\n",
       "      <td>...</td>\n",
       "      <td>...</td>\n",
       "      <td>...</td>\n",
       "      <td>...</td>\n",
       "      <td>...</td>\n",
       "      <td>...</td>\n",
       "      <td>...</td>\n",
       "    </tr>\n",
       "    <tr>\n",
       "      <th>11326</th>\n",
       "      <td>699</td>\n",
       "      <td>Оксана</td>\n",
       "      <td>22</td>\n",
       "      <td>Москва</td>\n",
       "      <td>ultra</td>\n",
       "      <td>6</td>\n",
       "      <td>4072.797406</td>\n",
       "      <td>17.0</td>\n",
       "      <td>1</td>\n",
       "      <td>6</td>\n",
       "      <td>0</td>\n",
       "      <td>199</td>\n",
       "    </tr>\n",
       "    <tr>\n",
       "      <th>11327</th>\n",
       "      <td>699</td>\n",
       "      <td>Оксана</td>\n",
       "      <td>22</td>\n",
       "      <td>Москва</td>\n",
       "      <td>ultra</td>\n",
       "      <td>8</td>\n",
       "      <td>7018.324143</td>\n",
       "      <td>45.0</td>\n",
       "      <td>2</td>\n",
       "      <td>6</td>\n",
       "      <td>0</td>\n",
       "      <td>199</td>\n",
       "    </tr>\n",
       "    <tr>\n",
       "      <th>11328</th>\n",
       "      <td>699</td>\n",
       "      <td>Оксана</td>\n",
       "      <td>22</td>\n",
       "      <td>Москва</td>\n",
       "      <td>ultra</td>\n",
       "      <td>9</td>\n",
       "      <td>6364.861911</td>\n",
       "      <td>31.0</td>\n",
       "      <td>2</td>\n",
       "      <td>6</td>\n",
       "      <td>0</td>\n",
       "      <td>199</td>\n",
       "    </tr>\n",
       "    <tr>\n",
       "      <th>11329</th>\n",
       "      <td>699</td>\n",
       "      <td>Оксана</td>\n",
       "      <td>22</td>\n",
       "      <td>Москва</td>\n",
       "      <td>ultra</td>\n",
       "      <td>10</td>\n",
       "      <td>4707.845501</td>\n",
       "      <td>16.0</td>\n",
       "      <td>1</td>\n",
       "      <td>6</td>\n",
       "      <td>0</td>\n",
       "      <td>199</td>\n",
       "    </tr>\n",
       "    <tr>\n",
       "      <th>11330</th>\n",
       "      <td>699</td>\n",
       "      <td>Оксана</td>\n",
       "      <td>22</td>\n",
       "      <td>Москва</td>\n",
       "      <td>ultra</td>\n",
       "      <td>12</td>\n",
       "      <td>3202.890770</td>\n",
       "      <td>26.0</td>\n",
       "      <td>1</td>\n",
       "      <td>6</td>\n",
       "      <td>0</td>\n",
       "      <td>199</td>\n",
       "    </tr>\n",
       "  </tbody>\n",
       "</table>\n",
       "<p>11331 rows × 12 columns</p>\n",
       "</div>"
      ],
      "text/plain": [
       "       user_id    name  age    city subscription_type  month      distance  \\\n",
       "0          700   Айдар   22    Омск              free      1   2515.690719   \n",
       "1          700   Айдар   22    Омск              free      2  13446.659764   \n",
       "2          700   Айдар   22    Омск              free      3   3798.334905   \n",
       "3          700   Айдар   22    Омск              free      4   2984.551206   \n",
       "4          700   Айдар   22    Омск              free      6   5927.650988   \n",
       "...        ...     ...  ...     ...               ...    ...           ...   \n",
       "11326      699  Оксана   22  Москва             ultra      6   4072.797406   \n",
       "11327      699  Оксана   22  Москва             ultra      8   7018.324143   \n",
       "11328      699  Оксана   22  Москва             ultra      9   6364.861911   \n",
       "11329      699  Оксана   22  Москва             ultra     10   4707.845501   \n",
       "11330      699  Оксана   22  Москва             ultra     12   3202.890770   \n",
       "\n",
       "       duration  count  minute_price  start_ride_price  subscription_fee  \n",
       "0          15.0      1             8                50                 0  \n",
       "1          89.0      5             8                50                 0  \n",
       "2          19.0      1             8                50                 0  \n",
       "3          16.0      1             8                50                 0  \n",
       "4          29.0      2             8                50                 0  \n",
       "...         ...    ...           ...               ...               ...  \n",
       "11326      17.0      1             6                 0               199  \n",
       "11327      45.0      2             6                 0               199  \n",
       "11328      31.0      2             6                 0               199  \n",
       "11329      16.0      1             6                 0               199  \n",
       "11330      26.0      1             6                 0               199  \n",
       "\n",
       "[11331 rows x 12 columns]"
      ]
     },
     "execution_count": 43,
     "metadata": {},
     "output_type": "execute_result"
    }
   ],
   "source": [
    "users_total = users.merge(users_total, on='user_id', how='left')\n",
    "users_total = users_total.merge(subscriptions, on='subscription_type', how='outer')\n",
    "users_total"
   ]
  },
  {
   "cell_type": "markdown",
   "id": "1c996d81-db32-4811-8a0e-2d9a961a68a0",
   "metadata": {},
   "source": [
    "### Добавление столбца с помесячной выручкой, которую принёс каждый пользователь."
   ]
  },
  {
   "cell_type": "markdown",
   "id": "85423841-537b-4101-a6ea-b63ee6961f47",
   "metadata": {},
   "source": [
    "Столбец будет назван `revenue` - выручка."
   ]
  },
  {
   "cell_type": "code",
   "execution_count": 44,
   "id": "53049e0a",
   "metadata": {},
   "outputs": [],
   "source": [
    "users_total['revenue'] = (users_total['subscription_fee']\n",
    "                          + (users_total['start_ride_price'] * 2)\n",
    "                          + (users_total['minute_price'] * users_total['duration'])\n",
    "                         )"
   ]
  },
  {
   "cell_type": "markdown",
   "id": "5b7c7d58",
   "metadata": {},
   "source": [
    "<div class=\"alert alert-block alert-danger\" style=\"border-radius: 15px; box-shadow: 4px 4px 4px; border: 1px solid \">\n",
    "<h2> Комментарий ревьюера v_1: <a class=\"tocSkip\"></h2>\n",
    "    \n",
    "❌ Выручка рассчитана неверно. Кое-что в формуле выше неправильно. В подсказке написано: \"стоимость старта поездки × количество поездок + стоимость одной минуты поездки × общая продолжительность всех поездок в минутах + стоимость подписки\""
   ]
  },
  {
   "cell_type": "code",
   "execution_count": 45,
   "id": "0f60b80d-37f0-4598-bef8-f070557f359d",
   "metadata": {},
   "outputs": [],
   "source": [
    "users_total['revenue'] = ((users_total['start_ride_price'] * users_total['count'])\n",
    "                          + (users_total['minute_price'] * users_total['duration'])\n",
    "                          + users_total['subscription_fee']\n",
    "                         )"
   ]
  },
  {
   "cell_type": "markdown",
   "id": "7d6f2637-63b3-474d-ae4f-8816d93f73e3",
   "metadata": {},
   "source": [
    "<div class=\"alert alert-info\"  style=\"border-radius: 15px; box-shadow: 4px 4px 4px; border: 1px solid \">\n",
    "    \n",
    "<h2>Комментарий студента v_1: <a class=\"tocSkip\"> </h2>\n",
    "\n",
    "Изменил формулу расчета. Ячейку со старым кодом перевел в `Markdown`."
   ]
  },
  {
   "cell_type": "code",
   "execution_count": 46,
   "id": "37ec0fe9-11a3-4c12-9d89-de139ef37a88",
   "metadata": {
    "scrolled": true
   },
   "outputs": [
    {
     "data": {
      "text/html": [
       "<div>\n",
       "<style scoped>\n",
       "    .dataframe tbody tr th:only-of-type {\n",
       "        vertical-align: middle;\n",
       "    }\n",
       "\n",
       "    .dataframe tbody tr th {\n",
       "        vertical-align: top;\n",
       "    }\n",
       "\n",
       "    .dataframe thead th {\n",
       "        text-align: right;\n",
       "    }\n",
       "</style>\n",
       "<table border=\"1\" class=\"dataframe\">\n",
       "  <thead>\n",
       "    <tr style=\"text-align: right;\">\n",
       "      <th></th>\n",
       "      <th>user_id</th>\n",
       "      <th>name</th>\n",
       "      <th>age</th>\n",
       "      <th>city</th>\n",
       "      <th>subscription_type</th>\n",
       "      <th>month</th>\n",
       "      <th>distance</th>\n",
       "      <th>duration</th>\n",
       "      <th>count</th>\n",
       "      <th>minute_price</th>\n",
       "      <th>start_ride_price</th>\n",
       "      <th>subscription_fee</th>\n",
       "      <th>revenue</th>\n",
       "    </tr>\n",
       "  </thead>\n",
       "  <tbody>\n",
       "    <tr>\n",
       "      <th>10410</th>\n",
       "      <td>553</td>\n",
       "      <td>Назар</td>\n",
       "      <td>31</td>\n",
       "      <td>Тюмень</td>\n",
       "      <td>ultra</td>\n",
       "      <td>12</td>\n",
       "      <td>5534.002002</td>\n",
       "      <td>37.0</td>\n",
       "      <td>2</td>\n",
       "      <td>6</td>\n",
       "      <td>0</td>\n",
       "      <td>199</td>\n",
       "      <td>421.0</td>\n",
       "    </tr>\n",
       "    <tr>\n",
       "      <th>6655</th>\n",
       "      <td>1519</td>\n",
       "      <td>Ирина</td>\n",
       "      <td>25</td>\n",
       "      <td>Тюмень</td>\n",
       "      <td>free</td>\n",
       "      <td>3</td>\n",
       "      <td>7685.038878</td>\n",
       "      <td>40.0</td>\n",
       "      <td>2</td>\n",
       "      <td>8</td>\n",
       "      <td>50</td>\n",
       "      <td>0</td>\n",
       "      <td>420.0</td>\n",
       "    </tr>\n",
       "    <tr>\n",
       "      <th>6115</th>\n",
       "      <td>1452</td>\n",
       "      <td>Людмила</td>\n",
       "      <td>33</td>\n",
       "      <td>Омск</td>\n",
       "      <td>free</td>\n",
       "      <td>6</td>\n",
       "      <td>426.413660</td>\n",
       "      <td>7.0</td>\n",
       "      <td>1</td>\n",
       "      <td>8</td>\n",
       "      <td>50</td>\n",
       "      <td>0</td>\n",
       "      <td>106.0</td>\n",
       "    </tr>\n",
       "    <tr>\n",
       "      <th>6322</th>\n",
       "      <td>1478</td>\n",
       "      <td>Роберт</td>\n",
       "      <td>21</td>\n",
       "      <td>Пятигорск</td>\n",
       "      <td>free</td>\n",
       "      <td>12</td>\n",
       "      <td>8655.497475</td>\n",
       "      <td>47.0</td>\n",
       "      <td>3</td>\n",
       "      <td>8</td>\n",
       "      <td>50</td>\n",
       "      <td>0</td>\n",
       "      <td>526.0</td>\n",
       "    </tr>\n",
       "    <tr>\n",
       "      <th>4351</th>\n",
       "      <td>1236</td>\n",
       "      <td>Александр</td>\n",
       "      <td>31</td>\n",
       "      <td>Екатеринбург</td>\n",
       "      <td>free</td>\n",
       "      <td>8</td>\n",
       "      <td>8746.518388</td>\n",
       "      <td>45.0</td>\n",
       "      <td>2</td>\n",
       "      <td>8</td>\n",
       "      <td>50</td>\n",
       "      <td>0</td>\n",
       "      <td>460.0</td>\n",
       "    </tr>\n",
       "  </tbody>\n",
       "</table>\n",
       "</div>"
      ],
      "text/plain": [
       "       user_id       name  age          city subscription_type  month  \\\n",
       "10410      553      Назар   31        Тюмень             ultra     12   \n",
       "6655      1519      Ирина   25        Тюмень              free      3   \n",
       "6115      1452    Людмила   33          Омск              free      6   \n",
       "6322      1478     Роберт   21     Пятигорск              free     12   \n",
       "4351      1236  Александр   31  Екатеринбург              free      8   \n",
       "\n",
       "          distance  duration  count  minute_price  start_ride_price  \\\n",
       "10410  5534.002002      37.0      2             6                 0   \n",
       "6655   7685.038878      40.0      2             8                50   \n",
       "6115    426.413660       7.0      1             8                50   \n",
       "6322   8655.497475      47.0      3             8                50   \n",
       "4351   8746.518388      45.0      2             8                50   \n",
       "\n",
       "       subscription_fee  revenue  \n",
       "10410               199    421.0  \n",
       "6655                  0    420.0  \n",
       "6115                  0    106.0  \n",
       "6322                  0    526.0  \n",
       "4351                  0    460.0  "
      ]
     },
     "execution_count": 46,
     "metadata": {},
     "output_type": "execute_result"
    }
   ],
   "source": [
    "users_total.sample(5)"
   ]
  },
  {
   "cell_type": "markdown",
   "id": "41545ac0",
   "metadata": {},
   "source": [
    "## Шаг 6. Проверка гипотез"
   ]
  },
  {
   "cell_type": "markdown",
   "id": "2974a98d-00aa-43a5-97aa-fda73214ad5a",
   "metadata": {},
   "source": [
    "### Тратят ли пользователи с подпиской больше времени на поездки?"
   ]
  },
  {
   "cell_type": "markdown",
   "id": "597cbf67-6085-49ac-8720-aa72bc71c57a",
   "metadata": {},
   "source": [
    "Формулировка нулевой(H0) и альтернативной(H1) гипотезы.\n",
    "\n",
    "H0: Общая продолжительность поездок пользователей с подпиской равно общей продолжительности поездок пользователей без подписки\n",
    "\n",
    "H1: Общая продолжительность поездок пользователей с подпиской больше общей продолжительности поездок пользователей без подписки"
   ]
  },
  {
   "cell_type": "markdown",
   "id": "1e1de1fc",
   "metadata": {},
   "source": [
    "<div class=\"alert alert-warning\" style=\"border-radius: 15px; box-shadow: 4px 4px 4px; border: 1px solid \">\n",
    "<h2> Комментарий ревьюера v_1: <a class=\"tocSkip\"> </h2>\n",
    "    \n",
    "⚠️ Какой именно параметр сравнивается? Среднее, дисперсия или еще что-нибудь? Стоит дописать в формулировки гипотез. Ниже также лучше дополнить гипотезы."
   ]
  },
  {
   "cell_type": "markdown",
   "id": "82485c6c-cf63-4b7b-a1d0-0195aaeef0d7",
   "metadata": {},
   "source": [
    "Здесь происходит сравнение средних значений генеральных совокупностей. Пользователей с подпиской и пользователей без подписки.\n",
    "\n",
    "Формулировка нулевой(H0) и альтернативной(H1) гипотезы.\n",
    "\n",
    "H0: Средние значения продолжительности поездок пользователей с подпиской и без равны \n",
    "\n",
    "H1: Среднее значение продолжительности поездок пользователей с подпиской больше среднего значения продолжительности поездок пользователей без подписки.\n",
    "\n",
    "Если нулевая гипотеза не будет отвергнута, то можно сказать следующее: нельзя утверждать, что пользователи с подпиской тратя больше времени на поездки.\n",
    "Если нулевая гипотеза будет отвергнута, то можно утверждать, что пользователи с подпиской тратят больше времени на поездки"
   ]
  },
  {
   "cell_type": "markdown",
   "id": "93d2e280-4359-43b1-a967-7e207a5df4c1",
   "metadata": {},
   "source": [
    "<div class=\"alert alert-info\"  style=\"border-radius: 15px; box-shadow: 4px 4px 4px; border: 1px solid \">\n",
    "    \n",
    "<h2>Комментарий студента v_1: <a class=\"tocSkip\"> </h2>\n",
    "\n",
    "Выше сформулировал гипотезы и описание к ним более точно."
   ]
  },
  {
   "cell_type": "markdown",
   "id": "8043be30",
   "metadata": {},
   "source": [
    "<div class=\"alert alert-success\" style=\"border-radius: 15px; box-shadow: 4px 4px 4px; border: 1px solid \">\n",
    "<h2> Комментарий ревьюера v_2: <a class=\"tocSkip\"> </h2>\n",
    "    \n",
    "✅ Принято"
   ]
  },
  {
   "cell_type": "markdown",
   "id": "546c43dc-fe90-49bd-b77a-fb4fa93ee18e",
   "metadata": {},
   "source": [
    "alpha = 0.05\n",
    "\n",
    "results = st.ttest_ind(subscription_off['duration'], subscription_on['duration'], alternative='greater')\n",
    "print('p-значение:', results.pvalue)\n",
    "\n",
    "if results.pvalue < alpha:\n",
    "    print('Отвергаем нулевую гипотезу')\n",
    "else:\n",
    "    print('Не получилось отвергнуть нулевую гипотезу') "
   ]
  },
  {
   "cell_type": "markdown",
   "id": "4a4f2e61",
   "metadata": {},
   "source": [
    "<div class=\"alert alert-block alert-danger\" style=\"border-radius: 15px; box-shadow: 4px 4px 4px; border: 1px solid \">\n",
    "<h2> Комментарий ревьюера v_1: <a class=\"tocSkip\"></h2>\n",
    "    \n",
    "❌ Но порядок выборок в тесте должен быть, как в альтернативной гипотезе. Сначала в гипотезе указано free или ultra?"
   ]
  },
  {
   "cell_type": "markdown",
   "id": "1754b2c4",
   "metadata": {},
   "source": [
    "<div class=\"alert alert-success\" style=\"border-radius: 15px; box-shadow: 4px 4px 4px; border: 1px solid \">\n",
    "<h2> Комментарий ревьюера v_2: <a class=\"tocSkip\"> </h2>\n",
    "    \n",
    "✅ Верно"
   ]
  },
  {
   "cell_type": "code",
   "execution_count": 47,
   "id": "7ffd6b5b-73f4-4ae0-a39b-1a055a4560bf",
   "metadata": {},
   "outputs": [
    {
     "name": "stdout",
     "output_type": "stream",
     "text": [
      "p-значение: 2.4959453720736625e-34\n",
      "Отвергаем нулевую гипотезу\n"
     ]
    }
   ],
   "source": [
    "alpha = 0.05\n",
    "\n",
    "results = st.ttest_ind(\n",
    "    subscription_on['duration'], \n",
    "    subscription_off['duration'], \n",
    "    alternative='greater')\n",
    "print('p-значение:', results.pvalue)\n",
    "\n",
    "if results.pvalue < alpha:\n",
    "    print('Отвергаем нулевую гипотезу')\n",
    "else:\n",
    "    print('Не получилось отвергнуть нулевую гипотезу') "
   ]
  },
  {
   "cell_type": "markdown",
   "id": "14a3721d-fec0-45fc-94e0-321f3776eb2b",
   "metadata": {},
   "source": [
    "Ответ:\n",
    "\n",
    "Полученное значение p-value меньше заданного уровня значимости, поэтому можно отвергнуть нулевую гипотезу о том, что средние значения продолжительности поездок пользователей с подпиской и без равны. Есть основания говорить, что пользователи с подпиской тратят больше времени на поездки, чем пользовтели без подписки."
   ]
  },
  {
   "cell_type": "markdown",
   "id": "086daea2-0f94-451d-b570-d95c4ef93a3c",
   "metadata": {},
   "source": [
    "<div class=\"alert alert-info\"  style=\"border-radius: 15px; box-shadow: 4px 4px 4px; border: 1px solid \">\n",
    "    \n",
    "<h2>Комментарий студента v_1: <a class=\"tocSkip\"> </h2>\n",
    "\n",
    "Выше изменил формулу расчета. Ячейку со старым кодом перевел в `Markdown`. Написал новый ответ."
   ]
  },
  {
   "cell_type": "markdown",
   "id": "66fbe989-755f-43c1-a0b1-b6d67cec11dc",
   "metadata": {},
   "source": [
    "В результате проверки выявлено, что нулевую гипотезу нельзя отвергать с вероятностью 100%, что значит:\n",
    "\n",
    "Общая продолжительность поездок пользователей с подпиской равно общей продолжительности поездок пользователей без подписки\n",
    "\n",
    "Пользователи с подпиской тратят столько же времени на поездки, сколько тратят пользователи без подписки."
   ]
  },
  {
   "cell_type": "markdown",
   "id": "4da71d1f",
   "metadata": {},
   "source": [
    "<div class=\"alert alert-warning\" style=\"border-radius: 15px; box-shadow: 4px 4px 4px; border: 1px solid \">\n",
    "<h2> Комментарий ревьюера v_1: <a class=\"tocSkip\"> </h2>\n",
    "    \n",
    "⚠️ Лучше написать так: \"Нулевая гипотеза (о чем?) отвергнута, есть основания утверждать, что...\""
   ]
  },
  {
   "cell_type": "markdown",
   "id": "2bb24aa0-74bb-40ba-8b3e-9ea6d7809c5d",
   "metadata": {},
   "source": [
    "### Можно ли сказать, что среднее расстояние, которое проезжают пользователи с подпиской за одну поездку, не превышает 3130 метров? "
   ]
  },
  {
   "cell_type": "markdown",
   "id": "0d9892a8-a987-4a7d-b043-9a91477df2aa",
   "metadata": {},
   "source": [
    "Формулировка нулевой(H0) и альтернативной(H1) гипотезы.\n",
    "\n",
    "H0: Среднее растояние, которое проезжают пользователи с подпиской за одну поездку равно 3130 метров\n",
    "\n",
    "H1: Среднее растояние, которое проезжают пользователи с подпиской за одну поездку меньше 3130 метров"
   ]
  },
  {
   "cell_type": "markdown",
   "id": "26bdff27",
   "metadata": {},
   "source": [
    "<div class=\"alert alert-block alert-danger\" style=\"border-radius: 15px; box-shadow: 4px 4px 4px; border: 1px solid \">\n",
    "<h2> Комментарий ревьюера v_1: <a class=\"tocSkip\"></h2>\n",
    "    \n",
    "❌ Следует обратить внимание, что бизнес заинтересован в том, чтобы издержки были минимальные. Чем меньше износ, тем лучше. Подсчитано, что 3130 метров оптимально с точки зрения износа, т.е. всё, что равно этому расстоянию или меньше вполне приемлемо. Но нужно же выяснить, выходит ли за пределы оптимальности износ самокатов. Стоит переформулировать альтернативную гипотезу и скорректировать параметр alternative. И прокомментировать результаты, является ли расстояние поездок оптимальным с точки зрения износа самоката, т.е., что он в пределах нормы, не завышен."
   ]
  },
  {
   "cell_type": "markdown",
   "id": "3c38e610-213f-4aa7-804a-f7b0d291f279",
   "metadata": {},
   "source": [
    "\n",
    "alpha = 0.05\n",
    "\n",
    "results = st.ttest_1samp(\n",
    "    subscription_on['distance'], \n",
    "    subscription_on['distance'].mean(),\n",
    "      alternative='less')\n",
    "print('p-значение:', results.pvalue)\n",
    "\n",
    "if results.pvalue < alpha:\n",
    "    print('Отвергаем нулевую гипотезу')\n",
    "else:\n",
    "    print('Не получилось отвергнуть нулевую гипотезу') "
   ]
  },
  {
   "cell_type": "markdown",
   "id": "db2156b2-0b63-45df-b56e-c81239db183f",
   "metadata": {},
   "source": [
    "Не получилось отвергнуть нулевую гипотезу, что означает вероятность 50% того, что:\n",
    "\n",
    "Среднее расстояние, которое проезжают пользователи с подпиской за одну поездку равно 3130 метров.\n",
    "\n",
    "Вывод:\n",
    "\n",
    "Нельзя сказать, что среднее расстояние, которое проезжают пользователи с подпиской за одну поездку, не превышает 3130 метров"
   ]
  },
  {
   "cell_type": "markdown",
   "id": "f5057899-5719-4de0-b459-164c8eccae02",
   "metadata": {},
   "source": [
    "<div class=\"alert alert-info\"  style=\"border-radius: 15px; box-shadow: 4px 4px 4px; border: 1px solid \">\n",
    "    \n",
    "<h2>Комментарий студента v_1: <a class=\"tocSkip\"> </h2>\n",
    "\n",
    "Очень хотелось придерживаться формулировки в задании, что бы не ошибиться. Но твоя логика более чем оправдана и применима в жизни.\n",
    "Изменил формулу расчета. Ячейку со старым кодом перевел в `Markdown`."
   ]
  },
  {
   "cell_type": "markdown",
   "id": "e0c79191",
   "metadata": {},
   "source": [
    "<div class=\"alert alert-block alert-danger\" style=\"border-radius: 15px; box-shadow: 4px 4px 4px; border: 1px solid \">\n",
    "<h2> Комментарий ревьюера v_2: <a class=\"tocSkip\"></h2>\n",
    "    \n",
    "❌ Выше формулировки были подходящими, только альтернативную гипотезу нужно было скорректировать. И сравнивается с 3130 м, как сформулировано в задании, а не средним расстоянием из выборки"
   ]
  },
  {
   "cell_type": "markdown",
   "id": "91409494-1a4f-446a-8bb3-62a071cb7005",
   "metadata": {},
   "source": [
    "Формулировка нулевой(H0) и альтернативной(H1) гипотезы.\n",
    "\n",
    "Нужно определить явлется ли среднее значение генеральной совокупности больше заданного числа. Тоесть больше ли 3130 метров среднее расстояние, которое проезжают пользователи с подпиской за одну поездку.\n",
    "\n",
    "H0: Среднее генеральной совокупности равно заданному числу\n",
    "\n",
    "H1: Среднее генеральной совокупности больше заданного числа\n",
    "\n",
    "Это значит, что если нулевая гипотеза отвергается, то среднее расстояние за поездку больше 3130 метров и стоит задуматься о повышенном износе самокатов. А если нулевая гипотеза не отвергается, то за самокаты можно не переживать."
   ]
  },
  {
   "cell_type": "markdown",
   "id": "4d2dbf86-eff0-4e3e-9e38-a94788e50459",
   "metadata": {},
   "source": [
    "\n",
    "alpha = 0.05\n",
    "\n",
    "results = st.ttest_1samp(\n",
    "    subscription_on['distance'], \n",
    "    subscription_on['distance'].mean(),\n",
    "      alternative='greater')\n",
    "print('p-значение:', results.pvalue)\n",
    "\n",
    "if results.pvalue < alpha:\n",
    "    print('Отвергаем нулевую гипотезу')\n",
    "else:\n",
    "    print('Не получилось отвергнуть нулевую гипотезу') "
   ]
  },
  {
   "cell_type": "markdown",
   "id": "1a1c51f2-de70-467d-8313-c939a0992a87",
   "metadata": {},
   "source": [
    "<div class=\"alert alert-info\"  style=\"border-radius: 15px; box-shadow: 4px 4px 4px; border: 1px solid \">\n",
    "    \n",
    "<h2>Комментарий студента v_2: <a class=\"tocSkip\"> </h2>\n",
    "\n",
    "Ниже добавил исправленные формулировки гмпотез и исправленый код, где сравнивается с 3130 м."
   ]
  },
  {
   "cell_type": "markdown",
   "id": "6c7f5b5b",
   "metadata": {},
   "source": [
    "<div class=\"alert alert-success\" style=\"border-radius: 15px; box-shadow: 4px 4px 4px; border: 1px solid \">\n",
    "<h2> Комментарий ревьюера v_3: <a class=\"tocSkip\"> </h2>\n",
    "    \n",
    "✅ Да, верно"
   ]
  },
  {
   "cell_type": "markdown",
   "id": "ba90e1a0-2571-4ef2-ae6d-15ee2a3daebb",
   "metadata": {},
   "source": [
    "Формулировка нулевой(H0) и альтернативной(H1) гипотезы.\n",
    "\n",
    "H0: Среднее растояние, которое проезжают пользователи с подпиской за одну поездку равно 3130 метров\n",
    "\n",
    "H1: Среднее растояние, которое проезжают пользователи с подпиской за одну поездку больше 3130 метров"
   ]
  },
  {
   "cell_type": "code",
   "execution_count": 48,
   "id": "b6207db8-68dd-45a0-ace4-a9ab4c423ccf",
   "metadata": {},
   "outputs": [
    {
     "name": "stdout",
     "output_type": "stream",
     "text": [
      "p-значение: 0.9195368847849785\n",
      "Не получилось отвергнуть нулевую гипотезу\n"
     ]
    }
   ],
   "source": [
    "\n",
    "alpha = 0.05\n",
    "safety_distance = 3130\n",
    "\n",
    "results = st.ttest_1samp(\n",
    "    subscription_on['distance'], \n",
    "    safety_distance,\n",
    "      alternative='greater')\n",
    "print('p-значение:', results.pvalue)\n",
    "\n",
    "if results.pvalue < alpha:\n",
    "    print('Отвергаем нулевую гипотезу')\n",
    "else:\n",
    "    print('Не получилось отвергнуть нулевую гипотезу') "
   ]
  },
  {
   "cell_type": "markdown",
   "id": "1491cb10-b037-4e15-a39a-cbdb677d14ff",
   "metadata": {},
   "source": [
    "Нулевую гипотезу отвергнуть не получилось, а значит за самокаты можно не переживать!"
   ]
  },
  {
   "cell_type": "markdown",
   "id": "baed7922-2277-4859-95d3-d3fbd4a0fe72",
   "metadata": {},
   "source": [
    "### Будет ли помесячная выручка от пользователей с подпиской по месяцам выше, чем выручка от пользователей без подписки?"
   ]
  },
  {
   "cell_type": "markdown",
   "id": "ce0a6f64-95b5-47d5-979c-192966fd1d3a",
   "metadata": {},
   "source": [
    "Формулировка нулевой(H0) и альтернативной(H1) гипотезы.\n",
    "\n",
    "H0: Помесячная выручка от пользователей с подпиской по месяцам равна помесячной выручке от пользователей без подписки\n",
    "\n",
    "H1: Помесячная выручка от пользователей с подпиской по месяцам больше помесячной выручки от пользователей без подписки"
   ]
  },
  {
   "cell_type": "code",
   "execution_count": 49,
   "id": "02879855-a00e-4563-9f69-19aac89d88fe",
   "metadata": {},
   "outputs": [
    {
     "name": "stdout",
     "output_type": "stream",
     "text": [
      "p-значение: 1.8850394384715216e-31\n",
      "Отвергаем нулевую гипотезу\n"
     ]
    }
   ],
   "source": [
    "alpha = 0.05\n",
    "\n",
    "results = st.ttest_ind(\n",
    "    users_total[users_total['subscription_type'] == 'ultra']['revenue'], \n",
    "    users_total[users_total['subscription_type'] == 'free']['revenue'],\n",
    "      alternative='greater')\n",
    "print('p-значение:', results.pvalue)\n",
    "\n",
    "if results.pvalue < alpha:\n",
    "    print('Отвергаем нулевую гипотезу')\n",
    "else:\n",
    "    print('Не получилось отвергнуть нулевую гипотезу') "
   ]
  },
  {
   "cell_type": "markdown",
   "id": "7dd6c5f2",
   "metadata": {},
   "source": [
    "<div class=\"alert alert-success\" style=\"border-radius: 15px; box-shadow: 4px 4px 4px; border: 1px solid \">\n",
    "<h2> Комментарий ревьюера v_1: <a class=\"tocSkip\"> </h2>\n",
    "    \n",
    "✅ Статтест выбран правильно."
   ]
  },
  {
   "cell_type": "markdown",
   "id": "e3ef8382-d588-46bd-8c0c-da8ede1f85ec",
   "metadata": {},
   "source": [
    "Нулевая гипотеза не подтвердилась\n",
    "\n",
    "Вывод:\n",
    "\n",
    "Помесячная выручка от пользователей с подпиской по месяцам больше помесячной выручки от пользователей без подписки."
   ]
  },
  {
   "cell_type": "markdown",
   "id": "3e91a821-73f4-4dc9-9be5-a90de8f59fb0",
   "metadata": {},
   "source": [
    "### Представьте такую ситуацию: техническая команда сервиса обновила сервера, с которыми взаимодействует мобильное приложение. Она надеется, что из-за этого количество обращений в техподдержку значимо снизилось. Некоторый файл содержит для каждого пользователя данные о количестве обращений до обновления и после него. Какой тест вам понадобился бы для проверки этой гипотезы?"
   ]
  },
  {
   "cell_type": "markdown",
   "id": "b4cb3eed-558a-452f-906b-e08a9cc4fcd1",
   "metadata": {},
   "source": [
    "Чтобы проверить гипотезу о равенстве среднего генеральной совокупности для зависимых (парных) выборок в Python, применим метод scipy.stats.ttest_rel()."
   ]
  },
  {
   "cell_type": "markdown",
   "id": "9e4ac063",
   "metadata": {},
   "source": [
    "<div class=\"alert alert-warning\" style=\"border-radius: 15px; box-shadow: 4px 4px 4px; border: 1px solid \">\n",
    "<h2> Комментарий ревьюера v_1: <a class=\"tocSkip\"> </h2>\n",
    "    \n",
    "⚠️ Подходит тест st.ttest_rel(). Но в задании еще написано: \"Она надеется, что из-за этого количество обращений в техподдержку значимо снизилось\". Какая должна быть гипотеза, односторонняя или двухсторонняя?"
   ]
  },
  {
   "cell_type": "markdown",
   "id": "e838addb-3e33-4bf6-9fbf-be82ac386fbb",
   "metadata": {},
   "source": [
    "<div class=\"alert alert-info\"  style=\"border-radius: 15px; box-shadow: 4px 4px 4px; border: 1px solid \">\n",
    "    \n",
    "<h2>Комментарий студента v_1: <a class=\"tocSkip\"> </h2>\n",
    "\n",
    "Ниже расписал все подробнее."
   ]
  },
  {
   "cell_type": "markdown",
   "id": "5b68d2ad-2cda-4be6-921b-724cdf33d6bf",
   "metadata": {},
   "source": [
    "Формулировка нулевой(H0) и альтернативной(H1) гипотезы.\n",
    "\n",
    "H0: Средние совокупности двух зависимых выборок равны. Это значит, что количество обращение в техподдержку не изменилось после обновления сервера.\n",
    "\n",
    "H1: Средняя совокупность после указанной даты меньше средней совокупности до этой даты. Это значит, что количество обращений после обновления сервера снизилось.\n",
    "\n",
    "для проверки этой односторонней гипотезы лучше применить метод `scipy.stats.ttest_rel()` с аргументом `alternative='less'`"
   ]
  },
  {
   "cell_type": "markdown",
   "id": "a7ddb00e",
   "metadata": {},
   "source": [
    "<div class=\"alert alert-success\" style=\"border-radius: 15px; box-shadow: 4px 4px 4px; border: 1px solid \">\n",
    "<h2> Комментарий ревьюера v_2: <a class=\"tocSkip\"> </h2>\n",
    "    \n",
    "✅ Хорошо"
   ]
  },
  {
   "cell_type": "markdown",
   "id": "61213c5e",
   "metadata": {},
   "source": [
    "## Шаг 7. Распределения"
   ]
  },
  {
   "cell_type": "markdown",
   "id": "081255a8-d13e-4b99-841d-930d4b0ee2b4",
   "metadata": {},
   "source": [
    "### Акция с раздачей промокодов"
   ]
  },
  {
   "cell_type": "markdown",
   "id": "51017d8f-43d3-4839-be8f-ff3e5ba91cfd",
   "metadata": {},
   "source": [
    "Отделу маркетинга GoFast поставили задачу: нужно провести акцию с раздачей промокодов на один бесплатный месяц подписки, в рамках которой как минимум 100 существующих клиентов должны продлить эту подписку. То есть по завершении периода действия подписки пользователь может либо отказаться от неё, либо продлить, совершив соответствующий платёж. \n",
    "Эта акция уже проводилась ранее и по итогу выяснилось, что после бесплатного пробного периода подписку продлевают 10 % пользователей. Выясните, какое минимальное количество промокодов нужно разослать, чтобы вероятность не выполнить план была примерно 5 %. Подберите параметры распределения, описывающего эту ситуацию, постройте график распределения и сформулируйте ответ на вопрос о количестве промокодов."
   ]
  },
  {
   "cell_type": "markdown",
   "id": "06806413-c6cf-4a63-82a9-204cadccbb67",
   "metadata": {},
   "source": [
    "H0: Вероятность, что подписку продлят 100 клиентов равна 5 %\n",
    "\n",
    "H1: Вероятность, что подписку продлят 100 клиентов меньше 5 %\n",
    "\n",
    "вероятность не выполнить план примерно 5% - это вероятность 5%, что подписку продлят меньше 100 клиентов"
   ]
  },
  {
   "cell_type": "markdown",
   "id": "d3edf7a1-6c2d-48da-b3b6-e0db2dc9028e",
   "metadata": {},
   "source": [
    "n = 1200 \n",
    "p = 0.1 \n",
    "\n",
    "alpha = 0.05\n",
    "\n",
    "mu = n * p \n",
    "sigma = (n * p * (1 - p)) ** 0.5 \n",
    "\n",
    "distr = st.norm(mu, sigma) \n",
    "\n",
    "result = distr.cdf(100) \n",
    "print('Вероятность, что подписку продлят 100 клиентов', result)\n",
    "\n",
    "if results.pvalue < alpha:\n",
    "    print('Отвергаем нулевую гипотезу')\n",
    "else:\n",
    "    print('Не получилось отвергнуть нулевую гипотезу') "
   ]
  },
  {
   "cell_type": "markdown",
   "id": "c3808902",
   "metadata": {},
   "source": [
    "<div class=\"alert alert-warning\" style=\"border-radius: 15px; box-shadow: 4px 4px 4px; border: 1px solid \">\n",
    "<h2> Комментарий ревьюера v_1: <a class=\"tocSkip\"> </h2>\n",
    "    \n",
    "⚠️ st.norm - это нормальное распределение, а не биноминальное. Один из вариантов решения, чтобы рассчитать минимальное количество промокодов, -  в цикле выбрать какое-нибудь количество промокодов (n) и увеличивать его на единицу, пока binom.cdf не станет равным или меньше 0.05 (в аргументах функции cdf стоит указать 99, n и p). 99 выбирается, т.к. нужно найти такое минимальное значение, чтобы вероятность не выполнить план (меньше 100) была равна 0.05. "
   ]
  },
  {
   "cell_type": "markdown",
   "id": "efa7577b-00c0-44d8-a747-f4fb308d391b",
   "metadata": {},
   "source": [
    "График с нормальным распрпеделением"
   ]
  },
  {
   "cell_type": "markdown",
   "id": "4d1dc6be-936c-42f1-9239-52da5f1668d0",
   "metadata": {},
   "source": [
    "p = 0.1\n",
    "n = 1200\n",
    "\n",
    "left = int(n * p - 4 * ((n * p * (1 - p)) ** 0.5))\n",
    "right = int(n * p + 4 * ((n * p * (1 - p)) ** 0.5))\n",
    "\n",
    "x = list(range(max(0, left), right))\n",
    "\n",
    "ax = plt.subplot()\n",
    "\n",
    "ax.plot(x, binom.pmf(x, n, p))\n",
    "ax.grid()\n",
    "plt.show()"
   ]
  },
  {
   "cell_type": "markdown",
   "id": "d61aa999-61ba-483d-8734-0147a0d54fea",
   "metadata": {},
   "source": [
    "\n",
    "Ответ: Что бы подписку продлили 100 клиентов нужно раздать 1200 промокодов\n"
   ]
  },
  {
   "cell_type": "markdown",
   "id": "63994f7a-a4f6-4243-bb3b-4787be5dbe14",
   "metadata": {},
   "source": [
    "<div class=\"alert alert-info\"  style=\"border-radius: 15px; box-shadow: 4px 4px 4px; border: 1px solid \">\n",
    "    \n",
    "<h2>Комментарий студента v_1: <a class=\"tocSkip\"> </h2>\n",
    "\n",
    "Ниже собрал новое решение с циклом по перебору значений `n`"
   ]
  },
  {
   "cell_type": "code",
   "execution_count": 50,
   "id": "e8a07acc-3b60-453d-a022-8e6a1e92e17c",
   "metadata": {},
   "outputs": [
    {
     "name": "stdout",
     "output_type": "stream",
     "text": [
      "Что бы подписку продлили 100 клиентов, нужно разослать 1173 промокодов\n"
     ]
    }
   ],
   "source": [
    "n = 1000 \n",
    "p = 0.1 \n",
    "\n",
    "alpha = 0.05\n",
    " \n",
    "\n",
    "dist = st.binom(n, p)\n",
    "\n",
    "result = dist.cdf(100) \n",
    "\n",
    "while result > alpha:\n",
    "    if n > 3000:\n",
    "        print('stop', result)\n",
    "        break\n",
    "    dist = st.binom(n, p)\n",
    "    result = dist.cdf(100) \n",
    "    n += 1\n",
    "    \n",
    "else:\n",
    "    print('Что бы подписку продлили 100 клиентов, нужно разослать', n, 'промокодов')"
   ]
  },
  {
   "cell_type": "markdown",
   "id": "86e7c3d0",
   "metadata": {},
   "source": [
    "<div class=\"alert alert-warning\" style=\"border-radius: 15px; box-shadow: 4px 4px 4px; border: 1px solid \">\n",
    "<h2> Комментарий ревьюера v_2: <a class=\"tocSkip\"> </h2>\n",
    "    \n",
    "⚠️ Как я выше писал, должно быть не 100, а 99. И на одну единицу результат получился больше, чем должно быть"
   ]
  },
  {
   "cell_type": "code",
   "execution_count": 51,
   "id": "cd5f6280-e3e9-4a3c-be71-31441d7ece35",
   "metadata": {},
   "outputs": [
    {
     "data": {
      "image/png": "[encoded data removed]",
      "text/plain": [
       "<Figure size 640x480 with 1 Axes>"
      ]
     },
     "metadata": {},
     "output_type": "display_data"
    }
   ],
   "source": [
    "n = 1173\n",
    "p = 0.1\n",
    "\n",
    "left = int(n * p - 4 * ((n * p * (1 - p)) ** 0.5))\n",
    "right = int(n * p + 4 * ((n * p * (1 - p)) ** 0.5))\n",
    "\n",
    "x = list(range(max(0, left), right))\n",
    "\n",
    "ax = plt.subplot()\n",
    "\n",
    "ax.plot(x, binom.pmf(x, n, p))\n",
    "ax.grid()\n",
    "plt.show()"
   ]
  },
  {
   "cell_type": "markdown",
   "id": "0ae4e7b2-9e99-4e8b-a3de-e4d9611bdc0b",
   "metadata": {},
   "source": [
    "### Push-уведомления"
   ]
  },
  {
   "cell_type": "markdown",
   "id": "067d27bd-da9d-48c7-8695-d0cb401e5079",
   "metadata": {},
   "source": [
    "Отдел маркетинга рассылает клиентам push-уведомления в мобильном приложении. Клиенты могут открыть его или не открывать. Известно, что уведомления открывают около 40 % получивших клиентов. Отдел планирует разослать 1 млн уведомлений. С помощью аппроксимации постройте примерный график распределения и оцените вероятность того, что уведомление откроют не более 399,5 тыс. пользователей."
   ]
  },
  {
   "cell_type": "code",
   "execution_count": 52,
   "id": "d9af7f68-aa1f-47c8-a357-e1fc7ca435aa",
   "metadata": {},
   "outputs": [
    {
     "data": {
      "image/png": "[encoded data removed]",
      "text/plain": [
       "<Figure size 640x480 with 1 Axes>"
      ]
     },
     "metadata": {},
     "output_type": "display_data"
    },
    {
     "name": "stdout",
     "output_type": "stream",
     "text": [
      "\n",
      "Ответ: Вероятность того, что уведомление откроют не более 399,5 тыс. пользователей: 0.15371708296369768\n",
      "\n"
     ]
    }
   ],
   "source": [
    "n = 1000000 \n",
    "p = 0.4 \n",
    "\n",
    "left = int(n * p - 4 * ((n * p * (1 - p)) ** 0.5))\n",
    "right = int(n * p + 4 * ((n * p * (1 - p)) ** 0.5))\n",
    "\n",
    "x = list(range(max(0, left), right))\n",
    "\n",
    "ax = plt.subplot()\n",
    "\n",
    "ax.plot(x, binom.pmf(x, n, p))\n",
    "ax.grid()\n",
    "plt.show()\n",
    "\n",
    "mu = n * p \n",
    "sigma = (n * p * (1 - p)) ** 0.5 \n",
    "\n",
    "distr = st.norm(mu, sigma) \n",
    "\n",
    "result = distr.cdf(399500) \n",
    "print()\n",
    "print('Ответ: Вероятность того, что уведомление откроют не более 399,5 тыс. пользователей:', result)\n",
    "print()"
   ]
  },
  {
   "cell_type": "markdown",
   "id": "efd969d7",
   "metadata": {},
   "source": [
    "<div class=\"alert alert-success\" style=\"border-radius: 15px; box-shadow: 4px 4px 4px; border: 1px solid \">\n",
    "<h2> Комментарий ревьюера v_1: <a class=\"tocSkip\"> </h2>\n",
    "    \n",
    "✅ Верно"
   ]
  },
  {
   "cell_type": "markdown",
   "id": "66d6bc69-f865-4d89-b7e0-4a1913b3b774",
   "metadata": {},
   "source": [
    "## Вывод"
   ]
  },
  {
   "cell_type": "markdown",
   "id": "56413dbd-6178-4a1b-abb1-a5624d382524",
   "metadata": {},
   "source": [
    "Данные были получены без потерь; \n",
    "\n",
    "В данных присутствовали дубликаты, которые были удалены;\n",
    "\n",
    "Формат даты совершения поздки был записан в неверном формате, который был изменен;\n",
    "\n",
    "Добавлена колонка с месяцами в которых были совершены поездки;\n",
    "\n",
    "Построены графики и изучены:\n",
    " - Частота встречаемости городов, где Пятигорск на первом месте, Москва на последнем;\n",
    " - Соотношение пользователей с подпиской и без подписки, где пользователей без подписки больше на 8.8% от общего количества подписчиков\n",
    " - Возраст пользователей, где средний возраст 25 лет, а возраст всех от детей младше 15 лет до 45 лет;\n",
    " - Расстояние, которое пользователь преодолел за одну поездку, где среднее 3 км, максимум 7 км и есть небольшой пик коротких поездок 500м;\n",
    " - Продолжителность поездок, где среднее 17.5 минут и так же есть всплеск на коротких сессиях около 1 минуты;\n",
    "\n",
    "Создана новая таблица с объединенными данными из трех исходных таблиц;\n",
    "\n",
    "На базе объедененной таблицы созданы две таблицы с пользователями с подпиской и без соответственно;\n",
    "\n",
    "Созданы графики с длительностью сессии и расстоянием. которое пользователь проехал за сессиию для двух категорий пользователей;\n",
    "\n",
    "Создан датафрейм, где собраны данные пользователей по расстоянию и длительности поездок разделенные по месяцам и условия тарифа подписки;\n",
    "\n",
    "В этот датафрейм добавлена колонка с общей выручкой клиента за месяц;\n",
    "\n",
    "Это все помогло подготовить данные для проверки следующих гипотез:\n",
    "- Тратят ли пользователи с подпиской больше времени на поездки? Ответ: нет\n",
    "- Можно ли сказать, что среднее расстояние, которое проезжают пользователи с подпиской за одну поездку, не превышает 3130 метров? Ответ: нет\n",
    "- Будет ли помесячная выручка от пользователей с подпиской по месяцам выше, чем выручка от пользователей без подписки. Ответ: да\n",
    "\n",
    "В задачах по распределению получены ответы:\n",
    "- Что бы подписку продлили 100 клиентов нужно раздать 1200 промокодов;\n",
    "- Вероятность того, что уведомление откроют не более 399,5 тыс. пользователей при отправленных 1000000 уведомлений: 15.37 %"
   ]
  },
  {
   "cell_type": "markdown",
   "id": "1fb527da",
   "metadata": {},
   "source": [
    "<div class=\"alert alert-block alert-danger\" style=\"border-radius: 15px; box-shadow: 4px 4px 4px; border: 1px solid \">\n",
    "<h2> Комментарий ревьюера v_1: <a class=\"tocSkip\"></h2>\n",
    "    \n",
    "❌ Вывод нужно будет обновить после внесения изменений в проекте, добавить, какие результаты получены в шаге 4. Также стоит резюмировать, являются ли пользователи с подпиской более выгодными для сервиса аренды самокатов?"
   ]
  },
  {
   "cell_type": "markdown",
   "id": "72723b0a-ef23-461b-b373-d098fc000d57",
   "metadata": {},
   "source": [
    "<div class=\"alert alert-info\"  style=\"border-radius: 15px; box-shadow: 4px 4px 4px; border: 1px solid \">\n",
    "    \n",
    "<h2>Комментарий студента v_1: <a class=\"tocSkip\"> </h2>\n",
    "\n",
    "Ниже добавил новый исправленный вывод.   "
   ]
  },
  {
   "cell_type": "markdown",
   "id": "c3a94695-c0df-4760-9b39-f553cba772f9",
   "metadata": {},
   "source": [
    "Данные были получены без потерь; \n",
    "\n",
    "В данных присутствовал 31 дубликат. Все дубликаты были удалены;\n",
    "\n",
    "Формат даты совершения поздки был записан в неверном формате, который был изменен;\n",
    "\n",
    "Добавлена колонка с месяцами в которых были совершены поездки;\n",
    "\n",
    "Построены графики и изучены:\n",
    " - Частота встречаемости городов, где Пятигорск на первом месте, Москва на последнем;\n",
    " - Соотношение пользователей с подпиской и без подписки, где пользователей без подписки больше на 8.8% от общего количества подписчиков\n",
    " - Возраст пользователей, где средний возраст 25 лет. Чаще всего встречаются пользователи возрастом 22-28 лет.;\n",
    " - Расстояние, которое пользователь преодолел за одну поездку, где среднее 3 км, максимум 7 км и есть небольшой пик коротких поездок 500м;\n",
    " - Продолжителность поездок, где среднее 17.5 минут и так же есть всплеск на коротких сессиях около 1 минуты;\n",
    "\n",
    "Создана новая таблица с объединенными данными из трех исходных таблиц;\n",
    "\n",
    "На базе объедененной таблицы созданы две таблицы с пользователями с подпиской и без соответственно;\n",
    "\n",
    "Созданы графики с длительностью сессии и расстоянием. которое пользователь проехал за сессиию для двух категорий пользователей;\n",
    "\n",
    "Создан датафрейм, где собраны данные пользователей по расстоянию и длительности поездок разделенные по месяцам и условия тарифа подписки;\n",
    "\n",
    "В этот датафрейм добавлена колонка с общей выручкой клиента за месяц;\n",
    "\n",
    "Это все помогло подготовить данные для проверки следующих гипотез:\n",
    "- Тратят ли пользователи с подпиской больше времени на поездки? Ответ: да\n",
    "- Можно ли сказать, что среднее расстояние, которое проезжают пользователи с подпиской за одну поездку, не превышает 3130 метров? Ответ: да\n",
    "- Будет ли помесячная выручка от пользователей с подпиской по месяцам выше, чем выручка от пользователей без подписки. Ответ: да\n",
    "\n",
    "В задачах по распределению получены ответы:\n",
    "- Что бы подписку продлили 100 клиентов нужно раздать 1173 промокода;\n",
    "- Вероятность того, что уведомление откроют не более 399,5 тыс. пользователей при отправленных 1000000 уведомлений: 15.37 %"
   ]
  },
  {
   "cell_type": "markdown",
   "id": "afe801f8",
   "metadata": {},
   "source": [
    "<div style=\"border:solid lightblue 3px; background:#f7faf8; padding: 20px\">\n",
    "<span style=\"color:darkblue\">Общий вывод по проекту v_1:</span>\n",
    "    \n",
    "У тебя хорошая работа! Cоблюдена структура, проделана бóльшая часть проекта, но есть замечания, которые необходимо доработать:\n",
    "* добавить вступление\n",
    "* оформить визуализации\n",
    "* пп. в 3, 4, 5 и 6 шагах\n",
    "* обновить и дополнить итоговые выводы\n",
    "   \n",
    "Также добавил рекомендации по улучшению проекта. Жду проект)"
   ]
  },
  {
   "cell_type": "markdown",
   "id": "cf5104f5",
   "metadata": {},
   "source": [
    "<div style=\"border:solid lightblue 3px; background:#f7faf8; padding: 20px\">\n",
    "<span style=\"color:darkblue\">Общий вывод по проекту v_2:</span>\n",
    "    \n",
    "Доработать:\n",
    "* оформить визуализации\n",
    "* пп. в 5 и 6 шагах\n",
    "   \n",
    "Жду проект)"
   ]
  },
  {
   "cell_type": "markdown",
   "id": "08173a5b",
   "metadata": {},
   "source": [
    "<div style=\"border:solid lightblue 3px; background:#f7faf8; padding: 20px\">\n",
    "<span style=\"color:darkblue\">Общий вывод по проекту v_3:</span>\n",
    "    \n",
    "Спасибо за доработанные замечания! Проект принят. В дополнение по данной [ссылке](https://allatambov.github.io/psms/pdf/hypo-test.pdf) можно ознакомиться с очень понятной краткой теорией по проверке гипотез.\n",
    "    \n",
    "Успехов в дальнейшем обучении!)"
   ]
  }
 ],
 "metadata": {
  "ExecuteTimeLog": [
   {
    "duration": 1088,
    "start_time": "2024-02-07T15:27:42.868Z"
   },
   {
    "duration": 266,
    "start_time": "2024-02-07T15:27:43.958Z"
   },
   {
    "duration": 0,
    "start_time": "2024-02-07T15:27:44.226Z"
   },
   {
    "duration": 1,
    "start_time": "2024-02-07T15:27:44.227Z"
   },
   {
    "duration": 0,
    "start_time": "2024-02-07T15:27:44.228Z"
   },
   {
    "duration": 0,
    "start_time": "2024-02-07T15:27:44.230Z"
   },
   {
    "duration": 0,
    "start_time": "2024-02-07T15:27:44.231Z"
   },
   {
    "duration": 0,
    "start_time": "2024-02-07T15:27:44.231Z"
   },
   {
    "duration": 0,
    "start_time": "2024-02-07T15:27:44.233Z"
   },
   {
    "duration": 0,
    "start_time": "2024-02-07T15:27:44.234Z"
   },
   {
    "duration": 0,
    "start_time": "2024-02-07T15:27:44.235Z"
   },
   {
    "duration": 0,
    "start_time": "2024-02-07T15:27:44.236Z"
   },
   {
    "duration": 0,
    "start_time": "2024-02-07T15:27:44.237Z"
   },
   {
    "duration": 0,
    "start_time": "2024-02-07T15:27:44.238Z"
   },
   {
    "duration": 0,
    "start_time": "2024-02-07T15:27:44.239Z"
   },
   {
    "duration": 0,
    "start_time": "2024-02-07T15:27:44.240Z"
   },
   {
    "duration": 0,
    "start_time": "2024-02-07T15:27:44.241Z"
   },
   {
    "duration": 0,
    "start_time": "2024-02-07T15:27:44.242Z"
   },
   {
    "duration": 0,
    "start_time": "2024-02-07T15:27:44.243Z"
   },
   {
    "duration": 0,
    "start_time": "2024-02-07T15:27:44.244Z"
   },
   {
    "duration": 0,
    "start_time": "2024-02-07T15:27:44.245Z"
   },
   {
    "duration": 0,
    "start_time": "2024-02-07T15:27:44.246Z"
   },
   {
    "duration": 0,
    "start_time": "2024-02-07T15:27:44.246Z"
   },
   {
    "duration": 0,
    "start_time": "2024-02-07T15:27:44.247Z"
   },
   {
    "duration": 0,
    "start_time": "2024-02-07T15:27:44.273Z"
   },
   {
    "duration": 0,
    "start_time": "2024-02-07T15:27:44.274Z"
   },
   {
    "duration": 0,
    "start_time": "2024-02-07T15:27:44.275Z"
   },
   {
    "duration": 0,
    "start_time": "2024-02-07T15:27:44.276Z"
   },
   {
    "duration": 0,
    "start_time": "2024-02-07T15:27:44.277Z"
   },
   {
    "duration": 0,
    "start_time": "2024-02-07T15:27:44.278Z"
   },
   {
    "duration": 0,
    "start_time": "2024-02-07T15:27:44.280Z"
   },
   {
    "duration": 0,
    "start_time": "2024-02-07T15:27:44.281Z"
   },
   {
    "duration": 0,
    "start_time": "2024-02-07T15:27:44.282Z"
   },
   {
    "duration": 0,
    "start_time": "2024-02-07T15:27:44.283Z"
   },
   {
    "duration": 0,
    "start_time": "2024-02-07T15:27:44.284Z"
   },
   {
    "duration": 0,
    "start_time": "2024-02-07T15:27:44.285Z"
   },
   {
    "duration": 0,
    "start_time": "2024-02-07T15:27:44.287Z"
   },
   {
    "duration": 0,
    "start_time": "2024-02-07T15:27:44.288Z"
   },
   {
    "duration": 0,
    "start_time": "2024-02-07T15:27:44.289Z"
   },
   {
    "duration": 0,
    "start_time": "2024-02-07T15:27:44.290Z"
   },
   {
    "duration": 0,
    "start_time": "2024-02-07T15:27:44.292Z"
   },
   {
    "duration": 0,
    "start_time": "2024-02-07T15:27:44.293Z"
   },
   {
    "duration": 0,
    "start_time": "2024-02-07T15:27:44.294Z"
   },
   {
    "duration": 1086,
    "start_time": "2024-02-07T15:27:58.418Z"
   },
   {
    "duration": 311,
    "start_time": "2024-02-07T15:27:59.506Z"
   },
   {
    "duration": 12,
    "start_time": "2024-02-07T15:27:59.818Z"
   },
   {
    "duration": 16,
    "start_time": "2024-02-07T15:27:59.832Z"
   },
   {
    "duration": 15,
    "start_time": "2024-02-07T15:27:59.850Z"
   },
   {
    "duration": 32,
    "start_time": "2024-02-07T15:27:59.866Z"
   },
   {
    "duration": 20,
    "start_time": "2024-02-07T15:27:59.899Z"
   },
   {
    "duration": 27,
    "start_time": "2024-02-07T15:27:59.920Z"
   },
   {
    "duration": 19,
    "start_time": "2024-02-07T15:27:59.949Z"
   },
   {
    "duration": 18,
    "start_time": "2024-02-07T15:27:59.971Z"
   },
   {
    "duration": 7,
    "start_time": "2024-02-07T15:27:59.991Z"
   },
   {
    "duration": 30,
    "start_time": "2024-02-07T15:27:59.999Z"
   },
   {
    "duration": 60,
    "start_time": "2024-02-07T15:28:00.031Z"
   },
   {
    "duration": 176,
    "start_time": "2024-02-07T15:28:00.093Z"
   },
   {
    "duration": 8,
    "start_time": "2024-02-07T15:28:00.271Z"
   },
   {
    "duration": 156,
    "start_time": "2024-02-07T15:28:00.281Z"
   },
   {
    "duration": 5,
    "start_time": "2024-02-07T15:28:00.438Z"
   },
   {
    "duration": 195,
    "start_time": "2024-02-07T15:28:00.445Z"
   },
   {
    "duration": 5,
    "start_time": "2024-02-07T15:28:00.642Z"
   },
   {
    "duration": 269,
    "start_time": "2024-02-07T15:28:00.649Z"
   },
   {
    "duration": 415,
    "start_time": "2024-02-07T15:28:00.919Z"
   },
   {
    "duration": 10,
    "start_time": "2024-02-07T15:28:01.336Z"
   },
   {
    "duration": 90,
    "start_time": "2024-02-07T15:28:01.348Z"
   },
   {
    "duration": 74,
    "start_time": "2024-02-07T15:28:01.439Z"
   },
   {
    "duration": 42,
    "start_time": "2024-02-07T15:28:01.515Z"
   },
   {
    "duration": 72,
    "start_time": "2024-02-07T15:28:01.558Z"
   },
   {
    "duration": 57,
    "start_time": "2024-02-07T15:28:01.632Z"
   },
   {
    "duration": 66,
    "start_time": "2024-02-07T15:28:01.692Z"
   },
   {
    "duration": 398,
    "start_time": "2024-02-07T15:28:01.760Z"
   },
   {
    "duration": 401,
    "start_time": "2024-02-07T15:28:02.160Z"
   },
   {
    "duration": 9,
    "start_time": "2024-02-07T15:28:02.563Z"
   },
   {
    "duration": 57,
    "start_time": "2024-02-07T15:28:02.574Z"
   },
   {
    "duration": 6,
    "start_time": "2024-02-07T15:28:02.633Z"
   },
   {
    "duration": 48,
    "start_time": "2024-02-07T15:28:02.640Z"
   },
   {
    "duration": 61,
    "start_time": "2024-02-07T15:28:02.690Z"
   },
   {
    "duration": 5,
    "start_time": "2024-02-07T15:28:02.753Z"
   },
   {
    "duration": 38,
    "start_time": "2024-02-07T15:28:02.759Z"
   },
   {
    "duration": 22,
    "start_time": "2024-02-07T15:28:02.799Z"
   },
   {
    "duration": 17,
    "start_time": "2024-02-07T15:28:02.823Z"
   },
   {
    "duration": 14,
    "start_time": "2024-02-07T15:28:02.842Z"
   },
   {
    "duration": 6,
    "start_time": "2024-02-07T15:28:02.858Z"
   },
   {
    "duration": 144,
    "start_time": "2024-02-07T15:28:02.865Z"
   },
   {
    "duration": 195,
    "start_time": "2024-02-07T15:28:03.010Z"
   },
   {
    "duration": 12,
    "start_time": "2024-02-07T17:02:43.844Z"
   },
   {
    "duration": 4,
    "start_time": "2024-02-07T17:03:16.327Z"
   },
   {
    "duration": 10,
    "start_time": "2024-02-07T17:03:19.827Z"
   },
   {
    "duration": 4,
    "start_time": "2024-02-07T17:04:38.528Z"
   },
   {
    "duration": 10,
    "start_time": "2024-02-07T17:04:40.120Z"
   },
   {
    "duration": 6,
    "start_time": "2024-02-07T17:07:35.458Z"
   },
   {
    "duration": 5,
    "start_time": "2024-02-07T17:14:21.374Z"
   },
   {
    "duration": 126,
    "start_time": "2024-02-07T17:14:24.645Z"
   },
   {
    "duration": 1077,
    "start_time": "2024-02-07T17:17:57.132Z"
   },
   {
    "duration": 124,
    "start_time": "2024-02-07T17:17:58.211Z"
   },
   {
    "duration": 13,
    "start_time": "2024-02-07T17:17:58.337Z"
   },
   {
    "duration": 12,
    "start_time": "2024-02-07T17:17:58.351Z"
   },
   {
    "duration": 9,
    "start_time": "2024-02-07T17:17:58.366Z"
   },
   {
    "duration": 10,
    "start_time": "2024-02-07T17:17:58.376Z"
   },
   {
    "duration": 6,
    "start_time": "2024-02-07T17:17:58.388Z"
   },
   {
    "duration": 10,
    "start_time": "2024-02-07T17:17:58.395Z"
   },
   {
    "duration": 11,
    "start_time": "2024-02-07T17:17:58.406Z"
   },
   {
    "duration": 13,
    "start_time": "2024-02-07T17:17:58.418Z"
   },
   {
    "duration": 5,
    "start_time": "2024-02-07T17:17:58.432Z"
   },
   {
    "duration": 18,
    "start_time": "2024-02-07T17:17:58.438Z"
   },
   {
    "duration": 23,
    "start_time": "2024-02-07T17:17:58.457Z"
   },
   {
    "duration": 149,
    "start_time": "2024-02-07T17:17:58.483Z"
   },
   {
    "duration": 6,
    "start_time": "2024-02-07T17:17:58.633Z"
   },
   {
    "duration": 123,
    "start_time": "2024-02-07T17:17:58.640Z"
   },
   {
    "duration": 11,
    "start_time": "2024-02-07T17:17:58.764Z"
   },
   {
    "duration": 164,
    "start_time": "2024-02-07T17:17:58.777Z"
   },
   {
    "duration": 4,
    "start_time": "2024-02-07T17:17:58.943Z"
   },
   {
    "duration": 204,
    "start_time": "2024-02-07T17:17:58.949Z"
   },
   {
    "duration": 381,
    "start_time": "2024-02-07T17:17:59.154Z"
   },
   {
    "duration": 10,
    "start_time": "2024-02-07T17:17:59.536Z"
   },
   {
    "duration": 26,
    "start_time": "2024-02-07T17:17:59.547Z"
   },
   {
    "duration": 16,
    "start_time": "2024-02-07T17:17:59.574Z"
   },
   {
    "duration": 5,
    "start_time": "2024-02-07T17:17:59.591Z"
   },
   {
    "duration": 32,
    "start_time": "2024-02-07T17:17:59.597Z"
   },
   {
    "duration": 9,
    "start_time": "2024-02-07T17:17:59.630Z"
   },
   {
    "duration": 13,
    "start_time": "2024-02-07T17:17:59.641Z"
   },
   {
    "duration": 309,
    "start_time": "2024-02-07T17:17:59.655Z"
   },
   {
    "duration": 379,
    "start_time": "2024-02-07T17:17:59.965Z"
   },
   {
    "duration": 9,
    "start_time": "2024-02-07T17:18:00.345Z"
   },
   {
    "duration": 67,
    "start_time": "2024-02-07T17:18:00.355Z"
   },
   {
    "duration": 15,
    "start_time": "2024-02-07T17:18:00.423Z"
   },
   {
    "duration": 39,
    "start_time": "2024-02-07T17:18:00.439Z"
   },
   {
    "duration": 42,
    "start_time": "2024-02-07T17:18:00.479Z"
   },
   {
    "duration": 4,
    "start_time": "2024-02-07T17:18:00.523Z"
   },
   {
    "duration": 46,
    "start_time": "2024-02-07T17:18:00.528Z"
   },
   {
    "duration": 16,
    "start_time": "2024-02-07T17:18:00.575Z"
   },
   {
    "duration": 43,
    "start_time": "2024-02-07T17:18:00.593Z"
   },
   {
    "duration": 134,
    "start_time": "2024-02-07T17:18:00.638Z"
   },
   {
    "duration": 17,
    "start_time": "2024-02-07T17:18:00.775Z"
   },
   {
    "duration": 153,
    "start_time": "2024-02-07T17:18:00.793Z"
   },
   {
    "duration": 168,
    "start_time": "2024-02-07T17:18:00.947Z"
   },
   {
    "duration": 1138,
    "start_time": "2024-02-08T14:40:43.390Z"
   },
   {
    "duration": 241,
    "start_time": "2024-02-08T14:40:44.531Z"
   },
   {
    "duration": 13,
    "start_time": "2024-02-08T14:40:44.774Z"
   },
   {
    "duration": 12,
    "start_time": "2024-02-08T14:40:44.789Z"
   },
   {
    "duration": 16,
    "start_time": "2024-02-08T14:40:44.803Z"
   },
   {
    "duration": 12,
    "start_time": "2024-02-08T14:40:44.821Z"
   },
   {
    "duration": 19,
    "start_time": "2024-02-08T14:40:44.835Z"
   },
   {
    "duration": 21,
    "start_time": "2024-02-08T14:40:44.856Z"
   },
   {
    "duration": 11,
    "start_time": "2024-02-08T14:40:44.878Z"
   },
   {
    "duration": 12,
    "start_time": "2024-02-08T14:40:44.892Z"
   },
   {
    "duration": 18,
    "start_time": "2024-02-08T14:40:44.906Z"
   },
   {
    "duration": 9,
    "start_time": "2024-02-08T14:40:44.925Z"
   },
   {
    "duration": 5,
    "start_time": "2024-02-08T14:40:44.936Z"
   },
   {
    "duration": 18,
    "start_time": "2024-02-08T14:40:44.943Z"
   },
   {
    "duration": 6,
    "start_time": "2024-02-08T14:40:44.962Z"
   },
   {
    "duration": 19,
    "start_time": "2024-02-08T14:40:44.969Z"
   },
   {
    "duration": 158,
    "start_time": "2024-02-08T14:40:44.989Z"
   },
   {
    "duration": 150,
    "start_time": "2024-02-08T14:40:45.149Z"
   },
   {
    "duration": 5,
    "start_time": "2024-02-08T14:40:45.301Z"
   },
   {
    "duration": 156,
    "start_time": "2024-02-08T14:40:45.308Z"
   },
   {
    "duration": 94,
    "start_time": "2024-02-08T14:40:45.466Z"
   },
   {
    "duration": 6,
    "start_time": "2024-02-08T14:40:45.562Z"
   },
   {
    "duration": 194,
    "start_time": "2024-02-08T14:40:45.570Z"
   },
   {
    "duration": 8,
    "start_time": "2024-02-08T14:40:45.766Z"
   },
   {
    "duration": 25,
    "start_time": "2024-02-08T14:40:45.775Z"
   },
   {
    "duration": 203,
    "start_time": "2024-02-08T14:40:45.802Z"
   },
   {
    "duration": 384,
    "start_time": "2024-02-08T14:40:46.007Z"
   },
   {
    "duration": 5,
    "start_time": "2024-02-08T14:40:46.395Z"
   },
   {
    "duration": 12,
    "start_time": "2024-02-08T14:40:46.401Z"
   },
   {
    "duration": 35,
    "start_time": "2024-02-08T14:40:46.423Z"
   },
   {
    "duration": 21,
    "start_time": "2024-02-08T14:40:46.460Z"
   },
   {
    "duration": 18,
    "start_time": "2024-02-08T14:40:46.483Z"
   },
   {
    "duration": 96,
    "start_time": "2024-02-08T14:40:46.503Z"
   },
   {
    "duration": 6,
    "start_time": "2024-02-08T14:40:46.600Z"
   },
   {
    "duration": 22,
    "start_time": "2024-02-08T14:40:46.607Z"
   },
   {
    "duration": 22,
    "start_time": "2024-02-08T14:40:46.631Z"
   },
   {
    "duration": 24,
    "start_time": "2024-02-08T14:40:46.655Z"
   },
   {
    "duration": 349,
    "start_time": "2024-02-08T14:40:46.680Z"
   },
   {
    "duration": 325,
    "start_time": "2024-02-08T14:40:47.031Z"
   },
   {
    "duration": 10,
    "start_time": "2024-02-08T14:40:47.357Z"
   },
   {
    "duration": 4,
    "start_time": "2024-02-08T14:40:47.368Z"
   },
   {
    "duration": 63,
    "start_time": "2024-02-08T14:40:47.374Z"
   },
   {
    "duration": 10,
    "start_time": "2024-02-08T14:40:47.438Z"
   },
   {
    "duration": 51,
    "start_time": "2024-02-08T14:40:47.450Z"
   },
   {
    "duration": 6,
    "start_time": "2024-02-08T14:40:47.503Z"
   },
   {
    "duration": 15,
    "start_time": "2024-02-08T14:40:47.511Z"
   },
   {
    "duration": 31,
    "start_time": "2024-02-08T14:40:47.528Z"
   },
   {
    "duration": 6,
    "start_time": "2024-02-08T14:40:47.560Z"
   },
   {
    "duration": 16,
    "start_time": "2024-02-08T14:40:47.568Z"
   },
   {
    "duration": 22,
    "start_time": "2024-02-08T14:40:47.586Z"
   },
   {
    "duration": 166,
    "start_time": "2024-02-08T14:40:47.610Z"
   },
   {
    "duration": 155,
    "start_time": "2024-02-08T14:40:47.778Z"
   },
   {
    "duration": 164,
    "start_time": "2024-02-08T14:40:47.934Z"
   },
   {
    "duration": 16,
    "start_time": "2024-02-08T14:49:55.164Z"
   },
   {
    "duration": 6,
    "start_time": "2024-02-08T14:53:54.303Z"
   },
   {
    "duration": 5,
    "start_time": "2024-02-08T14:54:12.795Z"
   },
   {
    "duration": 164,
    "start_time": "2024-02-08T14:57:19.926Z"
   },
   {
    "duration": 196,
    "start_time": "2024-02-08T14:57:29.583Z"
   },
   {
    "duration": 1161,
    "start_time": "2024-02-08T14:59:05.831Z"
   },
   {
    "duration": 129,
    "start_time": "2024-02-08T14:59:06.994Z"
   },
   {
    "duration": 12,
    "start_time": "2024-02-08T14:59:07.125Z"
   },
   {
    "duration": 31,
    "start_time": "2024-02-08T14:59:07.140Z"
   },
   {
    "duration": 18,
    "start_time": "2024-02-08T14:59:07.173Z"
   },
   {
    "duration": 17,
    "start_time": "2024-02-08T14:59:07.193Z"
   },
   {
    "duration": 13,
    "start_time": "2024-02-08T14:59:07.211Z"
   },
   {
    "duration": 11,
    "start_time": "2024-02-08T14:59:07.226Z"
   },
   {
    "duration": 13,
    "start_time": "2024-02-08T14:59:07.238Z"
   },
   {
    "duration": 10,
    "start_time": "2024-02-08T14:59:07.254Z"
   },
   {
    "duration": 6,
    "start_time": "2024-02-08T14:59:07.265Z"
   },
   {
    "duration": 25,
    "start_time": "2024-02-08T14:59:07.272Z"
   },
   {
    "duration": 23,
    "start_time": "2024-02-08T14:59:07.299Z"
   },
   {
    "duration": 12,
    "start_time": "2024-02-08T14:59:07.324Z"
   },
   {
    "duration": 6,
    "start_time": "2024-02-08T14:59:07.337Z"
   },
   {
    "duration": 20,
    "start_time": "2024-02-08T14:59:07.344Z"
   },
   {
    "duration": 165,
    "start_time": "2024-02-08T14:59:07.366Z"
   },
   {
    "duration": 173,
    "start_time": "2024-02-08T14:59:07.533Z"
   },
   {
    "duration": 6,
    "start_time": "2024-02-08T14:59:07.708Z"
   },
   {
    "duration": 123,
    "start_time": "2024-02-08T14:59:07.715Z"
   },
   {
    "duration": 91,
    "start_time": "2024-02-08T14:59:07.840Z"
   },
   {
    "duration": 6,
    "start_time": "2024-02-08T14:59:07.932Z"
   },
   {
    "duration": 174,
    "start_time": "2024-02-08T14:59:07.939Z"
   },
   {
    "duration": 13,
    "start_time": "2024-02-08T14:59:08.115Z"
   },
   {
    "duration": 23,
    "start_time": "2024-02-08T14:59:08.130Z"
   },
   {
    "duration": 214,
    "start_time": "2024-02-08T14:59:08.154Z"
   },
   {
    "duration": 378,
    "start_time": "2024-02-08T14:59:08.369Z"
   },
   {
    "duration": 6,
    "start_time": "2024-02-08T14:59:08.750Z"
   },
   {
    "duration": 7,
    "start_time": "2024-02-08T14:59:08.758Z"
   },
   {
    "duration": 14,
    "start_time": "2024-02-08T14:59:08.766Z"
   },
   {
    "duration": 9,
    "start_time": "2024-02-08T14:59:08.782Z"
   },
   {
    "duration": 45,
    "start_time": "2024-02-08T14:59:08.793Z"
   },
   {
    "duration": 111,
    "start_time": "2024-02-08T14:59:08.839Z"
   },
   {
    "duration": 6,
    "start_time": "2024-02-08T14:59:08.951Z"
   },
   {
    "duration": 30,
    "start_time": "2024-02-08T14:59:08.959Z"
   },
   {
    "duration": 16,
    "start_time": "2024-02-08T14:59:08.990Z"
   },
   {
    "duration": 16,
    "start_time": "2024-02-08T14:59:09.008Z"
   },
   {
    "duration": 321,
    "start_time": "2024-02-08T14:59:09.026Z"
   },
   {
    "duration": 338,
    "start_time": "2024-02-08T14:59:09.349Z"
   },
   {
    "duration": 10,
    "start_time": "2024-02-08T14:59:09.688Z"
   },
   {
    "duration": 7,
    "start_time": "2024-02-08T14:59:09.699Z"
   },
   {
    "duration": 56,
    "start_time": "2024-02-08T14:59:09.708Z"
   },
   {
    "duration": 8,
    "start_time": "2024-02-08T14:59:09.766Z"
   },
   {
    "duration": 29,
    "start_time": "2024-02-08T14:59:09.776Z"
   },
   {
    "duration": 5,
    "start_time": "2024-02-08T14:59:09.822Z"
   },
   {
    "duration": 19,
    "start_time": "2024-02-08T14:59:09.829Z"
   },
   {
    "duration": 22,
    "start_time": "2024-02-08T14:59:09.850Z"
   },
   {
    "duration": 10,
    "start_time": "2024-02-08T14:59:09.873Z"
   },
   {
    "duration": 42,
    "start_time": "2024-02-08T14:59:09.885Z"
   },
   {
    "duration": 17,
    "start_time": "2024-02-08T14:59:09.928Z"
   },
   {
    "duration": 178,
    "start_time": "2024-02-08T14:59:09.947Z"
   },
   {
    "duration": 169,
    "start_time": "2024-02-08T14:59:10.127Z"
   },
   {
    "duration": 173,
    "start_time": "2024-02-08T14:59:10.298Z"
   },
   {
    "duration": 1109,
    "start_time": "2024-02-08T21:19:56.341Z"
   },
   {
    "duration": 3,
    "start_time": "2024-02-08T21:19:57.452Z"
   },
   {
    "duration": 137,
    "start_time": "2024-02-08T21:19:57.457Z"
   },
   {
    "duration": 11,
    "start_time": "2024-02-08T21:19:57.596Z"
   },
   {
    "duration": 14,
    "start_time": "2024-02-08T21:19:57.609Z"
   },
   {
    "duration": 14,
    "start_time": "2024-02-08T21:19:57.625Z"
   },
   {
    "duration": 13,
    "start_time": "2024-02-08T21:19:57.640Z"
   },
   {
    "duration": 7,
    "start_time": "2024-02-08T21:19:57.654Z"
   },
   {
    "duration": 13,
    "start_time": "2024-02-08T21:19:57.663Z"
   },
   {
    "duration": 11,
    "start_time": "2024-02-08T21:19:57.678Z"
   },
   {
    "duration": 37,
    "start_time": "2024-02-08T21:19:57.691Z"
   },
   {
    "duration": 5,
    "start_time": "2024-02-08T21:19:57.729Z"
   },
   {
    "duration": 7,
    "start_time": "2024-02-08T21:19:57.735Z"
   },
   {
    "duration": 6,
    "start_time": "2024-02-08T21:19:57.745Z"
   },
   {
    "duration": 9,
    "start_time": "2024-02-08T21:19:57.752Z"
   },
   {
    "duration": 5,
    "start_time": "2024-02-08T21:19:57.762Z"
   },
   {
    "duration": 22,
    "start_time": "2024-02-08T21:19:57.768Z"
   },
   {
    "duration": 174,
    "start_time": "2024-02-08T21:19:57.792Z"
   },
   {
    "duration": 6,
    "start_time": "2024-02-08T21:19:57.967Z"
   },
   {
    "duration": 96,
    "start_time": "2024-02-08T21:19:57.974Z"
   },
   {
    "duration": 6,
    "start_time": "2024-02-08T21:19:58.071Z"
   },
   {
    "duration": 192,
    "start_time": "2024-02-08T21:19:58.078Z"
   },
   {
    "duration": 8,
    "start_time": "2024-02-08T21:19:58.271Z"
   },
   {
    "duration": 40,
    "start_time": "2024-02-08T21:19:58.280Z"
   },
   {
    "duration": 239,
    "start_time": "2024-02-08T21:19:58.322Z"
   },
   {
    "duration": 403,
    "start_time": "2024-02-08T21:19:58.563Z"
   },
   {
    "duration": 4,
    "start_time": "2024-02-08T21:19:58.968Z"
   },
   {
    "duration": 20,
    "start_time": "2024-02-08T21:19:58.974Z"
   },
   {
    "duration": 34,
    "start_time": "2024-02-08T21:19:58.995Z"
   },
   {
    "duration": 10,
    "start_time": "2024-02-08T21:19:59.031Z"
   },
   {
    "duration": 22,
    "start_time": "2024-02-08T21:19:59.043Z"
   },
   {
    "duration": 20,
    "start_time": "2024-02-08T21:19:59.067Z"
   },
   {
    "duration": 5,
    "start_time": "2024-02-08T21:19:59.089Z"
   },
   {
    "duration": 38,
    "start_time": "2024-02-08T21:19:59.096Z"
   },
   {
    "duration": 7,
    "start_time": "2024-02-08T21:19:59.135Z"
   },
   {
    "duration": 12,
    "start_time": "2024-02-08T21:19:59.143Z"
   },
   {
    "duration": 361,
    "start_time": "2024-02-08T21:19:59.156Z"
   },
   {
    "duration": 429,
    "start_time": "2024-02-08T21:19:59.522Z"
   },
   {
    "duration": 10,
    "start_time": "2024-02-08T21:19:59.953Z"
   },
   {
    "duration": 11,
    "start_time": "2024-02-08T21:19:59.964Z"
   },
   {
    "duration": 100,
    "start_time": "2024-02-08T21:19:59.978Z"
   },
   {
    "duration": 8,
    "start_time": "2024-02-08T21:20:00.079Z"
   },
   {
    "duration": 52,
    "start_time": "2024-02-08T21:20:00.089Z"
   },
   {
    "duration": 51,
    "start_time": "2024-02-08T21:20:00.143Z"
   },
   {
    "duration": 24,
    "start_time": "2024-02-08T21:20:00.196Z"
   },
   {
    "duration": 41,
    "start_time": "2024-02-08T21:20:00.222Z"
   },
   {
    "duration": 54,
    "start_time": "2024-02-08T21:20:00.265Z"
   },
   {
    "duration": 40,
    "start_time": "2024-02-08T21:20:00.321Z"
   },
   {
    "duration": 36,
    "start_time": "2024-02-08T21:20:00.363Z"
   },
   {
    "duration": 165,
    "start_time": "2024-02-08T21:20:00.401Z"
   },
   {
    "duration": 209,
    "start_time": "2024-02-08T21:20:00.568Z"
   },
   {
    "duration": 179,
    "start_time": "2024-02-08T21:20:00.779Z"
   },
   {
    "duration": 1138,
    "start_time": "2024-02-08T21:53:02.062Z"
   },
   {
    "duration": 3,
    "start_time": "2024-02-08T21:53:03.202Z"
   },
   {
    "duration": 137,
    "start_time": "2024-02-08T21:53:03.207Z"
   },
   {
    "duration": 14,
    "start_time": "2024-02-08T21:53:03.347Z"
   },
   {
    "duration": 13,
    "start_time": "2024-02-08T21:53:03.363Z"
   },
   {
    "duration": 16,
    "start_time": "2024-02-08T21:53:03.378Z"
   },
   {
    "duration": 24,
    "start_time": "2024-02-08T21:53:03.396Z"
   },
   {
    "duration": 7,
    "start_time": "2024-02-08T21:53:03.422Z"
   },
   {
    "duration": 26,
    "start_time": "2024-02-08T21:53:03.431Z"
   },
   {
    "duration": 11,
    "start_time": "2024-02-08T21:53:03.460Z"
   },
   {
    "duration": 12,
    "start_time": "2024-02-08T21:53:03.473Z"
   },
   {
    "duration": 6,
    "start_time": "2024-02-08T21:53:03.487Z"
   },
   {
    "duration": 32,
    "start_time": "2024-02-08T21:53:03.495Z"
   },
   {
    "duration": 8,
    "start_time": "2024-02-08T21:53:03.529Z"
   },
   {
    "duration": 8,
    "start_time": "2024-02-08T21:53:03.539Z"
   },
   {
    "duration": 6,
    "start_time": "2024-02-08T21:53:03.548Z"
   },
   {
    "duration": 26,
    "start_time": "2024-02-08T21:53:03.555Z"
   },
   {
    "duration": 170,
    "start_time": "2024-02-08T21:53:03.583Z"
   },
   {
    "duration": 5,
    "start_time": "2024-02-08T21:53:03.755Z"
   },
   {
    "duration": 109,
    "start_time": "2024-02-08T21:53:03.762Z"
   },
   {
    "duration": 7,
    "start_time": "2024-02-08T21:53:03.872Z"
   },
   {
    "duration": 200,
    "start_time": "2024-02-08T21:53:03.881Z"
   },
   {
    "duration": 9,
    "start_time": "2024-02-08T21:53:04.083Z"
   },
   {
    "duration": 11,
    "start_time": "2024-02-08T21:53:04.093Z"
   },
   {
    "duration": 226,
    "start_time": "2024-02-08T21:53:04.105Z"
   },
   {
    "duration": 393,
    "start_time": "2024-02-08T21:53:04.333Z"
   },
   {
    "duration": 6,
    "start_time": "2024-02-08T21:53:04.727Z"
   },
   {
    "duration": 5,
    "start_time": "2024-02-08T21:53:04.736Z"
   },
   {
    "duration": 11,
    "start_time": "2024-02-08T21:53:04.742Z"
   },
   {
    "duration": 9,
    "start_time": "2024-02-08T21:53:04.754Z"
   },
   {
    "duration": 16,
    "start_time": "2024-02-08T21:53:04.765Z"
   },
   {
    "duration": 62,
    "start_time": "2024-02-08T21:53:04.782Z"
   },
   {
    "duration": 7,
    "start_time": "2024-02-08T21:53:04.846Z"
   },
   {
    "duration": 18,
    "start_time": "2024-02-08T21:53:04.855Z"
   },
   {
    "duration": 8,
    "start_time": "2024-02-08T21:53:04.874Z"
   },
   {
    "duration": 42,
    "start_time": "2024-02-08T21:53:04.884Z"
   },
   {
    "duration": 340,
    "start_time": "2024-02-08T21:53:04.928Z"
   },
   {
    "duration": 441,
    "start_time": "2024-02-08T21:53:05.270Z"
   },
   {
    "duration": 16,
    "start_time": "2024-02-08T21:53:05.712Z"
   },
   {
    "duration": 6,
    "start_time": "2024-02-08T21:53:05.730Z"
   },
   {
    "duration": 52,
    "start_time": "2024-02-08T21:53:05.737Z"
   },
   {
    "duration": 8,
    "start_time": "2024-02-08T21:53:05.791Z"
   },
   {
    "duration": 48,
    "start_time": "2024-02-08T21:53:05.800Z"
   },
   {
    "duration": 4,
    "start_time": "2024-02-08T21:53:05.850Z"
   },
   {
    "duration": 6,
    "start_time": "2024-02-08T21:53:05.856Z"
   },
   {
    "duration": 14,
    "start_time": "2024-02-08T21:53:05.864Z"
   },
   {
    "duration": 5,
    "start_time": "2024-02-08T21:53:05.879Z"
   },
   {
    "duration": 5,
    "start_time": "2024-02-08T21:53:05.886Z"
   },
   {
    "duration": 40,
    "start_time": "2024-02-08T21:53:05.892Z"
   },
   {
    "duration": 171,
    "start_time": "2024-02-08T21:53:05.933Z"
   },
   {
    "duration": 154,
    "start_time": "2024-02-08T21:53:06.105Z"
   },
   {
    "duration": 167,
    "start_time": "2024-02-08T21:53:06.261Z"
   },
   {
    "duration": 1054,
    "start_time": "2024-02-14T23:48:27.216Z"
   },
   {
    "duration": 2,
    "start_time": "2024-02-14T23:48:28.272Z"
   },
   {
    "duration": 238,
    "start_time": "2024-02-14T23:48:28.276Z"
   },
   {
    "duration": 13,
    "start_time": "2024-02-14T23:48:28.515Z"
   },
   {
    "duration": 12,
    "start_time": "2024-02-14T23:48:28.531Z"
   },
   {
    "duration": 11,
    "start_time": "2024-02-14T23:48:28.545Z"
   },
   {
    "duration": 11,
    "start_time": "2024-02-14T23:48:28.558Z"
   },
   {
    "duration": 7,
    "start_time": "2024-02-14T23:48:28.571Z"
   },
   {
    "duration": 42,
    "start_time": "2024-02-14T23:48:28.579Z"
   },
   {
    "duration": 8,
    "start_time": "2024-02-14T23:48:28.623Z"
   },
   {
    "duration": 9,
    "start_time": "2024-02-14T23:48:28.632Z"
   },
   {
    "duration": 4,
    "start_time": "2024-02-14T23:48:28.642Z"
   },
   {
    "duration": 5,
    "start_time": "2024-02-14T23:48:28.647Z"
   },
   {
    "duration": 5,
    "start_time": "2024-02-14T23:48:28.654Z"
   },
   {
    "duration": 7,
    "start_time": "2024-02-14T23:48:28.660Z"
   },
   {
    "duration": 4,
    "start_time": "2024-02-14T23:48:28.668Z"
   },
   {
    "duration": 51,
    "start_time": "2024-02-14T23:48:28.673Z"
   },
   {
    "duration": 138,
    "start_time": "2024-02-14T23:48:28.725Z"
   },
   {
    "duration": 5,
    "start_time": "2024-02-14T23:48:28.864Z"
   },
   {
    "duration": 79,
    "start_time": "2024-02-14T23:48:28.871Z"
   },
   {
    "duration": 5,
    "start_time": "2024-02-14T23:48:28.952Z"
   },
   {
    "duration": 162,
    "start_time": "2024-02-14T23:48:28.958Z"
   },
   {
    "duration": 7,
    "start_time": "2024-02-14T23:48:29.121Z"
   },
   {
    "duration": 4,
    "start_time": "2024-02-14T23:48:29.130Z"
   },
   {
    "duration": 206,
    "start_time": "2024-02-14T23:48:29.135Z"
   },
   {
    "duration": 355,
    "start_time": "2024-02-14T23:48:29.343Z"
   },
   {
    "duration": 4,
    "start_time": "2024-02-14T23:48:29.699Z"
   },
   {
    "duration": 16,
    "start_time": "2024-02-14T23:48:29.705Z"
   },
   {
    "duration": 9,
    "start_time": "2024-02-14T23:48:29.722Z"
   },
   {
    "duration": 9,
    "start_time": "2024-02-14T23:48:29.732Z"
   },
   {
    "duration": 15,
    "start_time": "2024-02-14T23:48:29.742Z"
   },
   {
    "duration": 22,
    "start_time": "2024-02-14T23:48:29.758Z"
   },
   {
    "duration": 38,
    "start_time": "2024-02-14T23:48:29.782Z"
   },
   {
    "duration": 18,
    "start_time": "2024-02-14T23:48:29.822Z"
   },
   {
    "duration": 6,
    "start_time": "2024-02-14T23:48:29.842Z"
   },
   {
    "duration": 12,
    "start_time": "2024-02-14T23:48:29.850Z"
   },
   {
    "duration": 301,
    "start_time": "2024-02-14T23:48:29.864Z"
   },
   {
    "duration": 361,
    "start_time": "2024-02-14T23:48:30.166Z"
   },
   {
    "duration": 8,
    "start_time": "2024-02-14T23:48:30.529Z"
   },
   {
    "duration": 24,
    "start_time": "2024-02-14T23:48:30.539Z"
   },
   {
    "duration": 68,
    "start_time": "2024-02-14T23:48:30.567Z"
   },
   {
    "duration": 7,
    "start_time": "2024-02-14T23:48:30.637Z"
   },
   {
    "duration": 57,
    "start_time": "2024-02-14T23:48:30.645Z"
   },
   {
    "duration": 33,
    "start_time": "2024-02-14T23:48:30.704Z"
   },
   {
    "duration": 30,
    "start_time": "2024-02-14T23:48:30.739Z"
   },
   {
    "duration": 37,
    "start_time": "2024-02-14T23:48:30.771Z"
   },
   {
    "duration": 18,
    "start_time": "2024-02-14T23:48:30.809Z"
   },
   {
    "duration": 42,
    "start_time": "2024-02-14T23:48:30.828Z"
   },
   {
    "duration": 38,
    "start_time": "2024-02-14T23:48:30.872Z"
   },
   {
    "duration": 152,
    "start_time": "2024-02-14T23:48:30.911Z"
   },
   {
    "duration": 130,
    "start_time": "2024-02-14T23:48:31.065Z"
   },
   {
    "duration": 140,
    "start_time": "2024-02-14T23:48:31.196Z"
   },
   {
    "duration": 8,
    "start_time": "2024-02-14T23:48:48.915Z"
   }
  ],
  "kernelspec": {
   "display_name": "Python 3 (ipykernel)",
   "language": "python",
   "name": "python3"
  },
  "language_info": {
   "codemirror_mode": {
    "name": "ipython",
    "version": 3
   },
   "file_extension": ".py",
   "mimetype": "text/x-python",
   "name": "python",
   "nbconvert_exporter": "python",
   "pygments_lexer": "ipython3",
   "version": "3.9.18"
  },
  "toc": {
   "base_numbering": 1,
   "nav_menu": {
    "height": "522px",
    "width": "542px"
   },
   "number_sections": true,
   "sideBar": true,
   "skip_h1_title": true,
   "title_cell": "Table of Contents",
   "title_sidebar": "Contents",
   "toc_cell": false,
   "toc_position": {},
   "toc_section_display": true,
   "toc_window_display": false
  }
 },
 "nbformat": 4,
 "nbformat_minor": 5
}
